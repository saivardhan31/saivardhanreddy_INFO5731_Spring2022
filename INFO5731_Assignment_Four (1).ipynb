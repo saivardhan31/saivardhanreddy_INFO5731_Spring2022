{
  "cells": [
    {
      "cell_type": "markdown",
      "metadata": {
        "id": "view-in-github"
      },
      "source": [
        "<a href=\"https://colab.research.google.com/github/bhavya2810/Bhavya_INFO5731/blob/master/INFO5731_Assignment_Four.ipynb\" target=\"_parent\"><img src=\"https://colab.research.google.com/assets/colab-badge.svg\" alt=\"Open In Colab\"/></a>"
      ]
    },
    {
      "cell_type": "markdown",
      "metadata": {
        "id": "USSdXHuqnwv9"
      },
      "source": [
        "# **INFO5731 Assignment Four**\n",
        "\n",
        "In this assignment, you are required to conduct topic modeling, sentiment analysis, and regression analysis."
      ]
    },
    {
      "cell_type": "code",
      "source": [
        "!wget https://github.com/saivardhan31/saivardhanreddychalla_INFO5731_Spring2022/raw/main/sentiment-analysis-on-movie-reviews.zip\n",
        "!unzip sentiment-analysis-on-movie-reviews.zip\n",
        "!unzip test.tsv.zip\n",
        "!unzip train.tsv.zip"
      ],
      "metadata": {
        "colab": {
          "base_uri": "https://localhost:8080/"
        },
        "id": "aKQYIqJObGpF",
        "outputId": "cf9e779e-f681-40ae-e2c3-4c226b5f0eb0"
      },
      "execution_count": 1,
      "outputs": [
        {
          "output_type": "stream",
          "name": "stdout",
          "text": [
            "--2022-05-13 00:43:14--  https://github.com/saivardhan31/saivardhanreddychalla_INFO5731_Spring2022/raw/main/sentiment-analysis-on-movie-reviews.zip\n",
            "Resolving github.com (github.com)... 140.82.121.4\n",
            "Connecting to github.com (github.com)|140.82.121.4|:443... connected.\n",
            "HTTP request sent, awaiting response... 302 Found\n",
            "Location: https://raw.githubusercontent.com/saivardhan31/saivardhanreddychalla_INFO5731_Spring2022/main/sentiment-analysis-on-movie-reviews.zip [following]\n",
            "--2022-05-13 00:43:14--  https://raw.githubusercontent.com/saivardhan31/saivardhanreddychalla_INFO5731_Spring2022/main/sentiment-analysis-on-movie-reviews.zip\n",
            "Resolving raw.githubusercontent.com (raw.githubusercontent.com)... 185.199.108.133, 185.199.111.133, 185.199.109.133, ...\n",
            "Connecting to raw.githubusercontent.com (raw.githubusercontent.com)|185.199.108.133|:443... connected.\n",
            "HTTP request sent, awaiting response... 200 OK\n",
            "Length: 1991138 (1.9M) [application/zip]\n",
            "Saving to: ‘sentiment-analysis-on-movie-reviews.zip’\n",
            "\n",
            "sentiment-analysis- 100%[===================>]   1.90M  --.-KB/s    in 0.02s   \n",
            "\n",
            "2022-05-13 00:43:14 (79.6 MB/s) - ‘sentiment-analysis-on-movie-reviews.zip’ saved [1991138/1991138]\n",
            "\n",
            "Archive:  sentiment-analysis-on-movie-reviews.zip\n",
            "  inflating: sampleSubmission.csv    \n",
            "  inflating: test.tsv.zip            \n",
            "  inflating: train.tsv.zip           \n",
            "Archive:  test.tsv.zip\n",
            "  inflating: test.tsv                \n",
            "Archive:  train.tsv.zip\n",
            "  inflating: train.tsv               \n"
          ]
        }
      ]
    },
    {
      "cell_type": "markdown",
      "metadata": {
        "id": "YWxodXh5n4xF"
      },
      "source": [
        "# **Question 1: Topic Modeling**"
      ]
    },
    {
      "cell_type": "markdown",
      "metadata": {
        "id": "TenBkDJ5n95k"
      },
      "source": [
        "(30 points). This question is designed to help you develop a feel for the way topic modeling works, the connection to the human meanings of documents. Based on the dataset from assignment three, write a python program to **identify the top 10 topics in the dataset**. Before answering this question, please review the materials in lesson 8, especially the code for LDA and LSA. The following information should be reported:\n",
        "\n",
        "(1) Features (top n-gram phrases) used for topic modeling.\n",
        "\n",
        "(2) Top 10 clusters for topic modeling.\n",
        "\n",
        "(3) Summarize and describe the topic for each cluster. \n"
      ]
    },
    {
      "cell_type": "code",
      "execution_count": 2,
      "metadata": {
        "id": "AY6JPKRHxT2O"
      },
      "outputs": [],
      "source": [
        "import warnings\n",
        "warnings.filterwarnings(\"ignore\", category=DeprecationWarning)\n"
      ]
    },
    {
      "cell_type": "markdown",
      "metadata": {
        "id": "TjuLOeHh-m-P"
      },
      "source": [
        "# **Retreiving Dataset**"
      ]
    },
    {
      "cell_type": "markdown",
      "metadata": {
        "id": "ev5tD5Hw-vAy"
      },
      "source": [
        "# **Reading Data**"
      ]
    },
    {
      "cell_type": "code",
      "execution_count": 3,
      "metadata": {
        "id": "PuFPKhC0m1fd",
        "colab": {
          "base_uri": "https://localhost:8080/",
          "height": 424
        },
        "outputId": "9a11c473-d6ae-4269-b180-979460dc9e00"
      },
      "outputs": [
        {
          "output_type": "execute_result",
          "data": {
            "text/plain": [
              "       PhraseId  SentenceId  \\\n",
              "0             1           1   \n",
              "1             2           1   \n",
              "2             3           1   \n",
              "3             4           1   \n",
              "4             5           1   \n",
              "...         ...         ...   \n",
              "44995     44996        2183   \n",
              "44996     44997        2183   \n",
              "44997     44998        2183   \n",
              "44998     44999        2183   \n",
              "44999     45000        2183   \n",
              "\n",
              "                                                    text  label  \n",
              "0      A series of escapades demonstrating the adage ...      1  \n",
              "1      A series of escapades demonstrating the adage ...      2  \n",
              "2                                               A series      2  \n",
              "3                                                      A      2  \n",
              "4                                                 series      2  \n",
              "...                                                  ...    ...  \n",
              "44995                                           composed      2  \n",
              "44996          shots of Patch Adams quietly freaking out      2  \n",
              "44997                of Patch Adams quietly freaking out      3  \n",
              "44998                   Patch Adams quietly freaking out      2  \n",
              "44999                                        Patch Adams      2  \n",
              "\n",
              "[45000 rows x 4 columns]"
            ],
            "text/html": [
              "<div>\n",
              "<style scoped>\n",
              "    .dataframe tbody tr th:only-of-type {\n",
              "        vertical-align: middle;\n",
              "    }\n",
              "\n",
              "    .dataframe tbody tr th {\n",
              "        vertical-align: top;\n",
              "    }\n",
              "\n",
              "    .dataframe thead th {\n",
              "        text-align: right;\n",
              "    }\n",
              "</style>\n",
              "<table border=\"1\" class=\"dataframe\">\n",
              "  <thead>\n",
              "    <tr style=\"text-align: right;\">\n",
              "      <th></th>\n",
              "      <th>PhraseId</th>\n",
              "      <th>SentenceId</th>\n",
              "      <th>text</th>\n",
              "      <th>label</th>\n",
              "    </tr>\n",
              "  </thead>\n",
              "  <tbody>\n",
              "    <tr>\n",
              "      <th>0</th>\n",
              "      <td>1</td>\n",
              "      <td>1</td>\n",
              "      <td>A series of escapades demonstrating the adage ...</td>\n",
              "      <td>1</td>\n",
              "    </tr>\n",
              "    <tr>\n",
              "      <th>1</th>\n",
              "      <td>2</td>\n",
              "      <td>1</td>\n",
              "      <td>A series of escapades demonstrating the adage ...</td>\n",
              "      <td>2</td>\n",
              "    </tr>\n",
              "    <tr>\n",
              "      <th>2</th>\n",
              "      <td>3</td>\n",
              "      <td>1</td>\n",
              "      <td>A series</td>\n",
              "      <td>2</td>\n",
              "    </tr>\n",
              "    <tr>\n",
              "      <th>3</th>\n",
              "      <td>4</td>\n",
              "      <td>1</td>\n",
              "      <td>A</td>\n",
              "      <td>2</td>\n",
              "    </tr>\n",
              "    <tr>\n",
              "      <th>4</th>\n",
              "      <td>5</td>\n",
              "      <td>1</td>\n",
              "      <td>series</td>\n",
              "      <td>2</td>\n",
              "    </tr>\n",
              "    <tr>\n",
              "      <th>...</th>\n",
              "      <td>...</td>\n",
              "      <td>...</td>\n",
              "      <td>...</td>\n",
              "      <td>...</td>\n",
              "    </tr>\n",
              "    <tr>\n",
              "      <th>44995</th>\n",
              "      <td>44996</td>\n",
              "      <td>2183</td>\n",
              "      <td>composed</td>\n",
              "      <td>2</td>\n",
              "    </tr>\n",
              "    <tr>\n",
              "      <th>44996</th>\n",
              "      <td>44997</td>\n",
              "      <td>2183</td>\n",
              "      <td>shots of Patch Adams quietly freaking out</td>\n",
              "      <td>2</td>\n",
              "    </tr>\n",
              "    <tr>\n",
              "      <th>44997</th>\n",
              "      <td>44998</td>\n",
              "      <td>2183</td>\n",
              "      <td>of Patch Adams quietly freaking out</td>\n",
              "      <td>3</td>\n",
              "    </tr>\n",
              "    <tr>\n",
              "      <th>44998</th>\n",
              "      <td>44999</td>\n",
              "      <td>2183</td>\n",
              "      <td>Patch Adams quietly freaking out</td>\n",
              "      <td>2</td>\n",
              "    </tr>\n",
              "    <tr>\n",
              "      <th>44999</th>\n",
              "      <td>45000</td>\n",
              "      <td>2183</td>\n",
              "      <td>Patch Adams</td>\n",
              "      <td>2</td>\n",
              "    </tr>\n",
              "  </tbody>\n",
              "</table>\n",
              "<p>45000 rows × 4 columns</p>\n",
              "</div>"
            ]
          },
          "metadata": {},
          "execution_count": 3
        }
      ],
      "source": [
        "import pandas as pd\n",
        "data = pd.read_csv(\"train.tsv\", sep='\\t')\n",
        "data.rename(columns={\n",
        "    'Phrase': 'text',\n",
        "    'Sentiment': 'label'\n",
        "}, inplace=True)\n",
        "data= data.iloc[:45000]\n",
        "data\n"
      ]
    },
    {
      "cell_type": "markdown",
      "metadata": {
        "id": "lA-Y8C9j-51q"
      },
      "source": [
        "# **Data Cleaning**"
      ]
    },
    {
      "cell_type": "code",
      "execution_count": 4,
      "metadata": {
        "colab": {
          "base_uri": "https://localhost:8080/"
        },
        "id": "JZdxl8DBwcMV",
        "outputId": "62006263-e06d-4c09-91bf-ee60c5b865e9"
      },
      "outputs": [
        {
          "output_type": "stream",
          "name": "stdout",
          "text": [
            "Collecting stop_words\n",
            "  Downloading stop-words-2018.7.23.tar.gz (31 kB)\n",
            "Building wheels for collected packages: stop-words\n",
            "  Building wheel for stop-words (setup.py) ... \u001b[?25l\u001b[?25hdone\n",
            "  Created wheel for stop-words: filename=stop_words-2018.7.23-py3-none-any.whl size=32911 sha256=2263f34f24467816ec286051d3bb3d4b752bcf38c706e6513ed43393642f86e5\n",
            "  Stored in directory: /root/.cache/pip/wheels/fb/86/b2/277b10b1ce9f73ce15059bf6975d4547cc4ec3feeb651978e9\n",
            "Successfully built stop-words\n",
            "Installing collected packages: stop-words\n",
            "Successfully installed stop-words-2018.7.23\n"
          ]
        }
      ],
      "source": [
        "!pip install stop_words\n",
        "from nltk.tokenize import RegexpTokenizer\n",
        "from stop_words import get_stop_words\n",
        "from nltk.stem.porter import PorterStemmer\n",
        "tokenizer = RegexpTokenizer(r'\\w+')\n",
        "en_stop = get_stop_words('en')\n",
        "p_stemmer = PorterStemmer()\n"
      ]
    },
    {
      "cell_type": "code",
      "execution_count": 5,
      "metadata": {
        "id": "1nbqy-oTwuv8"
      },
      "outputs": [],
      "source": [
        "data['Lower Case'] = data['text'].apply(\n",
        "    lambda x: \" \".join(x.lower() for x in str(x).split()))\n",
        "data['Tokenization'] = data['Lower Case'].apply(\n",
        "    lambda x: tokenizer.tokenize(x))\n",
        "data['Tokens'] = data['Tokenization'].apply(\n",
        "    lambda x: [i for i in x if not i in en_stop])\n",
        "data['Stemming'] = data['Tokens'].apply(\n",
        "    lambda x: [p_stemmer.stem(i) for i in x])\n"
      ]
    },
    {
      "cell_type": "code",
      "execution_count": 6,
      "metadata": {
        "id": "Uq2H7SD70wB4"
      },
      "outputs": [],
      "source": [
        "texts = []\n",
        "for line in data['Stemming']:\n",
        "    texts.append(line)\n"
      ]
    },
    {
      "cell_type": "markdown",
      "metadata": {
        "id": "B-cJBt_s-9Pz"
      },
      "source": [
        "# **Bigrams and Trigrams**"
      ]
    },
    {
      "cell_type": "code",
      "execution_count": 7,
      "metadata": {
        "id": "dpHrTkjk0hq1",
        "colab": {
          "base_uri": "https://localhost:8080/"
        },
        "outputId": "80dcac96-6757-4d83-b1e8-2198a273e827"
      },
      "outputs": [
        {
          "output_type": "stream",
          "name": "stderr",
          "text": [
            "/usr/local/lib/python3.7/dist-packages/gensim/models/phrases.py:598: UserWarning: For a faster implementation, use the gensim.models.phrases.Phraser class\n",
            "  warnings.warn(\"For a faster implementation, use the gensim.models.phrases.Phraser class\")\n"
          ]
        },
        {
          "output_type": "stream",
          "name": "stdout",
          "text": [
            "['seri', 'escapad', 'demonstr', 'adag', 'good', 'goos', 'also', 'good', 'gander', 'occasion', 'amus', 'none', 'amount', 'much', 'stori']\n"
          ]
        }
      ],
      "source": [
        "from gensim import corpora, models\n",
        "bigram = models.Phrases(texts, min_count=5, threshold=100)\n",
        "trigram = models.Phrases(bigram[texts], threshold=100)\n",
        "bigram_mod = models.phrases.Phraser(bigram)\n",
        "trigram_mod = models.phrases.Phraser(trigram)\n",
        "print(trigram_mod[bigram_mod[texts[0]]])\n"
      ]
    },
    {
      "cell_type": "code",
      "execution_count": 8,
      "metadata": {
        "id": "v4ARsu4p1pSR"
      },
      "outputs": [],
      "source": [
        "def make_bigrams(texts):\n",
        "    return [bigram_mod[doc] for doc in texts]\n"
      ]
    },
    {
      "cell_type": "code",
      "execution_count": 9,
      "metadata": {
        "id": "NNnNhz6b1rdN"
      },
      "outputs": [],
      "source": [
        "def make_trigrams(texts):\n",
        "    return [trigram_mod[bigram_mod[doc]] for doc in texts]\n"
      ]
    },
    {
      "cell_type": "code",
      "execution_count": 10,
      "metadata": {
        "id": "VHDUGXON1xWi"
      },
      "outputs": [],
      "source": [
        "def lemmatization(texts, allowed_postags=['NOUN', 'ADJ', 'VERB', 'ADV']):\n",
        "    texts_out = []\n",
        "    for sent in texts:\n",
        "        doc = nlp(\" \".join(sent))\n",
        "        texts_out.append(\n",
        "            [token.lemma_ for token in doc if token.pos_ in allowed_postags])\n",
        "    return texts_out\n"
      ]
    },
    {
      "cell_type": "code",
      "execution_count": 11,
      "metadata": {
        "id": "L8RiPV0K2vsK",
        "colab": {
          "base_uri": "https://localhost:8080/"
        },
        "outputId": "beb1f59f-a328-4833-b33a-33d920c8c7cb"
      },
      "outputs": [
        {
          "output_type": "stream",
          "name": "stdout",
          "text": [
            "[['also', 'none', 'amount', 'much', 'stori']]\n"
          ]
        }
      ],
      "source": [
        "import spacy\n",
        "data_words_bigrams = make_bigrams(texts)\n",
        "nlp = spacy.load('en', disable=['parser', 'ner'])\n",
        "data_lemmatized = lemmatization(data_words_bigrams, allowed_postags=[\n",
        "                                'NOUN', 'ADJ', 'VERB', 'ADV'])\n",
        "print(data_lemmatized[:1])\n"
      ]
    },
    {
      "cell_type": "markdown",
      "metadata": {
        "id": "9OJIvxTV_BzC"
      },
      "source": [
        "# **Preparing Corpus and Dictionary**"
      ]
    },
    {
      "cell_type": "code",
      "execution_count": 12,
      "metadata": {
        "id": "vOqMoKR3yGmx",
        "colab": {
          "base_uri": "https://localhost:8080/"
        },
        "outputId": "ae0016a7-f326-48de-af7e-78d9c3ec23df"
      },
      "outputs": [
        {
          "output_type": "stream",
          "name": "stdout",
          "text": [
            "[[(0, 1), (1, 1), (2, 1), (3, 1), (4, 1)]]\n"
          ]
        }
      ],
      "source": [
        "id2word = corpora.Dictionary(data_lemmatized)\n",
        "texts = data_lemmatized\n",
        "corpus = [id2word.doc2bow(text) for text in texts]\n",
        "print(corpus[:1])\n"
      ]
    },
    {
      "cell_type": "code",
      "execution_count": 13,
      "metadata": {
        "id": "LCfhF-wE324I",
        "colab": {
          "base_uri": "https://localhost:8080/",
          "height": 36
        },
        "outputId": "c35daf6b-5d6b-43a0-e8a1-280bd926d0d6"
      },
      "outputs": [
        {
          "output_type": "execute_result",
          "data": {
            "text/plain": [
              "'also'"
            ],
            "application/vnd.google.colaboratory.intrinsic+json": {
              "type": "string"
            }
          },
          "metadata": {},
          "execution_count": 13
        }
      ],
      "source": [
        "id2word[0]\n"
      ]
    },
    {
      "cell_type": "code",
      "execution_count": 14,
      "metadata": {
        "id": "vIVNxeX637TF",
        "colab": {
          "base_uri": "https://localhost:8080/"
        },
        "outputId": "99ed31f2-c97b-470a-814d-84f249529e94"
      },
      "outputs": [
        {
          "output_type": "execute_result",
          "data": {
            "text/plain": [
              "[[('also', 1), ('amount', 1), ('much', 1), ('none', 1), ('stori', 1)]]"
            ]
          },
          "metadata": {},
          "execution_count": 14
        }
      ],
      "source": [
        "[[(id2word[id], freq) for id, freq in cp] for cp in corpus[:1]]\n"
      ]
    },
    {
      "cell_type": "markdown",
      "metadata": {
        "id": "Z7IYl6x6_I4k"
      },
      "source": [
        "# **LDA**"
      ]
    },
    {
      "cell_type": "code",
      "execution_count": 15,
      "metadata": {
        "id": "4Q-h8373ziS6"
      },
      "outputs": [],
      "source": [
        "lda_model = models.ldamodel.LdaModel(corpus=corpus,\n",
        "                                     id2word=id2word,\n",
        "                                     num_topics=20,\n",
        "                                     random_state=100,\n",
        "                                     update_every=1,\n",
        "                                     chunksize=100,\n",
        "                                     passes=10,\n",
        "                                     alpha='auto',\n",
        "                                     per_word_topics=True)\n"
      ]
    },
    {
      "cell_type": "code",
      "execution_count": 16,
      "metadata": {
        "id": "_WLkOiLe36ok",
        "colab": {
          "base_uri": "https://localhost:8080/"
        },
        "outputId": "74d771e2-fe15-4936-c48d-c9ebe4576ade"
      },
      "outputs": [
        {
          "output_type": "stream",
          "name": "stdout",
          "text": [
            "[(0,\n",
            "  '0.102*\"life\" + 0.063*\"treatment\" + 0.058*\"level\" + 0.055*\"wrong\" + '\n",
            "  '0.051*\"usual\" + 0.040*\"rise\" + 0.034*\"video\" + 0.032*\"cut\" + '\n",
            "  '0.032*\"subject\" + 0.029*\"place\"'),\n",
            " (1,\n",
            "  '0.160*\"give\" + 0.143*\"come\" + 0.098*\"lot\" + 0.080*\"minut\" + 0.042*\"get\" + '\n",
            "  '0.028*\"passion\" + 0.020*\"ride\" + 0.019*\"age\" + 0.019*\"distinct\" + '\n",
            "  '0.019*\"crime\"'),\n",
            " (2,\n",
            "  '0.134*\"half\" + 0.133*\"shoot\" + 0.067*\"notwithstand\" + 0.064*\"bad\" + '\n",
            "  '0.056*\"sell\" + 0.037*\"also\" + 0.036*\"right\" + 0.031*\"set\" + 0.028*\"talent\" '\n",
            "  '+ 0.027*\"consider\"'),\n",
            " (3,\n",
            "  '0.086*\"charact\" + 0.078*\"drama\" + 0.063*\"self\" + 0.062*\"adult\" + '\n",
            "  '0.062*\"perform\" + 0.045*\"titl\" + 0.045*\"woman\" + 0.038*\"concern\" + '\n",
            "  '0.038*\"heart\" + 0.034*\"script\"'),\n",
            " (4,\n",
            "  '0.135*\"much\" + 0.111*\"movi\" + 0.069*\"littl\" + 0.066*\"complet\" + '\n",
            "  '0.065*\"tell\" + 0.063*\"will\" + 0.060*\"take\" + 0.046*\"stori\" + 0.030*\"care\" + '\n",
            "  '0.020*\"entertain\"'),\n",
            " (5,\n",
            "  '0.213*\"look\" + 0.095*\"young\" + 0.064*\"valu\" + 0.061*\"watch\" + 0.055*\"plot\" '\n",
            "  '+ 0.050*\"comedi\" + 0.048*\"fall\" + 0.029*\"pace\" + 0.029*\"mean\" + '\n",
            "  '0.027*\"slow\"'),\n",
            " (6,\n",
            "  '0.106*\"first\" + 0.080*\"man\" + 0.075*\"familiar\" + 0.070*\"know\" + '\n",
            "  '0.054*\"delight\" + 0.049*\"happen\" + 0.048*\"peopl\" + 0.037*\"would\" + '\n",
            "  '0.033*\"action\" + 0.028*\"grow\"'),\n",
            " (7,\n",
            "  '0.177*\"make\" + 0.092*\"year\" + 0.062*\"long\" + 0.055*\"big\" + 0.049*\"enough\" + '\n",
            "  '0.048*\"screen\" + 0.044*\"shameless\" + 0.032*\"parent\" + 0.031*\"next\" + '\n",
            "  '0.026*\"ca\"'),\n",
            " (8,\n",
            "  '0.143*\"feel\" + 0.084*\"end\" + 0.054*\"turn\" + 0.052*\"short\" + 0.049*\"full\" + '\n",
            "  '0.031*\"understand\" + 0.031*\"probabl\" + 0.027*\"act\" + 0.026*\"pictur\" + '\n",
            "  '0.023*\"rather\"'),\n",
            " (9,\n",
            "  '0.139*\"rrb\" + 0.080*\"s\" + 0.075*\"lrb\" + 0.068*\"need\" + 0.061*\"less\" + '\n",
            "  '0.054*\"human\" + 0.053*\"line\" + 0.037*\"still\" + 0.030*\"true\" + '\n",
            "  '0.028*\"condit\"'),\n",
            " (10,\n",
            "  '0.156*\"real\" + 0.156*\"just\" + 0.078*\"art\" + 0.065*\"thing\" + 0.053*\"lead\" + '\n",
            "  '0.039*\"work\" + 0.035*\"star\" + 0.029*\"inject\" + 0.025*\"concept\" + '\n",
            "  '0.024*\"dramat\"'),\n",
            " (11,\n",
            "  '0.210*\"film\" + 0.142*\"time\" + 0.061*\"bit\" + 0.031*\"deserv\" + 0.030*\"think\" '\n",
            "  '+ 0.024*\"portrait\" + 0.020*\"idea\" + 0.020*\"old\" + 0.017*\"clear\" + '\n",
            "  '0.017*\"margin\"'),\n",
            " (12,\n",
            "  '0.168*\"never\" + 0.074*\"win\" + 0.058*\"go\" + 0.049*\"hour\" + 0.045*\"vital\" + '\n",
            "  '0.040*\"sexual\" + 0.039*\"small\" + 0.037*\"anoth\" + 0.027*\"success\" + '\n",
            "  '0.024*\"mind\"'),\n",
            " (13,\n",
            "  '0.073*\"fail\" + 0.068*\"run\" + 0.057*\"do\" + 0.053*\"fact\" + 0.047*\"second\" + '\n",
            "  '0.035*\"matter\" + 0.034*\"ghost\" + 0.034*\"beauti\" + 0.030*\"chemistri\" + '\n",
            "  '0.025*\"rest\"'),\n",
            " (14,\n",
            "  '0.157*\"good\" + 0.084*\"child\" + 0.083*\"can\" + 0.079*\"want\" + 0.063*\"spend\" + '\n",
            "  '0.054*\"someth\" + 0.047*\"find\" + 0.042*\"say\" + 0.035*\"help\" + 0.022*\"enjoy\"'),\n",
            " (15,\n",
            "  '0.082*\"direct\" + 0.078*\"fascin\" + 0.062*\"least\" + 0.057*\"realiz\" + '\n",
            "  '0.049*\"filmmak\" + 0.048*\"writer\" + 0.041*\"keep\" + 0.038*\"power\" + '\n",
            "  '0.036*\"date\" + 0.035*\"visual\"'),\n",
            " (16,\n",
            "  '0.169*\"see\" + 0.112*\"t\" + 0.092*\"may\" + 0.089*\"far\" + 0.058*\"hand\" + '\n",
            "  '0.047*\"n\" + 0.047*\"world\" + 0.041*\"wo\" + 0.034*\"point\" + 0.028*\"often\"'),\n",
            " (17,\n",
            "  '0.086*\"speak\" + 0.071*\"situat\" + 0.067*\"depend\" + 0.056*\"new\" + '\n",
            "  '0.050*\"music\" + 0.045*\"cour\" + 0.045*\"develop\" + 0.040*\"career\" + '\n",
            "  '0.039*\"plain\" + 0.036*\"matur\"'),\n",
            " (18,\n",
            "  '0.131*\"well\" + 0.102*\"demand\" + 0.084*\"special\" + 0.060*\"last\" + '\n",
            "  '0.058*\"love\" + 0.036*\"friendship\" + 0.035*\"style\" + 0.026*\"inconsequenti\" + '\n",
            "  '0.025*\"confid\" + 0.023*\"secret\"'),\n",
            " (19,\n",
            "  '0.178*\"even\" + 0.054*\"worth\" + 0.051*\"moment\" + 0.041*\"kid\" + 0.040*\"fare\" '\n",
            "  '+ 0.037*\"theme\" + 0.030*\"lack\" + 0.029*\"plea\" + 0.029*\"monster\" + '\n",
            "  '0.025*\"move\"')]\n"
          ]
        }
      ],
      "source": [
        "from pprint import pprint\n",
        "pprint(lda_model.print_topics())\n",
        "doc_lda = lda_model[corpus]\n"
      ]
    },
    {
      "cell_type": "code",
      "execution_count": 17,
      "metadata": {
        "id": "YyAwfd-447yp",
        "colab": {
          "base_uri": "https://localhost:8080/"
        },
        "outputId": "1aec69cc-1cdb-4b4a-938a-c4b4872d170e"
      },
      "outputs": [
        {
          "output_type": "stream",
          "name": "stdout",
          "text": [
            "\n",
            "Perplexity:  -10.476246866297448\n",
            "\n",
            "Coherence Score:  0.6381828688425859\n"
          ]
        }
      ],
      "source": [
        "from gensim.models import CoherenceModel\n",
        "print('\\nPerplexity: ', lda_model.log_perplexity(corpus))\n",
        "coherence_model_lda = CoherenceModel(\n",
        "    model=lda_model, texts=data_lemmatized, dictionary=id2word, coherence='c_v')\n",
        "coherence_lda = coherence_model_lda.get_coherence()\n",
        "print('\\nCoherence Score: ', coherence_lda)\n"
      ]
    },
    {
      "cell_type": "markdown",
      "metadata": {
        "id": "wGI9DXwD_NVL"
      },
      "source": [
        "# **Visualization using pyLDAvis**"
      ]
    },
    {
      "cell_type": "code",
      "execution_count": 18,
      "metadata": {
        "id": "K9lXN_hQ5DLy",
        "colab": {
          "base_uri": "https://localhost:8080/",
          "height": 1000
        },
        "outputId": "d1453768-dcfc-48e7-aa82-775269f46811"
      },
      "outputs": [
        {
          "output_type": "stream",
          "name": "stdout",
          "text": [
            "Collecting pyLDAvis\n",
            "  Downloading pyLDAvis-3.3.1.tar.gz (1.7 MB)\n",
            "\u001b[?25l\r\u001b[K     |▏                               | 10 kB 26.0 MB/s eta 0:00:01\r\u001b[K     |▍                               | 20 kB 33.6 MB/s eta 0:00:01\r\u001b[K     |▋                               | 30 kB 29.8 MB/s eta 0:00:01\r\u001b[K     |▉                               | 40 kB 14.8 MB/s eta 0:00:01\r\u001b[K     |█                               | 51 kB 11.1 MB/s eta 0:00:01\r\u001b[K     |█▏                              | 61 kB 12.9 MB/s eta 0:00:01\r\u001b[K     |█▍                              | 71 kB 14.1 MB/s eta 0:00:01\r\u001b[K     |█▋                              | 81 kB 14.0 MB/s eta 0:00:01\r\u001b[K     |█▉                              | 92 kB 15.5 MB/s eta 0:00:01\r\u001b[K     |██                              | 102 kB 14.0 MB/s eta 0:00:01\r\u001b[K     |██▏                             | 112 kB 14.0 MB/s eta 0:00:01\r\u001b[K     |██▍                             | 122 kB 14.0 MB/s eta 0:00:01\r\u001b[K     |██▋                             | 133 kB 14.0 MB/s eta 0:00:01\r\u001b[K     |██▊                             | 143 kB 14.0 MB/s eta 0:00:01\r\u001b[K     |███                             | 153 kB 14.0 MB/s eta 0:00:01\r\u001b[K     |███▏                            | 163 kB 14.0 MB/s eta 0:00:01\r\u001b[K     |███▍                            | 174 kB 14.0 MB/s eta 0:00:01\r\u001b[K     |███▋                            | 184 kB 14.0 MB/s eta 0:00:01\r\u001b[K     |███▊                            | 194 kB 14.0 MB/s eta 0:00:01\r\u001b[K     |████                            | 204 kB 14.0 MB/s eta 0:00:01\r\u001b[K     |████▏                           | 215 kB 14.0 MB/s eta 0:00:01\r\u001b[K     |████▍                           | 225 kB 14.0 MB/s eta 0:00:01\r\u001b[K     |████▋                           | 235 kB 14.0 MB/s eta 0:00:01\r\u001b[K     |████▊                           | 245 kB 14.0 MB/s eta 0:00:01\r\u001b[K     |█████                           | 256 kB 14.0 MB/s eta 0:00:01\r\u001b[K     |█████▏                          | 266 kB 14.0 MB/s eta 0:00:01\r\u001b[K     |█████▍                          | 276 kB 14.0 MB/s eta 0:00:01\r\u001b[K     |█████▌                          | 286 kB 14.0 MB/s eta 0:00:01\r\u001b[K     |█████▊                          | 296 kB 14.0 MB/s eta 0:00:01\r\u001b[K     |██████                          | 307 kB 14.0 MB/s eta 0:00:01\r\u001b[K     |██████▏                         | 317 kB 14.0 MB/s eta 0:00:01\r\u001b[K     |██████▍                         | 327 kB 14.0 MB/s eta 0:00:01\r\u001b[K     |██████▌                         | 337 kB 14.0 MB/s eta 0:00:01\r\u001b[K     |██████▊                         | 348 kB 14.0 MB/s eta 0:00:01\r\u001b[K     |███████                         | 358 kB 14.0 MB/s eta 0:00:01\r\u001b[K     |███████▏                        | 368 kB 14.0 MB/s eta 0:00:01\r\u001b[K     |███████▎                        | 378 kB 14.0 MB/s eta 0:00:01\r\u001b[K     |███████▌                        | 389 kB 14.0 MB/s eta 0:00:01\r\u001b[K     |███████▊                        | 399 kB 14.0 MB/s eta 0:00:01\r\u001b[K     |████████                        | 409 kB 14.0 MB/s eta 0:00:01\r\u001b[K     |████████▏                       | 419 kB 14.0 MB/s eta 0:00:01\r\u001b[K     |████████▎                       | 430 kB 14.0 MB/s eta 0:00:01\r\u001b[K     |████████▌                       | 440 kB 14.0 MB/s eta 0:00:01\r\u001b[K     |████████▊                       | 450 kB 14.0 MB/s eta 0:00:01\r\u001b[K     |█████████                       | 460 kB 14.0 MB/s eta 0:00:01\r\u001b[K     |█████████▏                      | 471 kB 14.0 MB/s eta 0:00:01\r\u001b[K     |█████████▎                      | 481 kB 14.0 MB/s eta 0:00:01\r\u001b[K     |█████████▌                      | 491 kB 14.0 MB/s eta 0:00:01\r\u001b[K     |█████████▊                      | 501 kB 14.0 MB/s eta 0:00:01\r\u001b[K     |██████████                      | 512 kB 14.0 MB/s eta 0:00:01\r\u001b[K     |██████████                      | 522 kB 14.0 MB/s eta 0:00:01\r\u001b[K     |██████████▎                     | 532 kB 14.0 MB/s eta 0:00:01\r\u001b[K     |██████████▌                     | 542 kB 14.0 MB/s eta 0:00:01\r\u001b[K     |██████████▊                     | 552 kB 14.0 MB/s eta 0:00:01\r\u001b[K     |███████████                     | 563 kB 14.0 MB/s eta 0:00:01\r\u001b[K     |███████████                     | 573 kB 14.0 MB/s eta 0:00:01\r\u001b[K     |███████████▎                    | 583 kB 14.0 MB/s eta 0:00:01\r\u001b[K     |███████████▌                    | 593 kB 14.0 MB/s eta 0:00:01\r\u001b[K     |███████████▊                    | 604 kB 14.0 MB/s eta 0:00:01\r\u001b[K     |███████████▉                    | 614 kB 14.0 MB/s eta 0:00:01\r\u001b[K     |████████████                    | 624 kB 14.0 MB/s eta 0:00:01\r\u001b[K     |████████████▎                   | 634 kB 14.0 MB/s eta 0:00:01\r\u001b[K     |████████████▌                   | 645 kB 14.0 MB/s eta 0:00:01\r\u001b[K     |████████████▊                   | 655 kB 14.0 MB/s eta 0:00:01\r\u001b[K     |████████████▉                   | 665 kB 14.0 MB/s eta 0:00:01\r\u001b[K     |█████████████                   | 675 kB 14.0 MB/s eta 0:00:01\r\u001b[K     |█████████████▎                  | 686 kB 14.0 MB/s eta 0:00:01\r\u001b[K     |█████████████▌                  | 696 kB 14.0 MB/s eta 0:00:01\r\u001b[K     |█████████████▊                  | 706 kB 14.0 MB/s eta 0:00:01\r\u001b[K     |█████████████▉                  | 716 kB 14.0 MB/s eta 0:00:01\r\u001b[K     |██████████████                  | 727 kB 14.0 MB/s eta 0:00:01\r\u001b[K     |██████████████▎                 | 737 kB 14.0 MB/s eta 0:00:01\r\u001b[K     |██████████████▌                 | 747 kB 14.0 MB/s eta 0:00:01\r\u001b[K     |██████████████▋                 | 757 kB 14.0 MB/s eta 0:00:01\r\u001b[K     |██████████████▉                 | 768 kB 14.0 MB/s eta 0:00:01\r\u001b[K     |███████████████                 | 778 kB 14.0 MB/s eta 0:00:01\r\u001b[K     |███████████████▎                | 788 kB 14.0 MB/s eta 0:00:01\r\u001b[K     |███████████████▌                | 798 kB 14.0 MB/s eta 0:00:01\r\u001b[K     |███████████████▋                | 808 kB 14.0 MB/s eta 0:00:01\r\u001b[K     |███████████████▉                | 819 kB 14.0 MB/s eta 0:00:01\r\u001b[K     |████████████████                | 829 kB 14.0 MB/s eta 0:00:01\r\u001b[K     |████████████████▎               | 839 kB 14.0 MB/s eta 0:00:01\r\u001b[K     |████████████████▍               | 849 kB 14.0 MB/s eta 0:00:01\r\u001b[K     |████████████████▋               | 860 kB 14.0 MB/s eta 0:00:01\r\u001b[K     |████████████████▉               | 870 kB 14.0 MB/s eta 0:00:01\r\u001b[K     |█████████████████               | 880 kB 14.0 MB/s eta 0:00:01\r\u001b[K     |█████████████████▎              | 890 kB 14.0 MB/s eta 0:00:01\r\u001b[K     |█████████████████▍              | 901 kB 14.0 MB/s eta 0:00:01\r\u001b[K     |█████████████████▋              | 911 kB 14.0 MB/s eta 0:00:01\r\u001b[K     |█████████████████▉              | 921 kB 14.0 MB/s eta 0:00:01\r\u001b[K     |██████████████████              | 931 kB 14.0 MB/s eta 0:00:01\r\u001b[K     |██████████████████▎             | 942 kB 14.0 MB/s eta 0:00:01\r\u001b[K     |██████████████████▍             | 952 kB 14.0 MB/s eta 0:00:01\r\u001b[K     |██████████████████▋             | 962 kB 14.0 MB/s eta 0:00:01\r\u001b[K     |██████████████████▉             | 972 kB 14.0 MB/s eta 0:00:01\r\u001b[K     |███████████████████             | 983 kB 14.0 MB/s eta 0:00:01\r\u001b[K     |███████████████████▏            | 993 kB 14.0 MB/s eta 0:00:01\r\u001b[K     |███████████████████▍            | 1.0 MB 14.0 MB/s eta 0:00:01\r\u001b[K     |███████████████████▋            | 1.0 MB 14.0 MB/s eta 0:00:01\r\u001b[K     |███████████████████▉            | 1.0 MB 14.0 MB/s eta 0:00:01\r\u001b[K     |████████████████████            | 1.0 MB 14.0 MB/s eta 0:00:01\r\u001b[K     |████████████████████▏           | 1.0 MB 14.0 MB/s eta 0:00:01\r\u001b[K     |████████████████████▍           | 1.1 MB 14.0 MB/s eta 0:00:01\r\u001b[K     |████████████████████▋           | 1.1 MB 14.0 MB/s eta 0:00:01\r\u001b[K     |████████████████████▉           | 1.1 MB 14.0 MB/s eta 0:00:01\r\u001b[K     |█████████████████████           | 1.1 MB 14.0 MB/s eta 0:00:01\r\u001b[K     |█████████████████████▏          | 1.1 MB 14.0 MB/s eta 0:00:01\r\u001b[K     |█████████████████████▍          | 1.1 MB 14.0 MB/s eta 0:00:01\r\u001b[K     |█████████████████████▋          | 1.1 MB 14.0 MB/s eta 0:00:01\r\u001b[K     |█████████████████████▉          | 1.1 MB 14.0 MB/s eta 0:00:01\r\u001b[K     |██████████████████████          | 1.1 MB 14.0 MB/s eta 0:00:01\r\u001b[K     |██████████████████████▏         | 1.1 MB 14.0 MB/s eta 0:00:01\r\u001b[K     |██████████████████████▍         | 1.2 MB 14.0 MB/s eta 0:00:01\r\u001b[K     |██████████████████████▋         | 1.2 MB 14.0 MB/s eta 0:00:01\r\u001b[K     |██████████████████████▉         | 1.2 MB 14.0 MB/s eta 0:00:01\r\u001b[K     |███████████████████████         | 1.2 MB 14.0 MB/s eta 0:00:01\r\u001b[K     |███████████████████████▏        | 1.2 MB 14.0 MB/s eta 0:00:01\r\u001b[K     |███████████████████████▍        | 1.2 MB 14.0 MB/s eta 0:00:01\r\u001b[K     |███████████████████████▋        | 1.2 MB 14.0 MB/s eta 0:00:01\r\u001b[K     |███████████████████████▊        | 1.2 MB 14.0 MB/s eta 0:00:01\r\u001b[K     |████████████████████████        | 1.2 MB 14.0 MB/s eta 0:00:01\r\u001b[K     |████████████████████████▏       | 1.2 MB 14.0 MB/s eta 0:00:01\r\u001b[K     |████████████████████████▍       | 1.3 MB 14.0 MB/s eta 0:00:01\r\u001b[K     |████████████████████████▋       | 1.3 MB 14.0 MB/s eta 0:00:01\r\u001b[K     |████████████████████████▊       | 1.3 MB 14.0 MB/s eta 0:00:01\r\u001b[K     |█████████████████████████       | 1.3 MB 14.0 MB/s eta 0:00:01\r\u001b[K     |█████████████████████████▏      | 1.3 MB 14.0 MB/s eta 0:00:01\r\u001b[K     |█████████████████████████▍      | 1.3 MB 14.0 MB/s eta 0:00:01\r\u001b[K     |█████████████████████████▌      | 1.3 MB 14.0 MB/s eta 0:00:01\r\u001b[K     |█████████████████████████▊      | 1.3 MB 14.0 MB/s eta 0:00:01\r\u001b[K     |██████████████████████████      | 1.3 MB 14.0 MB/s eta 0:00:01\r\u001b[K     |██████████████████████████▏     | 1.4 MB 14.0 MB/s eta 0:00:01\r\u001b[K     |██████████████████████████▍     | 1.4 MB 14.0 MB/s eta 0:00:01\r\u001b[K     |██████████████████████████▌     | 1.4 MB 14.0 MB/s eta 0:00:01\r\u001b[K     |██████████████████████████▊     | 1.4 MB 14.0 MB/s eta 0:00:01\r\u001b[K     |███████████████████████████     | 1.4 MB 14.0 MB/s eta 0:00:01\r\u001b[K     |███████████████████████████▏    | 1.4 MB 14.0 MB/s eta 0:00:01\r\u001b[K     |███████████████████████████▍    | 1.4 MB 14.0 MB/s eta 0:00:01\r\u001b[K     |███████████████████████████▌    | 1.4 MB 14.0 MB/s eta 0:00:01\r\u001b[K     |███████████████████████████▊    | 1.4 MB 14.0 MB/s eta 0:00:01\r\u001b[K     |████████████████████████████    | 1.4 MB 14.0 MB/s eta 0:00:01\r\u001b[K     |████████████████████████████▏   | 1.5 MB 14.0 MB/s eta 0:00:01\r\u001b[K     |████████████████████████████▎   | 1.5 MB 14.0 MB/s eta 0:00:01\r\u001b[K     |████████████████████████████▌   | 1.5 MB 14.0 MB/s eta 0:00:01\r\u001b[K     |████████████████████████████▊   | 1.5 MB 14.0 MB/s eta 0:00:01\r\u001b[K     |█████████████████████████████   | 1.5 MB 14.0 MB/s eta 0:00:01\r\u001b[K     |█████████████████████████████▏  | 1.5 MB 14.0 MB/s eta 0:00:01\r\u001b[K     |█████████████████████████████▎  | 1.5 MB 14.0 MB/s eta 0:00:01\r\u001b[K     |█████████████████████████████▌  | 1.5 MB 14.0 MB/s eta 0:00:01\r\u001b[K     |█████████████████████████████▊  | 1.5 MB 14.0 MB/s eta 0:00:01\r\u001b[K     |██████████████████████████████  | 1.5 MB 14.0 MB/s eta 0:00:01\r\u001b[K     |██████████████████████████████▏ | 1.6 MB 14.0 MB/s eta 0:00:01\r\u001b[K     |██████████████████████████████▎ | 1.6 MB 14.0 MB/s eta 0:00:01\r\u001b[K     |██████████████████████████████▌ | 1.6 MB 14.0 MB/s eta 0:00:01\r\u001b[K     |██████████████████████████████▊ | 1.6 MB 14.0 MB/s eta 0:00:01\r\u001b[K     |███████████████████████████████ | 1.6 MB 14.0 MB/s eta 0:00:01\r\u001b[K     |███████████████████████████████ | 1.6 MB 14.0 MB/s eta 0:00:01\r\u001b[K     |███████████████████████████████▎| 1.6 MB 14.0 MB/s eta 0:00:01\r\u001b[K     |███████████████████████████████▌| 1.6 MB 14.0 MB/s eta 0:00:01\r\u001b[K     |███████████████████████████████▊| 1.6 MB 14.0 MB/s eta 0:00:01\r\u001b[K     |████████████████████████████████| 1.6 MB 14.0 MB/s eta 0:00:01\r\u001b[K     |████████████████████████████████| 1.7 MB 14.0 MB/s \n",
            "\u001b[?25h  Installing build dependencies ... \u001b[?25l\u001b[?25hdone\n",
            "  Getting requirements to build wheel ... \u001b[?25l\u001b[?25hdone\n",
            "  Installing backend dependencies ... \u001b[?25l\u001b[?25hdone\n",
            "    Preparing wheel metadata ... \u001b[?25l\u001b[?25hdone\n",
            "Requirement already satisfied: setuptools in /usr/local/lib/python3.7/dist-packages (from pyLDAvis) (57.4.0)\n",
            "Requirement already satisfied: numpy>=1.20.0 in /usr/local/lib/python3.7/dist-packages (from pyLDAvis) (1.21.6)\n",
            "Requirement already satisfied: joblib in /usr/local/lib/python3.7/dist-packages (from pyLDAvis) (1.1.0)\n",
            "Requirement already satisfied: scikit-learn in /usr/local/lib/python3.7/dist-packages (from pyLDAvis) (1.0.2)\n",
            "Requirement already satisfied: pandas>=1.2.0 in /usr/local/lib/python3.7/dist-packages (from pyLDAvis) (1.3.5)\n",
            "Collecting funcy\n",
            "  Downloading funcy-1.17-py2.py3-none-any.whl (33 kB)\n",
            "Requirement already satisfied: future in /usr/local/lib/python3.7/dist-packages (from pyLDAvis) (0.16.0)\n",
            "Requirement already satisfied: numexpr in /usr/local/lib/python3.7/dist-packages (from pyLDAvis) (2.8.1)\n",
            "Requirement already satisfied: sklearn in /usr/local/lib/python3.7/dist-packages (from pyLDAvis) (0.0)\n",
            "Requirement already satisfied: gensim in /usr/local/lib/python3.7/dist-packages (from pyLDAvis) (3.6.0)\n",
            "Requirement already satisfied: scipy in /usr/local/lib/python3.7/dist-packages (from pyLDAvis) (1.4.1)\n",
            "Requirement already satisfied: jinja2 in /usr/local/lib/python3.7/dist-packages (from pyLDAvis) (2.11.3)\n",
            "Requirement already satisfied: python-dateutil>=2.7.3 in /usr/local/lib/python3.7/dist-packages (from pandas>=1.2.0->pyLDAvis) (2.8.2)\n",
            "Requirement already satisfied: pytz>=2017.3 in /usr/local/lib/python3.7/dist-packages (from pandas>=1.2.0->pyLDAvis) (2022.1)\n",
            "Requirement already satisfied: six>=1.5 in /usr/local/lib/python3.7/dist-packages (from python-dateutil>=2.7.3->pandas>=1.2.0->pyLDAvis) (1.15.0)\n",
            "Requirement already satisfied: smart-open>=1.2.1 in /usr/local/lib/python3.7/dist-packages (from gensim->pyLDAvis) (6.0.0)\n",
            "Requirement already satisfied: MarkupSafe>=0.23 in /usr/local/lib/python3.7/dist-packages (from jinja2->pyLDAvis) (2.0.1)\n",
            "Requirement already satisfied: packaging in /usr/local/lib/python3.7/dist-packages (from numexpr->pyLDAvis) (21.3)\n",
            "Requirement already satisfied: pyparsing!=3.0.5,>=2.0.2 in /usr/local/lib/python3.7/dist-packages (from packaging->numexpr->pyLDAvis) (3.0.8)\n",
            "Requirement already satisfied: threadpoolctl>=2.0.0 in /usr/local/lib/python3.7/dist-packages (from scikit-learn->pyLDAvis) (3.1.0)\n",
            "Building wheels for collected packages: pyLDAvis\n",
            "  Building wheel for pyLDAvis (PEP 517) ... \u001b[?25l\u001b[?25hdone\n",
            "  Created wheel for pyLDAvis: filename=pyLDAvis-3.3.1-py2.py3-none-any.whl size=136898 sha256=14b0accc37cfe2aa25e9523626d1ce5955ed48d156c17567f738db9dd86187ea\n",
            "  Stored in directory: /root/.cache/pip/wheels/c9/21/f6/17bcf2667e8a68532ba2fbf6d5c72fdf4c7f7d9abfa4852d2f\n",
            "Successfully built pyLDAvis\n",
            "Installing collected packages: funcy, pyLDAvis\n",
            "Successfully installed funcy-1.17 pyLDAvis-3.3.1\n"
          ]
        },
        {
          "output_type": "stream",
          "name": "stderr",
          "text": [
            "/usr/local/lib/python3.7/dist-packages/past/types/oldstr.py:5: DeprecationWarning: Using or importing the ABCs from 'collections' instead of from 'collections.abc' is deprecated since Python 3.3,and in 3.9 it will stop working\n",
            "  from collections import Iterable\n",
            "/usr/local/lib/python3.7/dist-packages/pyLDAvis/_prepare.py:247: FutureWarning: In a future version of pandas all arguments of DataFrame.drop except for the argument 'labels' will be keyword-only\n",
            "  by='saliency', ascending=False).head(R).drop('saliency', 1)\n"
          ]
        },
        {
          "output_type": "execute_result",
          "data": {
            "text/plain": [
              "PreparedData(topic_coordinates=              x         y  topics  cluster      Freq\n",
              "topic                                               \n",
              "11     0.138289  0.040115       1        1  8.435595\n",
              "7      0.086891  0.043182       2        1  7.073632\n",
              "4      0.099850 -0.032726       3        1  6.331565\n",
              "14     0.062248  0.031884       4        1  6.284526\n",
              "8      0.087588  0.052164       5        1  5.800865\n",
              "3      0.036747  0.034507       6        1  5.496023\n",
              "12     0.053367 -0.000813       7        1  5.414238\n",
              "9      0.020576 -0.029712       8        1  4.931953\n",
              "19     0.078074  0.018321       9        1  4.911083\n",
              "6     -0.014301  0.035302      10        1  4.825501\n",
              "1      0.061638  0.029631      11        1  4.784552\n",
              "10    -0.012108 -0.077813      12        1  4.483143\n",
              "18    -0.044452  0.015318      13        1  4.472223\n",
              "16    -0.116413 -0.376020      14        1  4.297176\n",
              "0     -0.009301  0.016333      15        1  4.173664\n",
              "2     -0.038815 -0.011941      16        1  4.172573\n",
              "5     -0.039922  0.003228      17        1  4.075932\n",
              "13     0.016148  0.006788      18        1  3.677873\n",
              "15    -0.139485  0.030897      19        1  3.662282\n",
              "17    -0.326620  0.171356      20        1  2.695600, topic_info=              Term         Freq        Total Category  logprob  loglift\n",
              "130           film  1373.000000  1373.000000  Default  30.0000  30.0000\n",
              "114           make   972.000000   972.000000  Default  29.0000  29.0000\n",
              "17            time   931.000000   931.000000  Default  28.0000  28.0000\n",
              "357           look   674.000000   674.000000  Default  27.0000  27.0000\n",
              "5             good   765.000000   765.000000  Default  26.0000  26.0000\n",
              "...            ...          ...          ...      ...      ...      ...\n",
              "879           hair    30.539064    83.061798  Topic20  -4.2242   2.6130\n",
              "3318      skeleton    17.403086   131.920642  Topic20  -4.7865   1.5880\n",
              "1145      simplist    14.155517    90.741732  Topic20  -4.9931   1.7556\n",
              "3287  otherworldli    11.765339    45.324830  Topic20  -5.1780   2.2649\n",
              "902           hide    10.757491    33.333814  Topic20  -5.2676   2.4826\n",
              "\n",
              "[779 rows x 6 columns], token_table=      Topic      Freq     Term\n",
              "term                          \n",
              "1246     14  0.974272      abl\n",
              "1947     10  0.986231   accept\n",
              "1372     19  0.945195  account\n",
              "447       9  0.976636   achiev\n",
              "395       5  0.997007      act\n",
              "...     ...       ...      ...\n",
              "206      19  0.996506   writer\n",
              "363      15  0.994741    wrong\n",
              "111       2  0.998226     year\n",
              "401       7  0.966730      yet\n",
              "200      17  0.998867    young\n",
              "\n",
              "[2150 rows x 3 columns], R=30, lambda_step=0.01, plot_opts={'xlab': 'PC1', 'ylab': 'PC2'}, topic_order=[12, 8, 5, 15, 9, 4, 13, 10, 20, 7, 2, 11, 19, 17, 1, 3, 6, 14, 16, 18])"
            ],
            "text/html": [
              "\n",
              "<link rel=\"stylesheet\" type=\"text/css\" href=\"https://cdn.jsdelivr.net/gh/bmabey/pyLDAvis@3.3.1/pyLDAvis/js/ldavis.v1.0.0.css\">\n",
              "\n",
              "\n",
              "<div id=\"ldavis_el561404363446637602318047024\"></div>\n",
              "<script type=\"text/javascript\">\n",
              "\n",
              "var ldavis_el561404363446637602318047024_data = {\"mdsDat\": {\"x\": [0.138289084765834, 0.08689078845222135, 0.09984954761082239, 0.06224785496520691, 0.08758797142498839, 0.036747282535386235, 0.053367115922748544, 0.02057552820212664, 0.0780738690578416, -0.014300817908916512, 0.06163815945207976, -0.012107564231002897, -0.04445153442891045, -0.11641300079422605, -0.009301019277733436, -0.03881482821855551, -0.03992156520462651, 0.016148033919400007, -0.13948516578596862, -0.32661974045871556], \"y\": [0.04011500075877785, 0.04318236680605715, -0.032726409704172475, 0.03188365319803333, 0.05216382035094225, 0.03450668587764624, -0.000812787273311611, -0.02971213136462919, 0.01832079141926591, 0.03530233539683278, 0.02963083375108689, -0.07781282056748336, 0.015317636221073178, -0.37601971807806583, 0.016333204032313343, -0.011940855310672379, 0.003228098460726409, 0.00678775707174697, 0.03089658460206423, 0.1713559543517694], \"topics\": [1, 2, 3, 4, 5, 6, 7, 8, 9, 10, 11, 12, 13, 14, 15, 16, 17, 18, 19, 20], \"cluster\": [1, 1, 1, 1, 1, 1, 1, 1, 1, 1, 1, 1, 1, 1, 1, 1, 1, 1, 1, 1], \"Freq\": [8.435595057743491, 7.073631685883082, 6.331565442919842, 6.284525926878643, 5.800865353522706, 5.496022706696793, 5.4142384680360855, 4.9319528685830205, 4.911083025422334, 4.825500995617166, 4.784552211311431, 4.4831427938484065, 4.472223010652372, 4.297175828799021, 4.173663895267664, 4.172572564945339, 4.075932475670013, 3.677873068094354, 3.6622824382677575, 2.695600181840478]}, \"tinfo\": {\"Term\": [\"film\", \"make\", \"time\", \"look\", \"good\", \"never\", \"even\", \"feel\", \"much\", \"give\", \"see\", \"real\", \"just\", \"come\", \"rrb\", \"movi\", \"well\", \"half\", \"shoot\", \"year\", \"first\", \"t\", \"child\", \"can\", \"lot\", \"demand\", \"end\", \"want\", \"charact\", \"life\", \"film\", \"time\", \"bit\", \"deserv\", \"think\", \"portrait\", \"idea\", \"old\", \"margin\", \"hard\", \"use\", \"die\", \"moral\", \"guy\", \"clear\", \"target\", \"grown\", \"fashion\", \"natur\", \"quit\", \"reward\", \"folk\", \"name\", \"dead\", \"includ\", \"belong\", \"perfect\", \"french\", \"surround\", \"ignit\", \"logic\", \"succe\", \"boost\", \"receiv\", \"gangster\", \"around\", \"hole\", \"cheat\", \"seat\", \"make\", \"year\", \"long\", \"big\", \"enough\", \"screen\", \"next\", \"ca\", \"parent\", \"pull\", \"realli\", \"pianist\", \"today\", \"exist\", \"crowd\", \"suffer\", \"offer\", \"kill\", \"sentiment\", \"thriller\", \"decent\", \"wonder\", \"funniest\", \"shameless\", \"warmth\", \"empha\", \"gang\", \"near\", \"expect\", \"minor\", \"sitcom\", \"later\", \"disney\", \"sophist_unsentiment\", \"shallow\", \"fat_greek\", \"button_push\", \"seat\", \"apartheid\", \"much\", \"movi\", \"littl\", \"complet\", \"tell\", \"will\", \"take\", \"stori\", \"care\", \"entertain\", \"believ\", \"dark\", \"tale\", \"put\", \"featur\", \"transport\", \"state\", \"roll\", \"phone\", \"tradit\", \"earth\", \"fast\", \"corner\", \"viewer\", \"suspect\", \"trivial\", \"valid\", \"listless\", \"compellingli\", \"adventur\", \"seat\", \"thrust\", \"longer\", \"pregnant\", \"harm\", \"nasty\", \"properli_inten\", \"specif_gift\", \"highlight\", \"cartoon\", \"good\", \"child\", \"can\", \"want\", \"spend\", \"someth\", \"find\", \"say\", \"help\", \"enjoy\", \"way\", \"fresh\", \"flow\", \"color\", \"shot\", \"throw\", \"fun\", \"wait\", \"pure\", \"low\", \"sen\", \"spark\", \"anyth\", \"repre\", \"wast\", \"search\", \"honest\", \"femal\", \"evil\", \"thoroughli\", \"suprem\", \"crush\", \"imagin\", \"clanci\", \"includ_mine\", \"total\", \"cartoon\", \"behav\", \"later\", \"feel\", \"end\", \"turn\", \"short\", \"full\", \"probabl\", \"understand\", \"act\", \"pictur\", \"rather\", \"write\", \"part\", \"leave\", \"hot\", \"touch\", \"slight\", \"light\", \"transcend\", \"view\", \"lose\", \"return\", \"sound\", \"struggl\", \"gener\", \"rental\", \"industri\", \"chase\", \"front\", \"fear\", \"effort\", \"potenti\", \"directori\", \"simplist\", \"fulli\", \"cheat\", \"hole\", \"prevail\", \"receiv\", \"charact\", \"drama\", \"self\", \"adult\", \"perform\", \"titl\", \"woman\", \"concern\", \"heart\", \"script\", \"simpl\", \"simpli\", \"curv\", \"cinemat\", \"back\", \"huge\", \"rare\", \"hate\", \"conscious\", \"remind\", \"extrem\", \"sensual\", \"joy\", \"everyth\", \"formula\", \"solid\", \"mess\", \"break\", \"pleasur\", \"mention\", \"later\", \"behav\", \"never\", \"win\", \"go\", \"hour\", \"sexual\", \"small\", \"anoth\", \"success\", \"mind\", \"seem\", \"motion\", \"tv\", \"straight\", \"subtleti\", \"vital\", \"tire\", \"strength\", \"humor\", \"cool\", \"sincer\", \"stretch\", \"yet\", \"design\", \"actual\", \"fill\", \"wit\", \"wrap\", \"overal\", \"score\", \"proceed\", \"buy\", \"investig\", \"poignant\", \"photo\", \"insid\", \"rrb\", \"s\", \"lrb\", \"need\", \"less\", \"human\", \"line\", \"still\", \"true\", \"cinema\", \"occasion\", \"wild\", \"charm\", \"sweet\", \"side\", \"bring\", \"away\", \"languag\", \"stay\", \"punch\", \"rememb\", \"either\", \"condit\", \"shadow\", \"base\", \"thrill\", \"ethic\", \"appli\", \"philosoph\", \"admit\", \"land\", \"race\", \"includ_mine\", \"giant\", \"specif_gift\", \"adject_gentl\", \"directori\", \"racial\", \"nasty\", \"even\", \"worth\", \"moment\", \"kid\", \"fare\", \"theme\", \"lack\", \"monster\", \"move\", \"director\", \"plea\", \"almost\", \"kind\", \"screenplay\", \"black\", \"confu\", \"magic\", \"devoid\", \"oddli\", \"night\", \"add\", \"intrigu\", \"clever\", \"becom\", \"top\", \"achiev\", \"suspen\", \"famili\", \"entir\", \"diver\", \"remain\", \"period\", \"bill\", \"ludicr\", \"rip\", \"cheat\", \"behav\", \"bottom\", \"first\", \"man\", \"familiar\", \"know\", \"delight\", \"happen\", \"peopl\", \"action\", \"would\", \"grow\", \"pass\", \"impress\", \"intellig\", \"scene\", \"accept\", \"dimension\", \"fire\", \"perfectli\", \"teen\", \"era\", \"joke\", \"pack\", \"fan\", \"master\", \"storylin\", \"fat\", \"dimen\", \"role\", \"complex\", \"certain\", \"cartoon\", \"excit\", \"grade\", \"picpu\", \"button_push\", \"give\", \"come\", \"lot\", \"minut\", \"get\", \"passion\", \"ride\", \"age\", \"crime\", \"laugh\", \"distinct\", \"final\", \"reason\", \"recent\", \"murder\", \"close\", \"must\", \"day\", \"gorgeou\", \"effect\", \"whole\", \"past\", \"loud\", \"process\", \"flaw\", \"heavi\", \"core\", \"week\", \"mainli\", \"death\", \"labor\", \"notion\", \"nasty\", \"insid\", \"cheat\", \"jolt\", \"around\", \"specif_gift\", \"poignant\", \"investig\", \"real\", \"just\", \"art\", \"thing\", \"lead\", \"work\", \"star\", \"concept\", \"dramat\", \"involv\", \"son\", \"inject\", \"insight\", \"impact\", \"uncomfort\", \"flick\", \"relationship\", \"modern\", \"high\", \"promis\", \"execut\", \"respon\", \"prove\", \"manner\", \"character\", \"captiv\", \"paper_thin\", \"awkward\", \"difficult\", \"genuin\", \"purer\", \"pulpi\", \"screenwrit\", \"specif_gift\", \"adjust\", \"locat\", \"nasty\", \"total\", \"hypermasculin_element\", \"author\", \"well\", \"special\", \"last\", \"love\", \"demand\", \"style\", \"friendship\", \"secret\", \"hold\", \"empathi\", \"confid\", \"tri\", \"cultur\", \"problem\", \"soul\", \"inconsequenti\", \"let\", \"book\", \"edit\", \"pop\", \"great\", \"mood\", \"warm\", \"blood\", \"enter\", \"hit\", \"school\", \"predecessor\", \"sad\", \"sociolog\", \"obsess\", \"imagin\", \"behav\", \"includ_mine\", \"see\", \"t\", \"may\", \"far\", \"hand\", \"n\", \"world\", \"wo\", \"point\", \"often\", \"surpris\", \"rate\", \"disappoint\", \"dumb\", \"pay\", \"abl\", \"game\", \"inspir\", \"cynic\", \"mindless\", \"brash\", \"travel\", \"pitch\", \"fool\", \"exerci\", \"tender\", \"thrust\", \"watchabl\", \"particularli\", \"quentin_tarantino\", \"made\", \"eeri\", \"purer\", \"exhilar\", \"ice\", \"swear\", \"pulpi\", \"valid\", \"picpu\", \"life\", \"treatment\", \"level\", \"wrong\", \"rise\", \"video\", \"cut\", \"subject\", \"place\", \"build\", \"ever\", \"person\", \"american\", \"fine\", \"home\", \"despit\", \"detail\", \"usual\", \"stunt\", \"begin\", \"hous\", \"credibl\", \"dull\", \"head\", \"present\", \"edg\", \"epic\", \"war\", \"standard\", \"differ\", \"sister\", \"gun\", \"sophist_unsentiment\", \"ad\", \"definit\", \"half\", \"shoot\", \"bad\", \"sell\", \"also\", \"right\", \"set\", \"talent\", \"consider\", \"twist\", \"sort\", \"dialogu\", \"summer\", \"strike\", \"wor\", \"maintain\", \"boy\", \"follow\", \"better\", \"notwithstand\", \"exploit\", \"stupid\", \"tone\", \"stuff\", \"mani\", \"frame\", \"stage\", \"trim\", \"send\", \"incoher\", \"histori\", \"bake\", \"sin\", \"nasty\", \"screenwrit\", \"victim\", \"specif_gift\", \"look\", \"young\", \"valu\", \"watch\", \"plot\", \"comedi\", \"fall\", \"pace\", \"mean\", \"slow\", \"product\", \"piec\", \"strong\", \"alway\", \"case\", \"best\", \"girl\", \"anim\", \"romp\", \"romant\", \"major\", \"frailti\", \"societi\", \"observ\", \"incre\", \"artist\", \"treat\", \"brilliant\", \"start\", \"learn\", \"nuanc\", \"fat_greek\", \"picpu\", \"apartheid\", \"curio\", \"racial\", \"fail\", \"run\", \"do\", \"fact\", \"second\", \"matter\", \"beauti\", \"chemistri\", \"actor\", \"rest\", \"live\", \"now\", \"version\", \"origin\", \"allow\", \"nice\", \"consid\", \"produc\", \"late\", \"camera\", \"smile\", \"water\", \"recommend\", \"ill\", \"affect\", \"read\", \"rich\", \"bode\", \"other\", \"ghost\", \"homag\", \"muddl\", \"demm\", \"respond\", \"fanci\", \"harm\", \"surviv\", \"skeleton\", \"fudg\", \"imagin\", \"direct\", \"fascin\", \"least\", \"realiz\", \"filmmak\", \"writer\", \"keep\", \"power\", \"date\", \"visual\", \"interest\", \"appeal\", \"deep\", \"car\", \"word\", \"emot\", \"smart\", \"everi\", \"nation\", \"cast\", \"none\", \"bond\", \"pretti\", \"convinc\", \"debut\", \"account\", \"perspect\", \"command\", \"sure\", \"crap\", \"breath\", \"describ\", \"curio\", \"group\", \"otherwis\", \"smartli\", \"situat\", \"depend\", \"new\", \"music\", \"cour\", \"develop\", \"career\", \"plain\", \"matur\", \"nee\", \"metaphor\", \"predict\", \"season\", \"speak\", \"play\", \"pick\", \"number\", \"term\", \"sequel\", \"odd\", \"bind\", \"listen\", \"tast\", \"certainli\", \"satir\", \"ground\", \"invent\", \"suit\", \"troubl\", \"gentl\", \"empti\", \"unit\", \"bodi\", \"hair\", \"skeleton\", \"simplist\", \"otherworldli\", \"hide\"], \"Freq\": [1373.0, 972.0, 931.0, 674.0, 765.0, 704.0, 676.0, 643.0, 660.0, 593.0, 562.0, 543.0, 540.0, 528.0, 532.0, 543.0, 453.0, 435.0, 429.0, 503.0, 397.0, 371.0, 409.0, 406.0, 364.0, 354.0, 379.0, 383.0, 364.0, 329.0, 1372.8822752652172, 930.236314902969, 395.7894150018722, 202.800956884384, 195.4561340328282, 157.60306859387444, 129.4077712757097, 128.27466086471733, 110.2918659038827, 103.34889518934685, 76.217132393911, 75.71637693381766, 60.93221820577342, 55.41201420684735, 113.72786403130392, 40.88787119022522, 59.79054610533207, 32.94874669215364, 30.270752997114844, 28.538670927179943, 25.048420389770335, 34.134622770896996, 35.645399154290544, 13.15093741596531, 11.100435595734078, 10.403260659526264, 9.371566439622043, 85.64039048963704, 8.234229150520129, 27.074567304699396, 29.53119146537069, 25.441691074918932, 59.63939701823488, 41.16108515942358, 21.203479976254243, 31.73933812891633, 40.50283839483584, 43.57930029210882, 30.95275115302903, 971.5278496964403, 503.0642019420405, 341.6776477665552, 301.9341984759367, 270.12209434401115, 264.77776902986386, 171.0642906987264, 142.2223337707746, 175.9153302319666, 116.22603748403101, 114.46759212446446, 85.09917033540911, 73.9834187211897, 60.81126269541691, 53.62851447861394, 51.10123941394561, 48.07087322470678, 53.4240146798806, 33.671103979122925, 25.53573067759313, 23.921642616234806, 15.791217877380689, 9.546380993453946, 239.56837834176687, 6.553366126976581, 5.982369938147449, 5.146298036533414, 5.012349036688625, 4.144680651622589, 2.9393560410963038, 62.15268775778589, 98.58521973399456, 8.217832774430754, 19.653776279798876, 13.766688481207368, 15.24236975712666, 12.829118142796812, 15.143752882908286, 13.2907086474628, 659.3359097984688, 542.6156530191046, 337.52147605999136, 322.09338963002193, 317.9637470586269, 308.5173658496205, 291.862585491605, 227.53219856577644, 147.79590658486242, 97.16541226954847, 82.34284086135915, 79.6059330448163, 50.978426980237174, 38.266623339423674, 31.541554523507806, 38.300064272299096, 12.555103181023899, 18.763134873957235, 9.598184422859664, 5.433760223348018, 5.512901178180812, 4.498042518073607, 28.721756369525757, 3.5422825599607197, 5.86248603604805, 17.732768933978434, 73.48631535371584, 1.3100654895006265, 15.548957807828451, 0.7963893753860257, 62.37818860445938, 29.63215575830617, 19.256295070457192, 28.881984854579823, 20.387351216609215, 21.23637757080851, 10.789390433125954, 13.4131367252095, 11.05086479974257, 11.475346028359874, 765.0665974502332, 408.7335016504801, 405.5563730590173, 382.2881264243244, 305.322978168241, 261.7881875447179, 227.6391289665538, 204.42064161774232, 169.34280947881678, 104.87988112750772, 63.142608465163896, 62.30265323643001, 70.99967400047281, 57.25127482069083, 48.166263907467595, 44.38801469314794, 41.32606090906395, 41.285266811343455, 43.47558595243931, 19.223064492329495, 15.674055003379124, 9.875390327586851, 8.399978122451108, 28.44557937535954, 56.8406202771855, 5.146918940077114, 13.723563705908767, 8.22022077688624, 8.19839502857362, 4.349665289882321, 15.984556752614075, 13.861748332371045, 27.011715539712252, 18.237778308520994, 20.27936887396585, 16.21391312962315, 18.070428507031, 16.682380452316114, 16.582044186534606, 642.4081451527207, 378.92934749802674, 241.27815324248482, 234.07005406019888, 220.15215872576664, 140.18861410099754, 140.56935795930121, 121.52877801526432, 115.18239751454651, 102.30462110736809, 93.63164449049766, 85.96471579952518, 75.39378202170445, 68.45658242494143, 67.21400698410787, 64.1678846754773, 59.080742961248816, 61.91708273833507, 46.29621856698615, 43.98850200055392, 43.56603914611284, 41.37151624766094, 27.63231804662873, 24.103732294645013, 82.76672497122792, 9.590263479221354, 8.242938421507493, 7.11025952241847, 7.067730880031977, 6.368499680813819, 20.381278865211293, 88.71636312920569, 49.656343539438154, 19.508928676408598, 79.8535289097871, 60.91716073499312, 46.42994348394258, 26.067700975343055, 363.81964915076765, 331.131850757445, 270.08837373944414, 265.1661240806709, 262.7082082875836, 193.19163936608487, 190.0226328232496, 162.06428835725447, 160.55179427568476, 144.0900402496003, 136.41792380641763, 90.57325882737021, 87.43751533239822, 80.96213172247671, 74.37794989668795, 71.4479729786482, 64.76002042719449, 60.63161107518692, 44.119926821348656, 43.71711749209056, 43.350617814293514, 44.6997917570929, 40.42682918600631, 28.99409658756588, 28.6809679375547, 26.866626355186593, 23.48156252950857, 19.00342170481129, 18.154750456832236, 58.793586012575034, 49.388486961645555, 36.07913964865039, 704.0256860000977, 309.35874071686743, 242.7104316288108, 206.52103771765843, 169.2119873204692, 163.45801361248274, 156.83527227091687, 114.99175438734633, 101.58441397151103, 88.7793332529272, 85.04173565823045, 74.4464391789456, 80.266245647234, 69.13346066407989, 190.1876910341832, 64.81001863119202, 56.61352774803237, 46.999603052210304, 45.91832299088587, 43.39135270330013, 38.447998520300594, 37.442343393548796, 23.57839455495154, 23.233804859139262, 16.240770827857926, 14.31514209922268, 11.316080903688963, 10.127590389110138, 8.337922234002251, 6.911985641080609, 26.948446069196674, 40.50600210699442, 23.831057238898005, 17.994907713711065, 18.041300529795336, 531.6854687651761, 305.0908967527898, 285.10585234842716, 260.3328511898102, 231.5180517339639, 207.13198073462254, 203.19750581980531, 142.3818657572219, 113.74832293741977, 90.37288638107155, 72.02816760470424, 61.018042832143855, 46.316367708176365, 43.175278089259244, 41.35792291882278, 37.860228715427176, 34.02994152569845, 29.105525017607548, 16.58665490413475, 18.76270331968197, 12.006995386382657, 11.56178270754895, 107.47068009272049, 10.284595172248265, 8.210520501519326, 6.787266262265371, 6.83647555115768, 104.51170034993565, 5.133725189614216, 5.141996730113909, 6.408144138587437, 6.253943656857029, 31.426485596613855, 22.693144897499504, 22.845768218254605, 16.915335429147333, 19.092603266987098, 14.32004394115555, 12.700633360819307, 675.2652345830248, 204.49813019785682, 193.36600057922675, 154.09707137361386, 153.93452307955397, 142.107665535593, 113.50390954605602, 109.92382549685195, 96.90643162142139, 83.89477982572262, 110.45254288769277, 44.450834012353546, 44.19605843027097, 42.20870764250514, 37.21055646742823, 95.69897350134636, 33.738899309731835, 32.478746456729695, 52.71686577698772, 27.114727095338708, 25.499266243346746, 23.95718860390744, 17.85697585485603, 18.377804081281123, 16.017388036859195, 14.528142310118655, 13.306623705965482, 10.436881295197752, 11.93689342143541, 10.259228180733626, 25.99668540551382, 45.48808655201856, 57.21534981170415, 43.78159143350184, 24.74327648709187, 42.80293855216016, 39.68747796436152, 25.507636864509404, 396.3768847185943, 300.0274106485742, 281.97810592749113, 260.30124200081514, 201.6871047933568, 184.47465512631524, 180.99042122767008, 123.90472089949743, 136.80664213302265, 105.86413312869131, 91.10651718828457, 80.75014022781161, 78.88117878176159, 60.592857092869316, 60.00813965166679, 40.56139579568343, 38.69287263204956, 57.61047743131761, 30.648978052188443, 24.75030197783259, 20.20907350711844, 20.199942623448457, 18.04285918682003, 28.208604166855, 14.03171851511489, 10.783480566196118, 12.108346568079421, 6.189849954099942, 5.7684331496872305, 15.256515249623002, 85.65832586910281, 11.773138784434853, 19.48648146171512, 17.908798683169387, 14.419371485735931, 593.153811069722, 527.8314312647897, 363.79878173442205, 295.3254187318343, 155.31442902770064, 102.01248781085238, 74.14037739546572, 71.49887470157121, 68.70266751222782, 60.109594310297815, 69.16198700783359, 41.19003742412485, 40.40774090915029, 39.7152196308561, 39.80425335098302, 35.97114390243847, 35.90072742117443, 28.737746493140495, 26.75216175111342, 22.02802359400216, 15.49287783394515, 12.399732927458729, 10.092007527756861, 6.487122216478578, 5.455736926657941, 17.596487868881905, 2.383777622329263, 2.250074858799717, 23.59556544559407, 1.5571313040729051, 7.116536556045778, 6.050786285115531, 54.4662739579882, 28.533900143683145, 36.2958281343373, 21.197681979735403, 15.921817568801817, 20.9450369432327, 15.361355215305599, 15.858933516155135, 542.3277570266486, 539.749576395299, 269.6451604213103, 226.56795131767433, 183.31747432876193, 134.31815918564354, 123.05958583709113, 85.72114508143683, 82.54602788830132, 61.216271634638225, 58.2887760179243, 99.28218802544943, 45.57031990859012, 42.151106863869586, 44.112805943688436, 32.22102081676868, 17.325124230399, 17.013349650684283, 13.379969019925289, 16.20277549266112, 9.829691759500252, 8.625466060755157, 5.666705893233514, 4.692222290274046, 3.3739554705010204, 3.2229211017394372, 3.1330274390544237, 2.6388270976990658, 2.144142413529887, 1.9886893759868398, 61.22608937254239, 34.40902877337844, 22.139739020627516, 48.60971770121172, 15.319266335704746, 10.261896826620042, 31.64573950899712, 14.661327624627138, 14.942239993352787, 12.212550143385425, 452.4385303051282, 290.89056352234724, 208.09116050272294, 199.261012300427, 352.8318671850009, 119.89595985021815, 124.60742770286994, 80.08320606381561, 75.55690532339872, 72.83446714175894, 87.27871403498224, 61.16278811079195, 58.748613615320295, 53.04709262992608, 51.479503667423366, 89.86508317742829, 41.99598358348143, 36.30075540429708, 34.61415761287861, 22.841061885929918, 20.20745317596526, 19.202014583368, 15.959088470886929, 13.852966504407828, 13.029302808197961, 12.207739400536113, 65.27714860371415, 8.231088041663854, 7.0414559164809685, 37.43326709565333, 57.2730859576, 39.19273506717831, 20.51002206593989, 15.364473088206635, 561.1976847099374, 371.15476432913533, 305.0283363536899, 295.7368984560847, 191.7345649439154, 157.76321131839538, 156.16921524609285, 136.7414774228518, 113.23157176203058, 94.76400073213995, 69.97265222892933, 48.66049739844919, 62.34524076399497, 42.639580789614534, 35.44594372066954, 70.84484740893674, 24.63139040013932, 23.82834431557071, 11.903929195376133, 10.61306889885061, 11.59063331777639, 1.706700409122197, 1.431148980674672, 14.732658745613785, 2.75039822405667, 0.8465969699606657, 29.464564776366924, 0.4351692803954775, 1.5004853836308842, 1.7701042457635416, 3.9293899528092124, 14.893050511567765, 22.538043908802642, 3.9906657437334223, 8.069419260510545, 11.04618118454589, 10.545517386495664, 10.881139932971212, 8.973248599013214, 328.3415898518788, 202.63921995828804, 186.71944086416713, 176.11034644196312, 130.28705312229377, 110.60373491955104, 102.80225203269853, 101.91086407187942, 94.64253999916671, 92.6880716197919, 89.36287357283868, 89.17578932611738, 86.75207596473557, 71.02290113162687, 63.026072494426764, 59.08149032600336, 58.70369952725628, 164.9583394566184, 38.08576638477878, 30.614105828422275, 22.981672380028964, 21.513393188204915, 18.057452183098995, 17.08449315606743, 15.810958002746375, 15.20508682502616, 10.616988129465293, 6.421474822630467, 5.31613242052987, 4.164115230644082, 5.761856110461756, 31.92534725448484, 34.5746153093721, 14.325551083265943, 18.13689469366119, 434.30984307922694, 428.26961019335954, 207.4829356483612, 181.78296298718678, 119.6516220969029, 115.59199540044025, 100.57138384218254, 91.47605411868993, 86.10003967489509, 74.58433132273423, 46.25388110511934, 47.5876718243935, 37.83972162975959, 36.34796570422548, 33.23298712301358, 31.487224806103928, 28.377046629872915, 24.335947812283838, 23.149984601908677, 217.64850904524158, 22.951567862698944, 18.543420034311435, 17.419407915033517, 17.27955401114975, 14.898883995612827, 8.217467693704242, 8.02481008697392, 8.198363074445275, 6.962211419450933, 11.734071886941988, 16.571089731062628, 28.16380157201923, 23.538205323647222, 39.44967399297143, 16.903755390019622, 15.810869204917548, 16.016657994633633, 673.261970002098, 300.51890823003356, 202.77785568118185, 192.88259451626473, 172.25938826581924, 158.05456589912149, 151.46852169793118, 92.20400181353342, 91.24754118863885, 83.96321397741295, 71.73779641691627, 54.210741258539414, 51.08828820443261, 30.632292740577142, 21.101371924469554, 18.991484177574097, 16.50513637751174, 13.61653632435485, 19.80670984769046, 10.494978659315414, 8.011259733307304, 8.0013068851835, 7.741990752642451, 5.577966122701339, 8.85363941740453, 4.910333110458075, 4.264427055489944, 3.9817698414116176, 2.9621835527396434, 2.954067390721639, 14.218292132667822, 19.55013937908201, 19.53296024905105, 16.723570176408902, 9.242786230187255, 7.370149408627017, 207.92569983200485, 192.85009919185586, 161.48623083943033, 149.8335895896477, 133.2149965080755, 100.24379708327503, 97.90947235567208, 85.32663575674643, 69.64556586245597, 72.35888086415724, 67.01644146420388, 62.487418609365, 46.57612628081583, 43.792340488388945, 37.67974105818054, 35.26938338195943, 26.12066495441528, 17.721374395677227, 15.341438912886622, 14.239533810975813, 26.584346903384, 14.06355567202734, 9.027022363100366, 7.6128993935174405, 6.657674333857887, 5.408151337763269, 5.078339301557173, 29.89459968920848, 5.631241457784382, 98.1048212794833, 70.87256516793296, 8.504400231229793, 37.456896834319835, 25.972713675410215, 34.49924721224826, 43.80186084539191, 28.572354394957237, 33.60911901860114, 18.144367489423747, 18.27504373466905, 231.35493303597426, 219.97939780370655, 174.66081670530045, 162.9026390048762, 137.95730891812562, 135.64902530399203, 117.60561032057507, 107.50346267503136, 102.97185905474485, 99.40070534749265, 84.8212680659588, 76.49234238697466, 75.95340003769383, 66.0578007605446, 58.064590098329205, 53.7189169686616, 43.99213613555747, 31.908937787489794, 39.32124436326139, 24.309486351857714, 22.373831939503884, 16.829744004147816, 11.922396060983578, 11.70555591326669, 9.053208493828452, 8.667497763387054, 8.8693760900677, 9.182088049474437, 6.237599029608626, 16.74579017059085, 24.5206572431696, 25.53119724748607, 37.99921864847888, 18.85923219981214, 11.374785491257674, 11.531600159343053, 147.74388870835216, 140.7498872821421, 117.81380976829345, 105.23698401127784, 94.79978260038826, 94.09696880854383, 83.06935064911539, 82.09148626820402, 75.35862278964491, 73.85445639708891, 64.27533851970168, 57.403970421012204, 42.71511242794144, 178.73290619837834, 28.453362810810543, 24.32461353414431, 22.285797545094088, 17.156158077351712, 16.566629328411615, 15.228732602521369, 14.683549426541639, 32.310252079025055, 9.767552558107804, 9.366758699818265, 8.413549423740278, 8.302154051754542, 7.7343234855703455, 6.000298785496734, 5.7819004334136554, 2.940306818037548, 8.062116781659023, 59.29629173664957, 29.497310295341634, 30.53906401281146, 17.40308608831616, 14.15551707869856, 11.765338885172019, 10.757491401834697], \"Total\": [1373.0, 972.0, 931.0, 674.0, 765.0, 704.0, 676.0, 643.0, 660.0, 593.0, 562.0, 543.0, 540.0, 528.0, 532.0, 543.0, 453.0, 435.0, 429.0, 503.0, 397.0, 371.0, 409.0, 406.0, 364.0, 354.0, 379.0, 383.0, 364.0, 329.0, 1373.7110292258749, 931.0650688636259, 396.6181689659864, 203.63035985983487, 196.2848879969424, 158.43182258459393, 130.23652523636676, 129.1034148253744, 111.13014231808114, 104.17764915000386, 77.04588636044411, 76.66314882738588, 61.7609722332, 56.2407681776663, 115.78733925545349, 41.71663675921703, 61.15362343884089, 33.77750312346205, 31.099507027947272, 29.367424887836982, 25.888927394808118, 35.72738383529036, 37.34157102802725, 13.979691402587166, 11.941319210632825, 11.276805395150163, 10.200320400279091, 93.75003483899913, 9.063199681131046, 30.45900724704748, 36.43950251330108, 32.54566849624841, 90.37383645411688, 70.10495853444601, 29.49474545145713, 61.294363484136554, 163.92388564248375, 218.47174184179852, 153.45559700067983, 972.3573648799695, 503.8937171255699, 342.5071629500846, 302.7637136594661, 270.95160952754054, 265.6072842371924, 171.89380590357135, 143.0518489600425, 176.98059225998924, 117.05555272155387, 115.29710730799383, 85.95795597399588, 74.81293435514618, 61.640785595489966, 54.45855869030076, 51.93091803909257, 48.90038840823618, 54.3581400864252, 34.50061916265233, 26.365246141473815, 24.764567095195616, 16.62073306091008, 10.428271398013306, 269.52435636065474, 7.382893907851534, 6.812123854920052, 5.97590877072502, 5.865610030225047, 4.974195835151984, 3.7688712246256992, 83.75245655390827, 284.3509089070679, 14.950129373170777, 103.15029237175949, 58.25853673124825, 86.53523401824214, 63.319380806571054, 153.45559700067983, 85.76596402622354, 660.1695995446569, 543.4493427684486, 338.3551658061795, 322.92707942589453, 318.79743680481505, 309.35105559962, 292.69627523779315, 228.36588831196457, 148.62959633105055, 97.99910201954795, 83.17653063244323, 80.43967695010913, 51.81211676640854, 39.10031308561183, 32.38473691931325, 39.83253441526381, 13.388795544132005, 20.12454215693507, 10.432579477674292, 6.277598228741021, 6.444407532066729, 5.332054824590121, 35.30311432999783, 4.378981082825179, 7.862679816586035, 24.33073737037902, 119.39176757026344, 2.1437594110680855, 28.722397958547695, 1.6404469634112828, 153.45559700067983, 80.70119140744029, 57.68014549679003, 153.0385987478338, 144.88428919281685, 262.98260008517326, 55.7168807360557, 188.04731481173636, 65.60101734441155, 206.37078264491404, 765.9034684611619, 409.570372661409, 406.3932440699462, 383.1249974384092, 306.15984927103875, 262.6250586178761, 228.47599998127782, 205.25751262867118, 170.17968051859793, 105.71675213843656, 63.97947947609277, 63.13952426755277, 72.02863470256547, 58.08814584879214, 49.00548931786713, 45.22488570407681, 42.16293191999282, 42.12216397648782, 44.5683588338114, 20.05993550325836, 16.510926014307987, 10.712542540503618, 9.237472329312364, 31.323854884554088, 65.2413860712498, 6.038473548207153, 16.607417609465664, 10.070885554304592, 10.134644726530892, 5.767241354015489, 28.614582833161997, 35.104700360301464, 183.91024213760832, 94.07582158639406, 145.22308832820113, 118.00109015946582, 206.37078264491404, 182.7220794791521, 284.3509089070679, 643.245611143639, 379.7668134987396, 242.11561925046738, 234.90752005111736, 220.9896247166851, 141.0260802469139, 141.42126647752346, 122.3662440061828, 116.01986352844064, 103.14208709828657, 94.46911060598012, 86.80218179562172, 76.23124826213987, 69.29405429495006, 68.05147297502634, 65.01222948624145, 59.918208952167305, 62.82771857169274, 47.13368455790464, 44.825967996628535, 44.403753456877375, 42.20898534257295, 28.469784100610447, 24.94119828556349, 86.99399530374934, 10.439564334248344, 9.12094866185427, 7.947728495365579, 7.905196870950462, 7.205965676189402, 25.161692740880817, 155.95608353160875, 90.74173163932471, 29.21310853135129, 218.47174184179852, 163.92388564248375, 137.45803190572815, 70.10495853444601, 364.6609230222229, 331.9731246255034, 270.9296476176381, 266.0120225475968, 263.54948215564195, 194.03291329441018, 190.8639067195981, 162.90834493859074, 161.3930681475544, 144.9313141221157, 137.25937290422243, 91.41453276853007, 88.27952001280094, 81.80340561020768, 75.2192238116996, 72.2893276950501, 65.60129429904791, 61.472994918187865, 44.96497681657747, 44.558533853958316, 44.19189176166668, 45.5907049937962, 41.26810337366391, 29.835370649295733, 29.522252372023512, 27.707900223244895, 24.322836612643577, 19.844695628494115, 19.006127734482792, 63.03526156700738, 284.3509089070679, 182.7220794791521, 704.8566964028223, 310.1897511452133, 243.5414420315356, 207.35204812038324, 170.0429982316772, 164.28902403487905, 157.66628267951776, 115.82276480476432, 102.41542437423581, 89.61034365565199, 85.87274613416243, 75.27744958167038, 81.18124794596903, 69.96448468579756, 192.5957072377045, 65.6410291160502, 57.53269098332366, 47.830613454935104, 46.749340582820466, 44.22289227499074, 39.27900896428449, 38.273353961429024, 24.409410739592747, 24.064815261864055, 17.071781239290328, 15.14621338063842, 12.147092771710275, 10.95860079480405, 9.168944088823237, 7.798858898454552, 38.21127054964882, 148.57380870702838, 97.84396634187065, 49.49698213344424, 125.71695235346698, 532.5175613318133, 305.92298933182576, 285.9379449150646, 261.1649437564476, 232.35014430060133, 207.96407330699847, 204.0295984047245, 143.2139583471109, 114.58041550721312, 91.20497902675588, 72.86026017134168, 61.85013554558502, 47.1484602748138, 44.007370689630505, 42.19001548842933, 38.692321285521764, 34.86203409233588, 29.973716396743647, 17.418747548648085, 19.78805709362516, 12.839087969091787, 12.39402985840678, 115.35265830492594, 11.179505995016719, 9.042615984557672, 7.619358848044659, 7.676603463943949, 120.44530875745522, 5.982411215610303, 6.001114478482252, 8.344762460766255, 8.04771148523228, 145.22308832820113, 157.39626383878007, 188.04731481173636, 88.0581383785252, 155.95608353160875, 83.23126075594958, 262.98260008517326, 676.095921647556, 205.32881726736753, 194.19668766223833, 154.9277584544197, 154.76610410520342, 142.9383526001242, 114.33459661058727, 110.75460445223214, 97.73711873408145, 84.72546689025387, 112.0030705532061, 45.2815210798539, 45.02674549827406, 43.03939477081257, 38.04124353195948, 98.04798042471867, 34.56959627026115, 33.30978165966091, 54.085052864324425, 27.945426671715254, 26.329953307877986, 24.911625301980308, 18.687664958490164, 19.29636041434274, 16.848092740418473, 15.358842881360953, 14.137310779345123, 11.267568359729, 12.89685859801684, 11.089915251139429, 29.408243669558093, 60.71416239913474, 82.4448280219518, 60.14339787085695, 34.33330833491064, 218.47174184179852, 182.7220794791521, 85.76952493187008, 397.2064224610466, 300.8569483910265, 282.807643713075, 261.13077974326745, 202.5166496719373, 185.3041931033955, 181.8199589701224, 124.73425864194976, 137.8664428263162, 106.69367088708144, 91.98787771632969, 81.57967798551674, 79.71087820681207, 61.42239483532164, 60.83769985129888, 41.39093368431051, 39.52241502195178, 59.069005689462465, 31.47853097393273, 25.579839720284912, 21.038611249570764, 21.029480401187605, 18.872396929272355, 30.098524560356335, 14.974340858061451, 11.63366931102861, 13.563922159623177, 7.019387700421189, 6.597975936208132, 18.123743369540925, 206.37078264491404, 20.084338822383394, 88.09266112298003, 98.38126304862773, 63.319380806571054, 593.9889093612279, 528.6665295562956, 364.6338800323691, 296.1605170290789, 156.1495273389685, 102.84758610532758, 74.9754756927103, 72.3339729930773, 69.53782356579828, 60.94469260823017, 70.22455791077803, 42.025135715630945, 41.242839200656384, 40.550317928300416, 40.64160467686816, 36.80624221220539, 36.735825888950615, 29.58616008926735, 27.587274662651787, 22.86312188550825, 16.32797612545124, 13.245282465325186, 10.929187660037298, 7.3224165504240135, 6.290835218164035, 23.626264488945843, 3.218875913835357, 3.102439040853003, 35.032997675744895, 2.3922307777012524, 12.815262886149801, 10.778747729540306, 262.98260008517326, 125.71695235346698, 218.47174184179852, 103.36693005025708, 61.294363484136554, 188.04731481173636, 97.84396634187065, 148.57380870702838, 543.1635179611125, 540.5853373297629, 270.4809213557743, 227.4037122521383, 184.15323532634042, 135.1539201201075, 123.89534679110919, 86.55691908097376, 83.38178887608886, 62.052032705010625, 59.13352364154253, 100.7422409320138, 46.40608084305411, 43.06090900775447, 45.12544242544962, 33.05678175123267, 18.16088516486299, 17.849110663717564, 14.215729954389284, 17.51265779877239, 10.665453410434774, 9.461558273748816, 6.502466827697505, 5.530137356020485, 4.209724011151952, 4.059589802784229, 3.9732380970184766, 3.4750783838315935, 2.9799033479938797, 2.8253954417387965, 171.16986940911204, 89.46887967895823, 57.664184218219276, 188.04731481173636, 49.738937225365795, 28.739211044785982, 262.98260008517326, 118.00109015946582, 141.29540382706455, 77.31952661938035, 453.27776447776455, 291.72979769844073, 208.93039467535928, 200.10024647306335, 354.8661190139809, 120.73519402285449, 125.55059512810885, 80.92244868543277, 76.3961924221284, 73.67371253812013, 88.46977839176888, 62.002022356426664, 59.587854656950604, 53.886326835242144, 52.318740907491616, 91.57704827051208, 42.835335060951756, 37.13998957693342, 35.45342250008075, 23.680320649925815, 21.046687348601598, 20.04152150301547, 16.798322643523267, 14.698392572407956, 13.868697141460569, 13.046973580335665, 70.2584857894702, 9.070322214300196, 7.8806920883122205, 42.53382175254602, 86.0118254415228, 183.91024213760832, 182.7220794791521, 145.22308832820113, 562.0379588076622, 371.99503842686016, 305.8686104514147, 296.57717255380953, 192.5748390697023, 158.60348541612024, 157.0094893438177, 137.5818403437008, 114.07184585975546, 95.60427482986482, 70.81292749426211, 49.50077320076148, 63.54019468333837, 43.479854933350396, 36.28621782683104, 72.87490287214095, 25.471664566608922, 24.668624290373593, 12.744214966161872, 12.062736470431586, 13.211107259025724, 2.5469745068470706, 2.272039180961008, 26.806382160580377, 5.205324034156919, 1.6870727603451472, 80.70119140744029, 1.275527823256108, 4.422881951321424, 5.957819899498571, 14.008937423421324, 68.12828944271622, 171.16986940911204, 17.192401250594987, 51.36278598801777, 97.33143288297534, 89.46887967895823, 119.39176757026344, 98.38126304862773, 329.16163959030814, 203.45927155039186, 187.53949071614625, 176.93040458392824, 131.10710286072316, 111.42458282227166, 103.62230178928452, 102.7309138103088, 95.4625897375961, 93.50812138098311, 90.18292331126807, 89.99583906454677, 87.57212570613407, 71.84295087005626, 63.84612254809487, 59.90154024120151, 59.5240894674685, 167.70232438374103, 38.905816552664575, 31.434155613717568, 23.80172311199885, 22.334372159369828, 18.877501921528378, 17.90454300184628, 16.631007741175758, 16.02522740351007, 11.437044118862664, 7.241524561059852, 6.136183192681597, 4.9841649690734675, 6.90236871253876, 63.684642490435806, 103.15029237175949, 27.40696512839717, 48.277874312759344, 435.13907271735644, 429.09883983148904, 208.3121652864907, 182.6122406526397, 120.4808517350324, 116.42122508341942, 101.40061348605055, 92.30528376021634, 86.9292694257814, 75.41356096086373, 47.083110873197185, 48.468941045004456, 38.66895126788909, 37.17719547215137, 34.06221678931929, 32.31645444423343, 29.206276729083623, 25.16517749602471, 23.979214240038182, 226.71570801138597, 23.94374454400105, 19.372650808197445, 18.24863755316302, 18.108783649279253, 15.728113885154004, 9.04669733183375, 8.859990029776013, 9.06038095198151, 7.791441209143961, 13.842423924716657, 26.80074212394436, 104.54189308247992, 73.34446903739095, 262.98260008517326, 57.664184218219276, 83.01660363479436, 188.04731481173636, 674.0843570672076, 301.34129530441476, 203.6002454201734, 193.70498158137448, 173.08177534181235, 158.87695296423124, 152.29090887952722, 93.02638887864317, 92.0699282537486, 84.78576563064027, 72.56018348202602, 55.033395870704005, 51.91067529994054, 31.454698813210435, 21.938907455661248, 19.8139762252101, 17.327523442621484, 14.466171235220957, 21.117600277528307, 11.317365724425164, 8.83565056850796, 8.826102109679328, 8.566716577322657, 6.471185353872606, 10.323192759934065, 5.732720175567823, 5.086962406903434, 4.804156906521365, 3.784570617849392, 3.7764544558313875, 39.822926003337855, 86.53523401824214, 98.38126304862773, 85.76596402622354, 94.79324715177754, 83.23126075594958, 208.7414604320979, 193.6658597969284, 162.30199145547627, 150.64935314039337, 134.03075710816856, 101.059557686524, 98.72523317232731, 86.15211088022795, 70.46132646254904, 73.20828950007362, 67.83220206429695, 63.30317920945806, 47.391886880908885, 44.608101088482, 38.50338701175384, 36.085143982052486, 26.936425554508343, 18.53713499577029, 16.157199541675457, 15.055294411068877, 28.11888200263645, 14.893640946125885, 9.842782982612405, 8.428678849033275, 7.47343494576846, 6.223912007875189, 5.894099901650238, 34.80268309934496, 6.707743838972208, 119.49905762793345, 96.56828002782167, 10.50785067368763, 69.35301396263648, 47.55303335770811, 81.8601517376337, 144.88428919281685, 87.01013585010985, 131.92064225865616, 62.90248528961266, 183.91024213760832, 232.18278234559958, 220.80724714374463, 175.48866601177755, 163.73060475544906, 138.78515851943217, 136.47687461634368, 118.43345962705217, 108.33131198150846, 103.79970849898103, 100.22855465396975, 85.64911737243591, 77.32019169345176, 76.78125093043981, 66.88579298541319, 58.89243949993527, 54.5467662810148, 44.81998549681342, 32.73678712650465, 40.420165527402595, 25.13733565833482, 23.201681871820732, 17.661510727453294, 12.750247304024017, 12.53454751997912, 9.881057800305557, 9.521846188602856, 9.752479299620171, 10.130121086024964, 7.065448381162767, 19.137924190496967, 31.959375803896858, 50.109066918275246, 94.79324715177754, 87.11001294159684, 44.45948578243781, 51.19066472915302, 148.57188271811, 141.57788149092846, 118.6418037780513, 106.06497802103569, 95.62777726753652, 94.92496286564283, 83.89734467343283, 82.91948029214845, 76.18672026552382, 74.68245573237986, 65.1036442577095, 58.231964474398175, 43.54417014711406, 183.78356930072334, 29.281356820568394, 25.15316473792348, 23.113845939042356, 17.984152185033494, 17.39504950023066, 16.05672664516953, 15.512155374330861, 34.525638134346565, 10.595546655740206, 10.194989307422151, 9.254232665313287, 9.132512877777103, 8.56244773743572, 6.829171526266739, 6.616612591970573, 3.769733901723243, 10.341918486592679, 117.57384703830144, 74.69194026696499, 83.06179777792033, 131.92064225865616, 90.74173163932471, 45.32482959616534, 33.33381374279992], \"Category\": [\"Default\", \"Default\", \"Default\", \"Default\", \"Default\", \"Default\", \"Default\", \"Default\", \"Default\", \"Default\", \"Default\", \"Default\", \"Default\", \"Default\", \"Default\", \"Default\", \"Default\", \"Default\", \"Default\", \"Default\", \"Default\", \"Default\", \"Default\", \"Default\", \"Default\", \"Default\", \"Default\", \"Default\", \"Default\", \"Default\", \"Topic1\", \"Topic1\", \"Topic1\", \"Topic1\", \"Topic1\", \"Topic1\", \"Topic1\", \"Topic1\", \"Topic1\", \"Topic1\", \"Topic1\", \"Topic1\", \"Topic1\", \"Topic1\", \"Topic1\", \"Topic1\", \"Topic1\", \"Topic1\", \"Topic1\", \"Topic1\", \"Topic1\", \"Topic1\", \"Topic1\", \"Topic1\", \"Topic1\", \"Topic1\", \"Topic1\", \"Topic1\", \"Topic1\", \"Topic1\", \"Topic1\", \"Topic1\", \"Topic1\", \"Topic1\", \"Topic1\", \"Topic1\", \"Topic1\", \"Topic1\", \"Topic1\", \"Topic2\", \"Topic2\", \"Topic2\", \"Topic2\", \"Topic2\", \"Topic2\", \"Topic2\", \"Topic2\", \"Topic2\", \"Topic2\", \"Topic2\", \"Topic2\", \"Topic2\", \"Topic2\", \"Topic2\", \"Topic2\", \"Topic2\", \"Topic2\", \"Topic2\", \"Topic2\", \"Topic2\", \"Topic2\", \"Topic2\", \"Topic2\", \"Topic2\", \"Topic2\", \"Topic2\", \"Topic2\", \"Topic2\", \"Topic2\", \"Topic2\", \"Topic2\", \"Topic2\", \"Topic2\", \"Topic2\", \"Topic2\", \"Topic2\", \"Topic2\", \"Topic2\", \"Topic3\", \"Topic3\", \"Topic3\", \"Topic3\", \"Topic3\", \"Topic3\", \"Topic3\", \"Topic3\", \"Topic3\", \"Topic3\", \"Topic3\", \"Topic3\", \"Topic3\", \"Topic3\", \"Topic3\", \"Topic3\", \"Topic3\", \"Topic3\", \"Topic3\", \"Topic3\", \"Topic3\", \"Topic3\", \"Topic3\", \"Topic3\", \"Topic3\", \"Topic3\", \"Topic3\", \"Topic3\", \"Topic3\", \"Topic3\", \"Topic3\", \"Topic3\", \"Topic3\", \"Topic3\", \"Topic3\", \"Topic3\", \"Topic3\", \"Topic3\", \"Topic3\", \"Topic3\", \"Topic4\", \"Topic4\", \"Topic4\", \"Topic4\", \"Topic4\", \"Topic4\", \"Topic4\", \"Topic4\", \"Topic4\", \"Topic4\", \"Topic4\", \"Topic4\", \"Topic4\", \"Topic4\", \"Topic4\", \"Topic4\", \"Topic4\", \"Topic4\", \"Topic4\", \"Topic4\", \"Topic4\", \"Topic4\", \"Topic4\", \"Topic4\", \"Topic4\", \"Topic4\", \"Topic4\", \"Topic4\", \"Topic4\", \"Topic4\", \"Topic4\", \"Topic4\", \"Topic4\", \"Topic4\", \"Topic4\", \"Topic4\", \"Topic4\", \"Topic4\", \"Topic4\", \"Topic5\", \"Topic5\", \"Topic5\", \"Topic5\", \"Topic5\", \"Topic5\", \"Topic5\", \"Topic5\", \"Topic5\", \"Topic5\", \"Topic5\", \"Topic5\", \"Topic5\", \"Topic5\", \"Topic5\", \"Topic5\", \"Topic5\", \"Topic5\", \"Topic5\", \"Topic5\", \"Topic5\", \"Topic5\", \"Topic5\", \"Topic5\", \"Topic5\", \"Topic5\", \"Topic5\", \"Topic5\", \"Topic5\", \"Topic5\", \"Topic5\", \"Topic5\", \"Topic5\", \"Topic5\", \"Topic5\", \"Topic5\", \"Topic5\", \"Topic5\", \"Topic6\", \"Topic6\", \"Topic6\", \"Topic6\", \"Topic6\", \"Topic6\", \"Topic6\", \"Topic6\", \"Topic6\", \"Topic6\", \"Topic6\", \"Topic6\", \"Topic6\", \"Topic6\", \"Topic6\", \"Topic6\", \"Topic6\", \"Topic6\", \"Topic6\", \"Topic6\", \"Topic6\", \"Topic6\", \"Topic6\", \"Topic6\", \"Topic6\", \"Topic6\", \"Topic6\", \"Topic6\", \"Topic6\", \"Topic6\", \"Topic6\", \"Topic6\", \"Topic7\", \"Topic7\", \"Topic7\", \"Topic7\", \"Topic7\", \"Topic7\", \"Topic7\", \"Topic7\", \"Topic7\", \"Topic7\", \"Topic7\", \"Topic7\", \"Topic7\", \"Topic7\", \"Topic7\", \"Topic7\", \"Topic7\", \"Topic7\", \"Topic7\", \"Topic7\", \"Topic7\", \"Topic7\", \"Topic7\", \"Topic7\", \"Topic7\", \"Topic7\", \"Topic7\", \"Topic7\", \"Topic7\", \"Topic7\", \"Topic7\", \"Topic7\", \"Topic7\", \"Topic7\", \"Topic7\", \"Topic8\", \"Topic8\", \"Topic8\", \"Topic8\", \"Topic8\", \"Topic8\", \"Topic8\", \"Topic8\", \"Topic8\", \"Topic8\", \"Topic8\", \"Topic8\", \"Topic8\", \"Topic8\", \"Topic8\", \"Topic8\", \"Topic8\", \"Topic8\", \"Topic8\", \"Topic8\", \"Topic8\", \"Topic8\", \"Topic8\", \"Topic8\", \"Topic8\", \"Topic8\", \"Topic8\", \"Topic8\", \"Topic8\", \"Topic8\", \"Topic8\", \"Topic8\", \"Topic8\", \"Topic8\", \"Topic8\", \"Topic8\", \"Topic8\", \"Topic8\", \"Topic8\", \"Topic9\", \"Topic9\", \"Topic9\", \"Topic9\", \"Topic9\", \"Topic9\", \"Topic9\", \"Topic9\", \"Topic9\", \"Topic9\", \"Topic9\", \"Topic9\", \"Topic9\", \"Topic9\", \"Topic9\", \"Topic9\", \"Topic9\", \"Topic9\", \"Topic9\", \"Topic9\", \"Topic9\", \"Topic9\", \"Topic9\", \"Topic9\", \"Topic9\", \"Topic9\", \"Topic9\", \"Topic9\", \"Topic9\", \"Topic9\", \"Topic9\", \"Topic9\", \"Topic9\", \"Topic9\", \"Topic9\", \"Topic9\", \"Topic9\", \"Topic9\", \"Topic10\", \"Topic10\", \"Topic10\", \"Topic10\", \"Topic10\", \"Topic10\", \"Topic10\", \"Topic10\", \"Topic10\", \"Topic10\", \"Topic10\", \"Topic10\", \"Topic10\", \"Topic10\", \"Topic10\", \"Topic10\", \"Topic10\", \"Topic10\", \"Topic10\", \"Topic10\", \"Topic10\", \"Topic10\", \"Topic10\", \"Topic10\", \"Topic10\", \"Topic10\", \"Topic10\", \"Topic10\", \"Topic10\", \"Topic10\", \"Topic10\", \"Topic10\", \"Topic10\", \"Topic10\", \"Topic10\", \"Topic11\", \"Topic11\", \"Topic11\", \"Topic11\", \"Topic11\", \"Topic11\", \"Topic11\", \"Topic11\", \"Topic11\", \"Topic11\", \"Topic11\", \"Topic11\", \"Topic11\", \"Topic11\", \"Topic11\", \"Topic11\", \"Topic11\", \"Topic11\", \"Topic11\", \"Topic11\", \"Topic11\", \"Topic11\", \"Topic11\", \"Topic11\", \"Topic11\", \"Topic11\", \"Topic11\", \"Topic11\", \"Topic11\", \"Topic11\", \"Topic11\", \"Topic11\", \"Topic11\", \"Topic11\", \"Topic11\", \"Topic11\", \"Topic11\", \"Topic11\", \"Topic11\", \"Topic11\", \"Topic12\", \"Topic12\", \"Topic12\", \"Topic12\", \"Topic12\", \"Topic12\", \"Topic12\", \"Topic12\", \"Topic12\", \"Topic12\", \"Topic12\", \"Topic12\", \"Topic12\", \"Topic12\", \"Topic12\", \"Topic12\", \"Topic12\", \"Topic12\", \"Topic12\", \"Topic12\", \"Topic12\", \"Topic12\", \"Topic12\", \"Topic12\", \"Topic12\", \"Topic12\", \"Topic12\", \"Topic12\", \"Topic12\", \"Topic12\", \"Topic12\", \"Topic12\", \"Topic12\", \"Topic12\", \"Topic12\", \"Topic12\", \"Topic12\", \"Topic12\", \"Topic12\", \"Topic12\", \"Topic13\", \"Topic13\", \"Topic13\", \"Topic13\", \"Topic13\", \"Topic13\", \"Topic13\", \"Topic13\", \"Topic13\", \"Topic13\", \"Topic13\", \"Topic13\", \"Topic13\", \"Topic13\", \"Topic13\", \"Topic13\", \"Topic13\", \"Topic13\", \"Topic13\", \"Topic13\", \"Topic13\", \"Topic13\", \"Topic13\", \"Topic13\", \"Topic13\", \"Topic13\", \"Topic13\", \"Topic13\", \"Topic13\", \"Topic13\", \"Topic13\", \"Topic13\", \"Topic13\", \"Topic13\", \"Topic14\", \"Topic14\", \"Topic14\", \"Topic14\", \"Topic14\", \"Topic14\", \"Topic14\", \"Topic14\", \"Topic14\", \"Topic14\", \"Topic14\", \"Topic14\", \"Topic14\", \"Topic14\", \"Topic14\", \"Topic14\", \"Topic14\", \"Topic14\", \"Topic14\", \"Topic14\", \"Topic14\", \"Topic14\", \"Topic14\", \"Topic14\", \"Topic14\", \"Topic14\", \"Topic14\", \"Topic14\", \"Topic14\", \"Topic14\", \"Topic14\", \"Topic14\", \"Topic14\", \"Topic14\", \"Topic14\", \"Topic14\", \"Topic14\", \"Topic14\", \"Topic14\", \"Topic15\", \"Topic15\", \"Topic15\", \"Topic15\", \"Topic15\", \"Topic15\", \"Topic15\", \"Topic15\", \"Topic15\", \"Topic15\", \"Topic15\", \"Topic15\", \"Topic15\", \"Topic15\", \"Topic15\", \"Topic15\", \"Topic15\", \"Topic15\", \"Topic15\", \"Topic15\", \"Topic15\", \"Topic15\", \"Topic15\", \"Topic15\", \"Topic15\", \"Topic15\", \"Topic15\", \"Topic15\", \"Topic15\", \"Topic15\", \"Topic15\", \"Topic15\", \"Topic15\", \"Topic15\", \"Topic15\", \"Topic16\", \"Topic16\", \"Topic16\", \"Topic16\", \"Topic16\", \"Topic16\", \"Topic16\", \"Topic16\", \"Topic16\", \"Topic16\", \"Topic16\", \"Topic16\", \"Topic16\", \"Topic16\", \"Topic16\", \"Topic16\", \"Topic16\", \"Topic16\", \"Topic16\", \"Topic16\", \"Topic16\", \"Topic16\", \"Topic16\", \"Topic16\", \"Topic16\", \"Topic16\", \"Topic16\", \"Topic16\", \"Topic16\", \"Topic16\", \"Topic16\", \"Topic16\", \"Topic16\", \"Topic16\", \"Topic16\", \"Topic16\", \"Topic16\", \"Topic17\", \"Topic17\", \"Topic17\", \"Topic17\", \"Topic17\", \"Topic17\", \"Topic17\", \"Topic17\", \"Topic17\", \"Topic17\", \"Topic17\", \"Topic17\", \"Topic17\", \"Topic17\", \"Topic17\", \"Topic17\", \"Topic17\", \"Topic17\", \"Topic17\", \"Topic17\", \"Topic17\", \"Topic17\", \"Topic17\", \"Topic17\", \"Topic17\", \"Topic17\", \"Topic17\", \"Topic17\", \"Topic17\", \"Topic17\", \"Topic17\", \"Topic17\", \"Topic17\", \"Topic17\", \"Topic17\", \"Topic17\", \"Topic18\", \"Topic18\", \"Topic18\", \"Topic18\", \"Topic18\", \"Topic18\", \"Topic18\", \"Topic18\", \"Topic18\", \"Topic18\", \"Topic18\", \"Topic18\", \"Topic18\", \"Topic18\", \"Topic18\", \"Topic18\", \"Topic18\", \"Topic18\", \"Topic18\", \"Topic18\", \"Topic18\", \"Topic18\", \"Topic18\", \"Topic18\", \"Topic18\", \"Topic18\", \"Topic18\", \"Topic18\", \"Topic18\", \"Topic18\", \"Topic18\", \"Topic18\", \"Topic18\", \"Topic18\", \"Topic18\", \"Topic18\", \"Topic18\", \"Topic18\", \"Topic18\", \"Topic18\", \"Topic19\", \"Topic19\", \"Topic19\", \"Topic19\", \"Topic19\", \"Topic19\", \"Topic19\", \"Topic19\", \"Topic19\", \"Topic19\", \"Topic19\", \"Topic19\", \"Topic19\", \"Topic19\", \"Topic19\", \"Topic19\", \"Topic19\", \"Topic19\", \"Topic19\", \"Topic19\", \"Topic19\", \"Topic19\", \"Topic19\", \"Topic19\", \"Topic19\", \"Topic19\", \"Topic19\", \"Topic19\", \"Topic19\", \"Topic19\", \"Topic19\", \"Topic19\", \"Topic19\", \"Topic19\", \"Topic19\", \"Topic19\", \"Topic20\", \"Topic20\", \"Topic20\", \"Topic20\", \"Topic20\", \"Topic20\", \"Topic20\", \"Topic20\", \"Topic20\", \"Topic20\", \"Topic20\", \"Topic20\", \"Topic20\", \"Topic20\", \"Topic20\", \"Topic20\", \"Topic20\", \"Topic20\", \"Topic20\", \"Topic20\", \"Topic20\", \"Topic20\", \"Topic20\", \"Topic20\", \"Topic20\", \"Topic20\", \"Topic20\", \"Topic20\", \"Topic20\", \"Topic20\", \"Topic20\", \"Topic20\", \"Topic20\", \"Topic20\", \"Topic20\", \"Topic20\", \"Topic20\", \"Topic20\"], \"logprob\": [30.0, 29.0, 28.0, 27.0, 26.0, 25.0, 24.0, 23.0, 22.0, 21.0, 20.0, 19.0, 18.0, 17.0, 16.0, 15.0, 14.0, 13.0, 12.0, 11.0, 10.0, 9.0, 8.0, 7.0, 6.0, 5.0, 4.0, 3.0, 2.0, 1.0, -1.5594, -1.9486, -2.8031, -3.4718, -3.5087, -3.724, -3.9211, -3.9299, -4.0809, -4.1459, -4.4504, -4.457, -4.6743, -4.7692, -4.0502, -5.0732, -4.6932, -5.2891, -5.3739, -5.4328, -5.5632, -5.2537, -5.2104, -6.2075, -6.377, -6.4419, -6.5464, -4.3339, -6.6757, -5.4854, -5.3986, -5.5476, -4.6957, -5.0665, -5.7299, -5.3265, -5.0827, -5.0094, -5.3516, -1.7291, -2.3872, -2.7741, -2.8977, -3.0091, -3.0291, -3.4659, -3.6506, -3.4379, -3.8524, -3.8677, -4.1641, -4.3041, -4.5002, -4.6259, -4.6741, -4.7353, -4.6297, -5.0913, -5.3679, -5.4332, -5.8485, -6.3518, -3.1291, -6.728, -6.8191, -6.9697, -6.996, -7.1861, -7.5298, -4.4784, -4.017, -6.5016, -5.6297, -5.9857, -5.8839, -6.0562, -5.8904, -6.0209, -2.0059, -2.2007, -2.6755, -2.7223, -2.7352, -2.7653, -2.8208, -3.0698, -3.5013, -3.9207, -4.0862, -4.12, -4.5657, -4.8525, -5.0458, -4.8517, -5.967, -5.5652, -6.2355, -6.8045, -6.79, -6.9935, -5.1395, -7.2323, -6.7285, -5.6217, -4.2, -8.227, -5.7531, -8.7248, -4.3639, -5.1083, -5.5393, -5.1339, -5.4822, -5.4414, -6.1186, -5.9009, -6.0946, -6.0569, -1.8497, -2.4766, -2.4844, -2.5435, -2.7683, -2.9221, -3.0619, -3.1695, -3.3577, -3.8368, -4.3443, -4.3577, -4.227, -4.4422, -4.615, -4.6967, -4.7682, -4.7692, -4.7175, -5.5336, -5.7377, -6.1996, -6.3614, -5.1417, -4.4494, -6.8513, -5.8705, -6.3831, -6.3857, -7.0196, -5.718, -5.8605, -5.1934, -5.5862, -5.4801, -5.7038, -5.5954, -5.6753, -5.6813, -1.9444, -2.4722, -2.9236, -2.954, -3.0153, -3.4666, -3.4639, -3.6094, -3.6631, -3.7816, -3.8702, -3.9556, -4.0869, -4.1834, -4.2017, -4.2481, -4.3307, -4.2838, -4.5745, -4.6257, -4.6353, -4.687, -5.0906, -5.2272, -3.9936, -6.1488, -6.3002, -6.448, -6.454, -6.5582, -5.395, -3.9241, -4.5045, -5.4387, -4.0294, -4.3001, -4.5716, -5.1489, -2.4589, -2.5531, -2.7568, -2.7752, -2.7846, -3.0919, -3.1085, -3.2676, -3.277, -3.3852, -3.4399, -3.8494, -3.8847, -3.9616, -4.0464, -4.0866, -4.1849, -4.2508, -4.5687, -4.5779, -4.5863, -4.5556, -4.6561, -4.9885, -4.9994, -5.0647, -5.1994, -5.411, -5.4567, -4.2816, -4.4559, -4.7699, -1.7838, -2.6061, -2.8487, -3.0102, -3.2095, -3.244, -3.2854, -3.5957, -3.7197, -3.8545, -3.8975, -4.0305, -3.9553, -4.1046, -3.0926, -4.1691, -4.3044, -4.4905, -4.5137, -4.5703, -4.6913, -4.7178, -5.1803, -5.195, -5.5531, -5.6793, -5.9144, -6.0253, -6.2198, -6.4073, -5.0467, -4.6392, -5.1696, -5.4505, -5.4479, -1.9713, -2.5267, -2.5944, -2.6853, -2.8026, -2.914, -2.9331, -3.2888, -3.5133, -3.7434, -3.9702, -4.1361, -4.4118, -4.482, -4.525, -4.6134, -4.7201, -4.8764, -5.4387, -5.3154, -5.7618, -5.7996, -3.5701, -5.9167, -6.1419, -6.3323, -6.325, -3.598, -6.6115, -6.6099, -6.3897, -6.4141, -4.7997, -5.1252, -5.1185, -5.4191, -5.298, -5.5856, -5.7057, -1.728, -2.9225, -2.9785, -3.2055, -3.2065, -3.2865, -3.5112, -3.5433, -3.6693, -3.8135, -3.5385, -4.4487, -4.4544, -4.5004, -4.6265, -3.6819, -4.7244, -4.7625, -4.2781, -4.943, -5.0044, -5.0668, -5.3607, -5.3319, -5.4694, -5.567, -5.6548, -5.8977, -5.7634, -5.9149, -4.9851, -4.4256, -4.1962, -4.4639, -5.0345, -4.4865, -4.562, -5.0041, -2.2431, -2.5216, -2.5837, -2.6636, -2.9188, -3.008, -3.027, -3.406, -3.3069, -3.5633, -3.7135, -3.8341, -3.8575, -4.1213, -4.131, -4.5227, -4.5698, -4.1718, -4.8029, -5.0166, -5.2194, -5.2198, -5.3327, -4.8859, -5.5842, -5.8475, -5.7316, -6.4026, -6.4731, -5.5005, -3.7751, -5.7597, -5.2558, -5.3402, -5.5569, -1.8315, -1.9482, -2.3204, -2.5289, -3.1715, -3.5919, -3.911, -3.9473, -3.9872, -4.1208, -3.9805, -4.4988, -4.5179, -4.5352, -4.533, -4.6342, -4.6362, -4.8588, -4.9303, -5.1246, -5.4766, -5.6993, -5.9052, -6.3471, -6.5203, -5.3493, -7.3483, -7.406, -5.0559, -7.7741, -6.2545, -6.4168, -4.2194, -4.8659, -4.6253, -5.1631, -5.4493, -5.1751, -5.4851, -5.4532, -1.856, -1.8608, -2.5548, -2.7289, -2.9407, -3.2517, -3.3392, -3.7008, -3.7385, -4.0375, -4.0865, -3.5539, -4.3326, -4.4106, -4.3651, -4.6793, -5.2997, -5.3179, -5.5581, -5.3667, -5.8665, -5.9972, -6.4173, -6.606, -6.9358, -6.9816, -7.0099, -7.1816, -7.3892, -7.4644, -4.0373, -4.6136, -5.0545, -4.2681, -5.4228, -5.8235, -4.6973, -5.4667, -5.4477, -5.6494, -2.0348, -2.4765, -2.8115, -2.8548, -2.2835, -3.3628, -3.3243, -3.7664, -3.8246, -3.8613, -3.6804, -4.0359, -4.0762, -4.1783, -4.2083, -3.6511, -4.4119, -4.5576, -4.6052, -5.0209, -5.1434, -5.1944, -5.3794, -5.521, -5.5823, -5.6474, -3.9708, -6.0415, -6.1976, -4.5269, -4.1016, -4.481, -5.1285, -5.4174, -1.7795, -2.1929, -2.3891, -2.4201, -2.8534, -3.0484, -3.0586, -3.1914, -3.3801, -3.5581, -3.8614, -4.2247, -3.9768, -4.3567, -4.5415, -3.849, -4.9055, -4.9387, -5.6327, -5.7474, -5.6593, -7.575, -7.7511, -5.4195, -7.0978, -8.2761, -4.7263, -8.9416, -7.7037, -7.5385, -6.741, -5.4086, -4.9943, -6.7256, -6.0214, -5.7074, -5.7538, -5.7225, -5.9153, -2.2863, -2.7689, -2.8508, -2.9093, -3.2106, -3.3744, -3.4476, -3.4563, -3.5303, -3.5511, -3.5877, -3.5898, -3.6173, -3.8174, -3.9368, -4.0014, -4.0079, -2.9747, -4.4405, -4.6589, -4.9457, -5.0117, -5.1868, -5.2422, -5.3197, -5.3587, -5.7179, -6.2207, -6.4096, -6.6539, -6.3291, -4.617, -4.5372, -5.4183, -5.1824, -2.0063, -2.0204, -2.7451, -2.8773, -3.2955, -3.33, -3.4692, -3.564, -3.6246, -3.7682, -4.246, -4.2175, -4.4467, -4.487, -4.5766, -4.6305, -4.7345, -4.8882, -4.9381, -2.6972, -4.9467, -5.16, -5.2225, -5.2306, -5.3788, -5.9738, -5.9976, -5.9762, -6.1396, -5.6176, -5.2724, -4.7421, -4.9215, -4.4051, -5.2526, -5.3194, -5.3065, -1.5445, -2.3512, -2.7446, -2.7946, -2.9077, -2.9937, -3.0363, -3.5327, -3.5431, -3.6263, -3.7837, -4.0638, -4.1231, -4.6346, -5.0073, -5.1127, -5.253, -5.4454, -5.0707, -5.7058, -5.9758, -5.9771, -6.01, -6.3378, -5.8758, -6.4653, -6.6064, -6.6749, -6.9707, -6.9735, -5.4021, -5.0837, -5.0846, -5.2399, -5.8328, -6.0592, -2.6167, -2.692, -2.8695, -2.9444, -3.0619, -3.3463, -3.3699, -3.5074, -3.7105, -3.6723, -3.749, -3.8189, -4.1128, -4.1744, -4.3248, -4.3909, -4.6912, -5.0791, -5.2233, -5.2979, -4.6736, -5.3103, -5.7537, -5.9241, -6.0581, -6.266, -6.3289, -4.5562, -6.2256, -3.3679, -3.693, -5.8133, -4.3307, -4.6969, -4.413, -4.1742, -4.6015, -4.4391, -5.0555, -5.0484, -2.5057, -2.5561, -2.7868, -2.8565, -3.0227, -3.0396, -3.1823, -3.2721, -3.3152, -3.3505, -3.5091, -3.6125, -3.6195, -3.7591, -3.8881, -3.9659, -4.1656, -4.4868, -4.2779, -4.7588, -4.8418, -5.1265, -5.4712, -5.4896, -5.7465, -5.7901, -5.7671, -5.7324, -6.1191, -5.1315, -4.7501, -4.7098, -4.3121, -5.0127, -5.5183, -5.5046, -2.6477, -2.6962, -2.8741, -2.987, -3.0914, -3.0989, -3.2235, -3.2354, -3.3209, -3.3411, -3.48, -3.5931, -3.8886, -2.4573, -4.2949, -4.4517, -4.5392, -4.8008, -4.8358, -4.92, -4.9565, -4.1678, -5.3641, -5.406, -5.5133, -5.5267, -5.5975, -5.8514, -5.8885, -6.5647, -5.556, -3.5606, -4.2589, -4.2242, -4.7865, -4.9931, -5.178, -5.2676], \"loglift\": [30.0, 29.0, 28.0, 27.0, 26.0, 25.0, 24.0, 23.0, 22.0, 21.0, 20.0, 19.0, 18.0, 17.0, 16.0, 15.0, 14.0, 13.0, 12.0, 11.0, 10.0, 9.0, 8.0, 7.0, 6.0, 5.0, 4.0, 3.0, 2.0, 1.0, 2.4721, 2.4718, 2.4706, 2.4686, 2.4685, 2.4675, 2.4663, 2.4663, 2.4651, 2.4647, 2.4619, 2.4603, 2.4592, 2.4579, 2.4548, 2.4526, 2.4502, 2.4479, 2.4457, 2.4441, 2.4397, 2.4271, 2.4262, 2.4116, 2.3997, 2.3921, 2.388, 2.3822, 2.3768, 2.3549, 2.2625, 2.2265, 2.0571, 1.9402, 2.1427, 1.8146, 1.0747, 0.8606, 0.8718, 2.6479, 2.6471, 2.6464, 2.6461, 2.6457, 2.6457, 2.644, 2.643, 2.6428, 2.6417, 2.6416, 2.6388, 2.6376, 2.6352, 2.6334, 2.6327, 2.6317, 2.6315, 2.6245, 2.6168, 2.6142, 2.5976, 2.5604, 2.531, 2.5296, 2.5189, 2.4993, 2.4916, 2.4664, 2.4002, 2.3505, 1.5895, 2.0504, 0.9909, 1.2062, 0.9123, 1.0523, 0.333, 0.7842, 2.7584, 2.7581, 2.7572, 2.757, 2.757, 2.7569, 2.7568, 2.756, 2.754, 2.7511, 2.7495, 2.7492, 2.7434, 2.7381, 2.7332, 2.7204, 2.6953, 2.6896, 2.6763, 2.6153, 2.6035, 2.5895, 2.5533, 2.5476, 2.4661, 2.4433, 2.2743, 2.2671, 2.1459, 2.037, 1.8594, 1.7577, 1.6625, 1.0922, 0.7986, 0.2433, 1.1179, 0.1192, 0.9785, -0.1299, 2.766, 2.765, 2.765, 2.7649, 2.7643, 2.7639, 2.7634, 2.763, 2.7622, 2.7591, 2.7539, 2.7537, 2.7527, 2.7526, 2.7498, 2.7484, 2.747, 2.747, 2.7423, 2.7245, 2.7151, 2.6857, 2.672, 2.6707, 2.6292, 2.6073, 2.5763, 2.564, 2.5551, 2.485, 2.1848, 1.8379, 0.8489, 1.1265, 0.7984, 0.7823, 0.3317, 0.3735, -0.0748, 2.8459, 2.845, 2.8437, 2.8436, 2.8434, 2.8412, 2.8411, 2.8403, 2.8399, 2.839, 2.8383, 2.8375, 2.8361, 2.835, 2.8348, 2.8341, 2.8331, 2.8326, 2.8292, 2.8283, 2.8281, 2.8271, 2.8173, 2.813, 2.7974, 2.7623, 2.7459, 2.7358, 2.7352, 2.7236, 2.6365, 2.283, 2.2443, 2.4434, 1.8407, 1.8573, 1.7618, 1.8579, 2.8988, 2.8986, 2.898, 2.898, 2.8979, 2.8968, 2.8967, 2.896, 2.8959, 2.8953, 2.895, 2.8919, 2.8916, 2.8908, 2.8899, 2.8894, 2.8882, 2.8874, 2.8822, 2.8821, 2.8819, 2.8814, 2.8805, 2.8725, 2.8722, 2.8703, 2.8659, 2.8578, 2.8553, 2.8315, 1.1507, 1.2789, 2.915, 2.9135, 2.9127, 2.9121, 2.9112, 2.9111, 2.9109, 2.9089, 2.908, 2.9068, 2.9064, 2.905, 2.9048, 2.9042, 2.9036, 2.9034, 2.9, 2.8986, 2.8982, 2.8972, 2.8948, 2.8942, 2.8815, 2.881, 2.8662, 2.8597, 2.8453, 2.8373, 2.8211, 2.7954, 2.5669, 1.6165, 1.5038, 1.9043, 0.9748, 3.0079, 3.0067, 3.0065, 3.0062, 3.0058, 3.0054, 3.0053, 3.0036, 3.0021, 3.0003, 2.9979, 2.9959, 2.9916, 2.9903, 2.9895, 2.9877, 2.9853, 2.98, 2.9605, 2.9562, 2.9424, 2.9399, 2.9387, 2.926, 2.9129, 2.8938, 2.8935, 2.8675, 2.8564, 2.8549, 2.7454, 2.7573, 1.4788, 1.0727, 0.9015, 1.3597, 0.9092, 1.2495, -0.021, 3.0124, 3.0096, 3.0094, 3.0083, 3.0083, 3.0078, 3.0064, 3.0061, 3.0051, 3.0038, 2.9997, 2.9952, 2.9951, 2.9942, 2.9916, 2.9894, 2.9894, 2.9884, 2.9881, 2.9835, 2.9816, 2.9746, 2.9682, 2.9649, 2.9631, 2.9581, 2.9531, 2.9371, 2.9363, 2.9358, 2.8904, 2.7249, 2.6484, 2.6962, 2.6861, 1.3836, 1.4867, 1.801, 3.0292, 3.0285, 3.0283, 3.0281, 3.0272, 3.0268, 3.0267, 3.0246, 3.0235, 3.0235, 3.0216, 3.021, 3.0208, 3.0177, 3.0175, 3.011, 3.01, 3.0063, 3.0045, 2.9983, 2.991, 2.991, 2.9863, 2.9664, 2.9662, 2.9554, 2.9177, 2.9055, 2.8969, 2.859, 2.1519, 2.4971, 1.5226, 1.3277, 1.5516, 3.0384, 3.0382, 3.0375, 3.037, 3.0344, 3.0316, 3.0286, 3.0282, 3.0277, 3.026, 3.0245, 3.0197, 3.0193, 3.019, 3.019, 3.0168, 3.0168, 3.0107, 3.009, 3.0026, 2.9873, 2.9738, 2.9601, 2.9187, 2.8974, 2.7451, 2.7394, 2.7186, 2.6445, 2.6104, 2.4516, 2.4624, 1.4653, 1.5568, 1.2448, 1.4554, 1.6918, 0.845, 1.1883, 0.8024, 3.1033, 3.1033, 3.1018, 3.1012, 3.1003, 3.0986, 3.0981, 3.0951, 3.0948, 3.0913, 3.0905, 3.0902, 3.0867, 3.0835, 3.0821, 3.0792, 3.0577, 3.0569, 3.0443, 3.0271, 3.0232, 3.0123, 2.9673, 2.9405, 2.8835, 2.8741, 2.8673, 2.8296, 2.7757, 2.7537, 2.0768, 2.1493, 2.1476, 1.752, 1.9272, 2.075, 0.9874, 1.0194, 0.8582, 1.2594, 3.1054, 3.1044, 3.1033, 3.1031, 3.1015, 3.1003, 3.0997, 3.0969, 3.0962, 3.0958, 3.0937, 3.0937, 3.0931, 3.0916, 3.0911, 3.0884, 3.0875, 3.0844, 3.0833, 3.0712, 3.0666, 3.0645, 3.056, 3.048, 3.0449, 3.0408, 3.0337, 3.0102, 2.9947, 2.9795, 2.7006, 1.5613, 0.9202, 0.8611, 3.1457, 3.145, 3.1445, 3.1444, 3.1428, 3.1419, 3.1418, 3.1411, 3.1398, 3.1384, 3.1353, 3.1301, 3.1282, 3.1277, 3.1238, 3.119, 3.1137, 3.1126, 3.079, 3.0192, 3.0164, 2.7469, 2.685, 2.5486, 2.5093, 2.4577, 2.1396, 2.0718, 2.0662, 1.9335, 1.876, 1.6267, 1.1198, 1.6867, 1.2964, 0.9712, 1.009, 0.7518, 0.7526, 3.1739, 3.1723, 3.172, 3.1717, 3.1701, 3.169, 3.1684, 3.1684, 3.1677, 3.1676, 3.1672, 3.1672, 3.167, 3.1649, 3.1634, 3.1626, 3.1625, 3.1599, 3.1551, 3.1499, 3.1413, 3.1389, 3.132, 3.1295, 3.1258, 3.1238, 3.102, 3.0562, 3.0329, 2.9966, 2.9958, 2.4858, 2.0833, 2.5276, 2.1974, 3.1747, 3.1747, 3.1726, 3.1721, 3.1697, 3.1695, 3.1684, 3.1676, 3.1671, 3.1656, 3.1589, 3.1583, 3.155, 3.1541, 3.152, 3.1506, 3.1478, 3.1431, 3.1414, 3.1358, 3.1343, 3.1329, 3.1301, 3.1298, 3.1225, 3.0805, 3.0776, 3.0767, 3.0641, 3.0114, 2.6959, 1.8651, 2.0401, 1.2796, 1.9495, 1.5183, 0.7136, 3.1988, 3.1973, 3.196, 3.1958, 3.1953, 3.1949, 3.1947, 3.1912, 3.1911, 3.1903, 3.1887, 3.185, 3.1841, 3.1736, 3.1611, 3.1577, 3.1514, 3.1395, 3.136, 3.1246, 3.1021, 3.102, 3.0988, 3.0515, 3.0465, 3.0452, 3.0237, 3.0123, 2.9551, 2.9545, 2.1702, 1.7125, 1.5833, 1.5653, 0.8722, 0.7759, 3.2989, 3.2986, 3.2978, 3.2974, 3.2967, 3.2947, 3.2945, 3.2932, 3.2912, 3.2912, 3.2907, 3.2899, 3.2855, 3.2844, 3.2812, 3.28, 3.2721, 3.2578, 3.251, 3.2471, 3.2467, 3.2455, 3.2163, 3.201, 3.1873, 3.1623, 3.1539, 3.1508, 3.1279, 3.1056, 2.9935, 3.0913, 2.6868, 2.698, 2.4388, 2.1066, 2.1893, 1.9354, 2.0596, 0.9939, 3.3035, 3.3033, 3.3024, 3.302, 3.3011, 3.301, 3.3001, 3.2994, 3.2991, 3.2988, 3.2974, 3.2963, 3.2962, 3.2946, 3.2929, 3.2918, 3.2884, 3.2815, 3.2795, 3.2736, 3.2708, 3.2588, 3.24, 3.2387, 3.2196, 3.2131, 3.2122, 3.2088, 3.1825, 3.1736, 3.0421, 2.6328, 2.393, 1.7769, 1.9439, 1.8166, 3.608, 3.6077, 3.6065, 3.6057, 3.6049, 3.6048, 3.6036, 3.6035, 3.6026, 3.6024, 3.6007, 3.5992, 3.5943, 3.5857, 3.5849, 3.5801, 3.5771, 3.5664, 3.5648, 3.5606, 3.5587, 3.5472, 3.5322, 3.5288, 3.5183, 3.5182, 3.5118, 3.4842, 3.4787, 3.3651, 3.3645, 2.929, 2.6845, 2.613, 1.588, 1.7556, 2.2649, 2.4826]}, \"token.table\": {\"Topic\": [14, 10, 19, 9, 5, 10, 18, 7, 1, 2, 3, 4, 5, 7, 9, 10, 15, 18, 9, 1, 2, 3, 4, 5, 6, 7, 8, 9, 10, 11, 12, 13, 14, 15, 16, 17, 18, 19, 1, 2, 3, 4, 5, 6, 7, 8, 9, 10, 11, 12, 13, 14, 15, 16, 17, 18, 19, 8, 6, 3, 18, 11, 18, 9, 16, 17, 15, 17, 7, 4, 1, 2, 3, 4, 5, 6, 7, 8, 9, 10, 11, 12, 13, 14, 15, 16, 17, 18, 19, 19, 1, 2, 3, 4, 8, 16, 1, 3, 5, 7, 10, 11, 12, 17, 1, 2, 3, 4, 5, 6, 7, 8, 9, 10, 11, 12, 13, 14, 15, 16, 17, 18, 19, 8, 12, 6, 16, 1, 2, 3, 4, 5, 6, 7, 8, 9, 10, 11, 12, 13, 14, 15, 16, 17, 18, 19, 8, 18, 9, 15, 1, 2, 3, 4, 5, 6, 7, 8, 9, 10, 11, 12, 13, 14, 15, 16, 17, 18, 19, 20, 3, 1, 17, 16, 2, 1, 2, 3, 6, 7, 9, 10, 14, 16, 18, 20, 1, 9, 13, 3, 4, 5, 11, 18, 1, 2, 3, 4, 5, 6, 7, 8, 9, 10, 11, 12, 13, 14, 15, 16, 17, 18, 19, 20, 19, 13, 1, 2, 3, 4, 5, 6, 7, 9, 11, 1, 2, 3, 4, 5, 6, 7, 8, 9, 10, 11, 12, 13, 14, 15, 16, 17, 18, 19, 16, 11, 14, 6, 1, 2, 10, 19, 17, 8, 15, 1, 2, 3, 4, 5, 6, 7, 8, 9, 10, 11, 12, 13, 14, 15, 16, 17, 18, 19, 1, 2, 3, 4, 5, 7, 8, 2, 18, 4, 12, 19, 3, 20, 1, 2, 3, 4, 5, 6, 7, 8, 9, 10, 11, 12, 13, 14, 15, 16, 17, 18, 19, 20, 17, 19, 10, 12, 20, 6, 12, 8, 5, 1, 2, 3, 4, 5, 6, 7, 8, 9, 10, 11, 12, 15, 16, 17, 18, 18, 4, 8, 6, 1, 2, 3, 4, 5, 6, 7, 8, 9, 10, 11, 12, 13, 14, 15, 16, 17, 18, 19, 1, 2, 9, 11, 4, 11, 17, 19, 1, 2, 3, 4, 5, 6, 11, 12, 15, 3, 10, 12, 6, 1, 2, 3, 8, 13, 9, 10, 6, 18, 16, 19, 7, 11, 1, 3, 9, 13, 15, 18, 20, 13, 14, 19, 15, 11, 2, 1, 2, 3, 4, 5, 6, 7, 8, 9, 10, 11, 12, 15, 16, 17, 18, 19, 13, 1, 2, 3, 4, 5, 6, 7, 8, 9, 10, 11, 12, 13, 14, 15, 16, 17, 18, 19, 6, 15, 14, 3, 19, 11, 1, 11, 19, 2, 19, 1, 2, 3, 4, 5, 6, 7, 8, 9, 10, 11, 12, 15, 16, 17, 18, 10, 13, 1, 2, 3, 4, 5, 7, 9, 11, 18, 20, 1, 2, 4, 5, 17, 19, 1, 7, 15, 15, 20, 9, 16, 1, 15, 12, 10, 10, 19, 9, 1, 2, 3, 4, 5, 6, 7, 8, 9, 14, 2, 7, 11, 9, 18, 6, 12, 15, 14, 3, 15, 13, 1, 2, 3, 4, 5, 6, 7, 8, 9, 10, 11, 12, 13, 14, 15, 16, 17, 18, 19, 11, 5, 8, 19, 13, 2, 15, 20, 5, 4, 2, 13, 3, 9, 15, 10, 8, 9, 15, 19, 6, 4, 16, 1, 2, 10, 17, 12, 1, 14, 1, 2, 3, 4, 5, 6, 7, 9, 11, 14, 17, 2, 2, 16, 6, 18, 18, 17, 9, 10, 10, 1, 2, 3, 4, 5, 6, 7, 8, 9, 10, 11, 12, 13, 14, 15, 16, 17, 18, 19, 14, 9, 19, 1, 3, 10, 1, 2, 3, 4, 5, 6, 7, 8, 9, 10, 11, 12, 13, 14, 15, 16, 17, 18, 19, 5, 3, 5, 2, 4, 7, 1, 19, 11, 4, 15, 10, 10, 11, 12, 4, 1, 2, 16, 1, 2, 7, 8, 14, 6, 17, 16, 1, 2, 6, 17, 4, 13, 5, 1, 2, 3, 4, 5, 6, 7, 8, 9, 10, 11, 12, 13, 14, 15, 16, 17, 18, 19, 5, 1, 2, 3, 5, 15, 4, 2, 14, 2, 1, 2, 4, 10, 5, 20, 12, 11, 1, 2, 3, 4, 5, 6, 7, 8, 9, 10, 11, 15, 17, 18, 1, 2, 3, 4, 5, 6, 7, 8, 9, 10, 11, 12, 13, 14, 15, 16, 17, 18, 19, 20, 17, 11, 7, 4, 11, 1, 2, 3, 4, 5, 6, 7, 8, 9, 10, 11, 12, 13, 14, 15, 16, 17, 18, 19, 13, 20, 1, 2, 3, 4, 5, 6, 7, 8, 9, 10, 11, 12, 13, 14, 15, 16, 17, 18, 19, 10, 1, 1, 2, 3, 4, 5, 6, 7, 8, 9, 10, 11, 12, 13, 14, 15, 16, 17, 18, 19, 1, 1, 2, 3, 4, 5, 6, 7, 8, 9, 10, 11, 12, 13, 14, 15, 16, 17, 18, 19, 20, 16, 14, 10, 1, 1, 2, 3, 4, 5, 6, 7, 8, 9, 10, 11, 12, 13, 14, 15, 16, 17, 18, 19, 6, 15, 6, 1, 5, 11, 4, 1, 2, 3, 4, 5, 6, 7, 8, 9, 10, 11, 12, 13, 15, 16, 17, 18, 20, 12, 1, 2, 3, 4, 5, 6, 7, 8, 9, 11, 12, 3, 8, 10, 11, 12, 15, 16, 19, 13, 13, 1, 2, 3, 4, 5, 6, 7, 8, 9, 10, 11, 12, 13, 14, 15, 16, 17, 18, 1, 2, 3, 4, 5, 7, 9, 11, 18, 15, 4, 11, 12, 5, 7, 15, 6, 8, 7, 1, 2, 3, 4, 5, 6, 7, 8, 9, 10, 11, 12, 13, 14, 15, 16, 17, 18, 19, 20, 1, 2, 3, 4, 5, 6, 7, 8, 9, 10, 11, 12, 14, 15, 16, 17, 18, 19, 20, 1, 1, 2, 18, 1, 2, 3, 4, 5, 6, 7, 8, 9, 10, 11, 12, 13, 14, 15, 16, 17, 18, 19, 20, 12, 10, 1, 1, 2, 3, 4, 5, 6, 7, 8, 9, 10, 11, 12, 13, 14, 15, 16, 17, 18, 19, 20, 7, 16, 13, 5, 17, 5, 12, 1, 2, 3, 4, 5, 6, 7, 8, 9, 10, 11, 12, 13, 14, 15, 16, 17, 18, 19, 20, 12, 14, 10, 19, 9, 20, 1, 2, 3, 4, 5, 6, 7, 8, 9, 10, 11, 12, 13, 14, 15, 16, 17, 18, 19, 20, 12, 10, 1, 2, 3, 4, 5, 6, 7, 8, 9, 10, 11, 12, 13, 14, 15, 16, 17, 18, 19, 6, 12, 19, 9, 2, 9, 10, 1, 11, 13, 20, 9, 8, 8, 13, 18, 1, 2, 3, 4, 5, 6, 7, 8, 9, 10, 11, 12, 13, 14, 15, 16, 17, 18, 19, 20, 11, 12, 17, 19, 5, 8, 13, 15, 15, 5, 8, 1, 20, 3, 3, 18, 1, 2, 3, 4, 5, 6, 7, 8, 9, 10, 11, 12, 15, 1, 2, 3, 4, 6, 2, 1, 2, 3, 4, 5, 6, 7, 8, 9, 10, 11, 12, 13, 14, 15, 16, 17, 18, 19, 17, 5, 11, 11, 13, 4, 8, 1, 2, 9, 1, 2, 3, 4, 5, 7, 11, 14, 17, 9, 1, 2, 3, 4, 5, 6, 11, 14, 17, 16, 17, 2, 10, 16, 12, 1, 10, 18, 20, 14, 17, 1, 5, 6, 6, 20, 7, 14, 2, 11, 12, 9, 9, 13, 1, 7, 9, 3, 3, 18, 11, 20, 11, 14, 1, 2, 1, 2, 3, 4, 5, 6, 7, 8, 9, 10, 11, 12, 13, 14, 15, 16, 17, 18, 19, 20, 19, 1, 2, 20, 8, 7, 20, 2, 18, 9, 19, 11, 18, 16, 19, 18, 1, 2, 3, 4, 5, 6, 7, 9, 10, 11, 14, 15, 17, 18, 19, 20, 17, 1, 2, 3, 4, 5, 6, 7, 8, 9, 10, 11, 12, 13, 15, 17, 18, 19, 8, 20, 9, 2, 14, 1, 18, 18, 1, 2, 3, 4, 5, 6, 7, 8, 9, 10, 11, 12, 13, 14, 15, 16, 17, 18, 19, 1, 2, 3, 4, 5, 6, 7, 8, 9, 10, 11, 12, 15, 17, 18, 20, 7, 17, 10, 12, 2, 5, 14, 10, 11, 11, 14, 10, 1, 10, 20, 6, 1, 2, 3, 4, 5, 6, 7, 9, 10, 15, 15, 19, 8, 3, 1, 2, 3, 4, 5, 6, 7, 8, 9, 10, 11, 12, 13, 14, 15, 16, 17, 18, 19, 2, 20, 1, 2, 3, 4, 5, 6, 7, 8, 9, 10, 11, 12, 13, 14, 15, 16, 17, 18, 19, 5, 17, 14, 15, 20, 20, 9, 6, 17, 1, 2, 3, 4, 5, 6, 7, 8, 9, 10, 11, 12, 13, 14, 15, 16, 17, 18, 19, 14, 13, 1, 1, 5, 7, 19, 13, 20, 1, 2, 3, 4, 5, 6, 7, 8, 9, 10, 11, 12, 13, 14, 15, 16, 17, 18, 19, 20, 15, 19, 1, 2, 3, 4, 5, 6, 7, 8, 9, 10, 11, 12, 13, 14, 15, 16, 17, 18, 19, 20, 5, 13, 7, 11, 18, 17, 12, 1, 2, 3, 4, 5, 6, 7, 8, 9, 10, 11, 12, 13, 14, 15, 16, 17, 18, 19, 12, 2, 1, 2, 3, 4, 5, 6, 7, 8, 9, 10, 11, 12, 13, 14, 15, 16, 17, 18, 19, 8, 4, 1, 2, 3, 4, 5, 6, 7, 8, 9, 10, 11, 12, 13, 14, 15, 16, 17, 18, 19, 20, 3, 1, 8, 14, 1, 8, 1, 2, 3, 4, 5, 6, 7, 8, 9, 10, 11, 12, 13, 14, 15, 16, 17, 18, 19, 6, 14, 5, 18, 12, 19, 2, 11, 1, 2, 5, 11, 18, 12, 1, 9, 8, 6, 4, 5, 14, 1, 2, 4, 12, 1, 2, 3, 4, 5, 6, 7, 8, 9, 10, 11, 12, 13, 15, 16, 17, 18, 18, 5, 1, 18, 11, 16, 1, 2, 3, 4, 7, 9, 15, 10, 3, 17, 17, 8, 18, 8, 13, 20, 4, 10, 3, 5, 7, 13, 7, 2, 9, 1, 2, 3, 4, 5, 6, 7, 9, 10, 11, 12, 13, 15, 16, 18, 6, 4, 20, 1, 2, 3, 4, 5, 7, 8, 11, 15, 18, 18, 13, 14, 7, 6, 16, 4, 16, 6, 2, 20, 16, 7, 8, 1, 2, 3, 4, 5, 6, 7, 9, 11, 12, 13, 15, 16, 17, 18, 1, 2, 3, 4, 5, 6, 7, 8, 9, 10, 11, 14, 15, 16, 17, 18, 20, 16, 5, 4, 8, 6, 6, 1, 2, 3, 4, 5, 7, 9, 19, 20, 1, 2, 3, 4, 5, 6, 7, 8, 9, 10, 11, 12, 13, 14, 15, 16, 17, 18, 19, 7, 15, 1, 2, 3, 4, 5, 6, 7, 9, 10, 14, 16, 17, 20, 20, 1, 2, 3, 4, 5, 6, 7, 8, 9, 10, 11, 12, 13, 14, 15, 16, 17, 18, 19, 20, 5, 17, 7, 19, 1, 2, 3, 4, 5, 6, 7, 8, 9, 10, 11, 12, 13, 14, 15, 16, 17, 18, 19, 4, 18, 17, 1, 11, 13, 6, 4, 12, 1, 2, 3, 4, 5, 6, 7, 8, 9, 10, 11, 12, 13, 14, 15, 16, 17, 18, 19, 16, 13, 5, 4, 5, 20, 13, 1, 2, 3, 4, 5, 6, 7, 8, 9, 10, 11, 12, 13, 14, 15, 16, 17, 18, 19, 20, 4, 16, 15, 12, 17, 3, 8, 8, 3, 10, 7, 7, 7, 16, 17, 5, 16, 15, 16, 13, 15, 7, 1, 2, 3, 6, 15, 7, 2, 20, 16, 1, 3, 4, 7, 10, 19, 14, 1, 1, 2, 3, 4, 5, 6, 7, 8, 9, 10, 11, 12, 13, 14, 15, 16, 17, 18, 19, 3, 9, 1, 2, 3, 4, 5, 6, 7, 8, 9, 10, 11, 12, 13, 14, 15, 16, 17, 18, 19, 8, 14, 3, 3, 16, 1, 20, 10, 3, 14, 20, 9, 12, 1, 4, 8, 2, 4, 1, 2, 3, 4, 5, 7, 8, 9, 10, 11, 14, 15, 1, 7, 6, 2, 16, 9, 1, 2, 3, 4, 5, 6, 7, 8, 9, 10, 11, 12, 13, 14, 15, 16, 17, 18, 19, 5, 3, 5, 3, 14, 17, 15, 13, 16, 1, 3, 10, 15, 16, 20, 8, 5, 7, 16, 12, 5, 1, 2, 3, 4, 5, 6, 7, 8, 9, 10, 11, 12, 13, 14, 15, 16, 17, 18, 19, 20, 1, 15, 17, 1, 2, 3, 4, 5, 6, 7, 8, 9, 10, 11, 14, 15, 16, 17, 18, 17, 18, 1, 2, 3, 4, 5, 6, 7, 9, 11, 12, 14, 16, 18, 15, 5, 3, 19, 4, 7, 4, 4, 15, 13, 2, 4, 5, 17, 17, 18, 4, 11, 13, 11, 8, 3, 7, 7, 14, 6, 2, 16, 19, 12, 14, 9, 10, 7, 5, 19, 15, 2, 7, 17], \"Freq\": [0.974272310517786, 0.9862305798321369, 0.9451948521046813, 0.9766360731643114, 0.9970069849805614, 0.9941134163946294, 0.9934527706798958, 0.9557521946344841, 0.03648707528597795, 0.03648707528597795, 0.03648707528597795, 0.03648707528597795, 0.03648707528597795, 0.0729741505719559, 0.03648707528597795, 0.03648707528597795, 0.5108190540036913, 0.03648707528597795, 0.9494889606401216, 0.19305427429006156, 0.045424535127073305, 0.03406840134530498, 0.15898587294475658, 0.022712267563536653, 0.022712267563536653, 0.03406840134530498, 0.19305427429006156, 0.03406840134530498, 0.05678066890884163, 0.022712267563536653, 0.022712267563536653, 0.011356133781768326, 0.011356133781768326, 0.022712267563536653, 0.022712267563536653, 0.022712267563536653, 0.022712267563536653, 0.05678066890884163, 0.08041989280703982, 0.04020994640351991, 0.04020994640351991, 0.16083978561407963, 0.04020994640351991, 0.020104973201759954, 0.04020994640351991, 0.020104973201759954, 0.04020994640351991, 0.020104973201759954, 0.020104973201759954, 0.30157459802639935, 0.020104973201759954, 0.020104973201759954, 0.020104973201759954, 0.020104973201759954, 0.020104973201759954, 0.020104973201759954, 0.020104973201759954, 0.833178573401345, 0.9961955759070411, 0.609589960726628, 0.9366509577986594, 0.9815581401396967, 0.9869261628437994, 0.9716988067252877, 0.9960088949562714, 0.9855443278630451, 0.9934668057727186, 0.9677750783091822, 0.9957740953348149, 0.8660377768726175, 0.06995782147525863, 0.15157527986306035, 0.02331927382508621, 0.02331927382508621, 0.02331927382508621, 0.05829818456271552, 0.02331927382508621, 0.05829818456271552, 0.06995782147525863, 0.13991564295051725, 0.02331927382508621, 0.011659636912543105, 0.04663854765017242, 0.011659636912543105, 0.02331927382508621, 0.011659636912543105, 0.19821382751323277, 0.011659636912543105, 0.011659636912543105, 0.9829256541591894, 0.05811766412667957, 0.01660504689333702, 0.00830252344666851, 0.00830252344666851, 0.8717649619001936, 0.00830252344666851, 0.5220708427501958, 0.09788828301566171, 0.04894414150783086, 0.032629427671887236, 0.016314713835943618, 0.2610354213750979, 0.9982219767909556, 0.8721863001981869, 0.10346674830772667, 0.06466671769232918, 0.06466671769232918, 0.05173337415386334, 0.06466671769232918, 0.0388000306153975, 0.05173337415386334, 0.09053340476926085, 0.05173337415386334, 0.0388000306153975, 0.0388000306153975, 0.15520012246159, 0.02586668707693167, 0.02586668707693167, 0.0388000306153975, 0.02586668707693167, 0.0388000306153975, 0.02586668707693167, 0.012933343538465834, 0.9752729834968122, 0.863289879721281, 0.9837910609826053, 0.9937009666013211, 0.07652434602163057, 0.0478277162635191, 0.0478277162635191, 0.03826217301081528, 0.028696629758111464, 0.08608988927433439, 0.03826217301081528, 0.028696629758111464, 0.03826217301081528, 0.06695880276892674, 0.03826217301081528, 0.028696629758111464, 0.01913108650540764, 0.01913108650540764, 0.03826217301081528, 0.26783521107570696, 0.028696629758111464, 0.028696629758111464, 0.01913108650540764, 0.8846997388434744, 0.9926540242142412, 0.9328183975368136, 0.9861884117692633, 0.06020071592527525, 0.03830954649790243, 0.03283675414105922, 0.09303747006633446, 0.01641837707052961, 0.19702052484635535, 0.02736396178421602, 0.01641837707052961, 0.21891169427372817, 0.021891169427372816, 0.021891169427372816, 0.01641837707052961, 0.11492863949370728, 0.010945584713686408, 0.021891169427372816, 0.01641837707052961, 0.01641837707052961, 0.03830954649790243, 0.010945584713686408, 0.01641837707052961, 0.9858550167517528, 0.8867759662058831, 0.9589190874179788, 0.9591640397289088, 0.9974775257898802, 0.024258647243068768, 0.048517294486137535, 0.03638797086460315, 0.048517294486137535, 0.012129323621534384, 0.69137144642746, 0.03638797086460315, 0.048517294486137535, 0.024258647243068768, 0.012129323621534384, 0.9669836098226322, 0.9984414002828009, 0.9726285621792383, 0.9524851054992919, 0.0287334168214985, 0.0287334168214985, 0.0287334168214985, 0.0287334168214985, 0.862002504644955, 0.04016497615776692, 0.05355330154368923, 0.026776650771844615, 0.05355330154368923, 0.013388325385922308, 0.013388325385922308, 0.026776650771844615, 0.013388325385922308, 0.026776650771844615, 0.10710660308737846, 0.10710660308737846, 0.013388325385922308, 0.04016497615776692, 0.013388325385922308, 0.013388325385922308, 0.013388325385922308, 0.013388325385922308, 0.013388325385922308, 0.013388325385922308, 0.3882614361917469, 0.962545065500822, 0.9693056032077771, 0.6639089625287979, 0.13278179250575958, 0.07745604562835975, 0.011065149375479966, 0.011065149375479966, 0.05532574687739983, 0.011065149375479966, 0.022130298750959933, 0.011065149375479966, 0.05829576418864026, 0.11659152837728053, 0.03497745851318416, 0.023318305675456105, 0.023318305675456105, 0.023318305675456105, 0.12825068121500857, 0.023318305675456105, 0.3031379737809294, 0.023318305675456105, 0.023318305675456105, 0.011659152837728053, 0.011659152837728053, 0.011659152837728053, 0.023318305675456105, 0.023318305675456105, 0.03497745851318416, 0.11659152837728053, 0.011659152837728053, 0.9586980312392092, 0.07569388245764244, 0.9083265894917093, 0.9574346896365972, 0.09386916748337135, 0.03128972249445711, 0.06257944498891423, 0.7822430623614279, 0.8326122726279467, 0.9821070108352268, 0.9945660187213808, 0.07896476459986353, 0.20530838795964518, 0.04737885875991812, 0.04737885875991812, 0.03158590583994541, 0.03158590583994541, 0.04737885875991812, 0.03158590583994541, 0.04737885875991812, 0.22110134087961789, 0.03158590583994541, 0.015792952919972705, 0.015792952919972705, 0.015792952919972705, 0.03158590583994541, 0.015792952919972705, 0.03158590583994541, 0.03158590583994541, 0.015792952919972705, 0.02617028917425491, 0.02617028917425491, 0.02617028917425491, 0.02617028917425491, 0.10468115669701963, 0.7065978077048826, 0.02617028917425491, 0.9926470788900024, 0.9299054284655497, 0.9990323557891663, 0.7389909192161435, 0.9867566347668724, 0.9957639908430606, 0.9893042541819922, 0.09691294350718448, 0.02907388305215534, 0.05330211892895146, 0.08722164915646602, 0.01453694152607767, 0.1017585906825437, 0.04361082457823301, 0.01453694152607767, 0.01453694152607767, 0.4167256570808932, 0.01453694152607767, 0.009691294350718447, 0.01453694152607767, 0.009691294350718447, 0.019382588701436894, 0.01453694152607767, 0.01453694152607767, 0.01453694152607767, 0.019382588701436894, 0.0048456471753592235, 0.9572035454564549, 0.954755123065013, 0.8276435885320059, 0.11035247847093413, 0.8827866051264834, 0.9981875682846812, 0.7126357908624699, 0.9756416165423053, 0.8771017463849662, 0.2013990442382321, 0.00915450201082873, 0.01830900402165746, 0.004577251005414365, 0.36618008043314926, 0.004577251005414365, 0.00915450201082873, 0.004577251005414365, 0.19682179323281773, 0.004577251005414365, 0.16478103619491716, 0.004577251005414365, 0.004577251005414365, 0.004577251005414365, 0.004577251005414365, 0.004577251005414365, 0.9866270150730299, 0.998607387888673, 0.986788231962617, 0.9901788244118357, 0.14881613324145324, 0.06377834281776568, 0.05314861901480473, 0.191335028453297, 0.0956675142266485, 0.02125944760592189, 0.04251889521184378, 0.03188917140888284, 0.04251889521184378, 0.03188917140888284, 0.03188917140888284, 0.03188917140888284, 0.02125944760592189, 0.02125944760592189, 0.04251889521184378, 0.02125944760592189, 0.03188917140888284, 0.03188917140888284, 0.010629723802960945, 0.9845636036984129, 0.008636522839459763, 0.9632021999528761, 0.9780949598832442, 0.9812673337581704, 0.9987392249763665, 0.9944803009632953, 0.8884395283700977, 0.03481603456101419, 0.13926413824405676, 0.557056552976227, 0.03481603456101419, 0.03481603456101419, 0.03481603456101419, 0.03481603456101419, 0.03481603456101419, 0.03481603456101419, 0.9971291369322675, 0.9093697912830234, 0.9935658629386663, 0.9944241963851934, 0.01733813532682665, 0.01733813532682665, 0.01733813532682665, 0.9275902399852258, 0.9833866613154574, 0.9791124670202553, 0.010199088198127659, 0.9785393680838793, 0.9652357157554776, 0.9893100513564675, 0.9573540633096574, 0.9839710983410997, 0.6213349173864111, 0.02832611283674421, 0.8214572722655821, 0.02832611283674421, 0.02832611283674421, 0.02832611283674421, 0.02832611283674421, 0.9934351996305405, 0.05225227093837873, 0.05225227093837873, 0.8882886059524384, 0.9850288086459797, 0.9922657405967074, 0.9915796763386903, 0.056972427608632206, 0.028486213804316103, 0.028486213804316103, 0.3988069932604254, 0.0854586414129483, 0.056972427608632206, 0.028486213804316103, 0.028486213804316103, 0.028486213804316103, 0.028486213804316103, 0.028486213804316103, 0.028486213804316103, 0.028486213804316103, 0.028486213804316103, 0.028486213804316103, 0.028486213804316103, 0.1424310690215805, 0.9901346564608693, 0.06329564795257138, 0.04219709863504758, 0.04219709863504758, 0.03164782397628569, 0.02109854931752379, 0.02109854931752379, 0.03164782397628569, 0.02109854931752379, 0.02109854931752379, 0.03164782397628569, 0.08439419727009516, 0.02109854931752379, 0.010549274658761895, 0.010549274658761895, 0.02109854931752379, 0.02109854931752379, 0.09494347192885706, 0.02109854931752379, 0.40087243703295206, 0.9855060379506435, 0.9939945187615117, 0.941603702688797, 0.9945340786191641, 0.9922956575645019, 0.9801880309070597, 0.9299203841934695, 0.836039741082942, 0.9108336558583524, 0.9691265713526669, 0.9898249778302312, 0.02071342233342097, 0.02071342233342097, 0.062140267000262914, 0.04142684466684194, 0.02071342233342097, 0.02071342233342097, 0.02071342233342097, 0.04142684466684194, 0.02071342233342097, 0.02071342233342097, 0.10356711166710485, 0.12428053400052583, 0.37284160200157745, 0.062140267000262914, 0.02071342233342097, 0.02071342233342097, 0.9974488533521849, 0.9947413435264938, 0.07209492009523508, 0.014418984019047017, 0.05767593607618807, 0.14418984019047015, 0.04325695205714105, 0.014418984019047017, 0.014418984019047017, 0.07209492009523508, 0.5335024087047396, 0.9959182784426288, 0.19956468190296528, 0.019956468190296527, 0.13969527733207568, 0.019956468190296527, 0.05986940457088958, 0.5188681729477097, 0.9969043915638671, 0.9832273403090116, 0.9849496317194627, 0.9911953383553237, 0.990255852225594, 0.960678767785287, 0.9903249166395232, 0.991349835774695, 0.8025416543833983, 0.6711627077926648, 0.8846998573702649, 0.99055508901316, 0.9949058137143045, 0.9914374400415689, 0.0897688610984035, 0.051296492056230575, 0.019236184521086466, 0.012824123014057644, 0.5706734741255651, 0.006412061507028822, 0.006412061507028822, 0.1218291686335476, 0.10900504561948997, 0.9757603090293608, 0.5351124261410507, 0.3344452663381567, 0.9825622553247845, 0.9017201460554493, 0.9919779699324672, 0.9970686644390231, 0.9954211959081829, 0.9535159935262593, 0.9889637411604533, 0.9310398155524148, 0.9360241588031687, 0.9872107551794269, 0.11742552272248927, 0.08806914204186696, 0.04403457102093348, 0.04403457102093348, 0.029356380680622317, 0.029356380680622317, 0.04403457102093348, 0.029356380680622317, 0.08806914204186696, 0.029356380680622317, 0.029356380680622317, 0.029356380680622317, 0.058712761361244634, 0.2201728551046674, 0.029356380680622317, 0.029356380680622317, 0.029356380680622317, 0.029356380680622317, 0.014678190340311158, 0.96224829269465, 0.8326434331800577, 0.9682080918871183, 0.989976192572114, 0.9908554555633187, 0.8807825764451572, 0.09669385823301602, 0.7735508658641281, 0.9979808306795555, 0.9932200703867825, 0.9964878985985731, 0.9373627434069786, 0.9898049880156182, 0.9304591431160802, 0.9617869692273142, 0.9773321597545, 0.9118616107863495, 0.9983790441378712, 0.9868830675716157, 0.9774936030326529, 0.9720006612582354, 0.7893715286395061, 0.09867144107993826, 0.2489501916999951, 0.09958007667999805, 0.5974804600799882, 0.049790038339999024, 0.9376066459787155, 0.19211099893841002, 0.57633299681523, 0.058165231570859975, 0.11633046314171995, 0.058165231570859975, 0.11633046314171995, 0.058165231570859975, 0.058165231570859975, 0.058165231570859975, 0.058165231570859975, 0.058165231570859975, 0.2326609262834399, 0.058165231570859975, 0.9896045193243473, 0.8041500842673964, 0.9605849226186512, 0.9730291753950084, 0.9956896387083174, 0.9964479484307378, 0.99152340156727, 0.8875029359254328, 0.9971441941862986, 0.9537739200515007, 0.03664786756827871, 0.024431911712185804, 0.024431911712185804, 0.024431911712185804, 0.03664786756827871, 0.012215955856092902, 0.024431911712185804, 0.012215955856092902, 0.024431911712185804, 0.024431911712185804, 0.024431911712185804, 0.12215955856092903, 0.08551169099265032, 0.03664786756827871, 0.024431911712185804, 0.012215955856092902, 0.024431911712185804, 0.4153424991071587, 0.012215955856092902, 0.9980538874626138, 0.9950499231751504, 0.9963441093796205, 0.9769816282565307, 0.7501798334017473, 0.945531431735996, 0.05777993272596883, 0.17333979817790648, 0.02311197309038753, 0.02311197309038753, 0.011555986545193766, 0.05777993272596883, 0.02311197309038753, 0.05777993272596883, 0.05777993272596883, 0.15022782508751895, 0.011555986545193766, 0.011555986545193766, 0.04622394618077506, 0.011555986545193766, 0.011555986545193766, 0.011555986545193766, 0.23111973090387533, 0.011555986545193766, 0.011555986545193766, 0.8854934436513752, 0.9881198071711429, 0.9980635528294947, 0.09929613385116572, 0.7943690708093257, 0.9372191323056761, 0.9994824026227149, 0.994342633406855, 0.9756066054713619, 0.9979166302748786, 0.9882667560303735, 0.9867818041569166, 0.996962731736381, 0.7948070211031911, 0.9680313177735984, 0.9857190864881292, 0.9516509844870279, 0.027989734837853764, 0.9536988166998317, 0.18652274559275128, 0.03730454911855026, 0.07460909823710052, 0.03730454911855026, 0.5595682367782538, 0.9823098737371943, 0.9064023847205024, 0.8843006134237956, 0.9173329924377246, 0.01066666270276424, 0.01066666270276424, 0.031999988108292715, 0.9819522829674159, 0.9956145558087794, 0.8807547973086635, 0.04769286914797629, 0.03179524609865086, 0.03179524609865086, 0.03179524609865086, 0.04769286914797629, 0.01589762304932543, 0.03179524609865086, 0.01589762304932543, 0.03179524609865086, 0.03179524609865086, 0.03179524609865086, 0.1589762304932543, 0.07948811524662715, 0.04769286914797629, 0.03179524609865086, 0.01589762304932543, 0.03179524609865086, 0.2861572148878577, 0.01589762304932543, 0.9955218498698577, 0.03423120818952928, 0.03423120818952928, 0.03423120818952928, 0.6846241637905857, 0.10269362456858785, 0.972418143923208, 0.9589316981053162, 0.981482774108637, 0.8366928264524662, 0.7119912268631745, 0.06780868827268328, 0.03390434413634164, 0.10171303240902493, 0.9622633092930312, 0.7958121390553912, 0.7078655151964024, 0.9926382912676186, 0.008368266828626817, 0.025104800485880454, 0.008368266828626817, 0.008368266828626817, 0.008368266828626817, 0.008368266828626817, 0.025104800485880454, 0.008368266828626817, 0.05857786780038772, 0.008368266828626817, 0.008368266828626817, 0.008368266828626817, 0.008368266828626817, 0.8200901492054281, 0.1651881649912073, 0.06353390961200281, 0.05082712768960225, 0.03812034576720169, 0.12706781922400562, 0.025413563844801125, 0.05082712768960225, 0.14612799210760646, 0.05718051865080253, 0.03812034576720169, 0.031766954806001405, 0.025413563844801125, 0.019060172883600845, 0.019060172883600845, 0.03812034576720169, 0.025413563844801125, 0.03812034576720169, 0.031766954806001405, 0.019060172883600845, 0.006353390961200281, 0.9810980811132042, 0.9983351383407286, 0.9977767971355549, 0.9988203886020034, 0.9787121174587481, 0.1248685175334148, 0.04540673364851447, 0.04540673364851447, 0.03405505023638585, 0.03405505023638585, 0.04540673364851447, 0.03405505023638585, 0.11351683412128617, 0.09081346729702894, 0.21568198483044373, 0.03405505023638585, 0.022703366824257235, 0.022703366824257235, 0.011351683412128617, 0.03405505023638585, 0.022703366824257235, 0.022703366824257235, 0.022703366824257235, 0.011351683412128617, 0.9502683091516945, 0.8759910998282915, 0.13775683867760916, 0.045918946225869714, 0.045918946225869714, 0.045918946225869714, 0.022959473112934857, 0.045918946225869714, 0.045918946225869714, 0.022959473112934857, 0.022959473112934857, 0.06887841933880458, 0.022959473112934857, 0.011479736556467428, 0.1262771021211417, 0.011479736556467428, 0.03443920966940229, 0.022959473112934857, 0.022959473112934857, 0.022959473112934857, 0.21811499457288114, 0.9934984813877519, 0.9811356486505723, 0.17272610114207654, 0.031404745662195734, 0.031404745662195734, 0.015702372831097867, 0.015702372831097867, 0.015702372831097867, 0.015702372831097867, 0.015702372831097867, 0.031404745662195734, 0.015702372831097867, 0.015702372831097867, 0.015702372831097867, 0.015702372831097867, 0.015702372831097867, 0.5024759305951317, 0.015702372831097867, 0.015702372831097867, 0.015702372831097867, 0.015702372831097867, 0.9779382782655693, 0.036117686833855966, 0.06019614472309328, 0.02407845788923731, 0.04815691577847462, 0.012039228944618655, 0.012039228944618655, 0.02407845788923731, 0.012039228944618655, 0.02407845788923731, 0.14447074733542387, 0.09631383155694924, 0.012039228944618655, 0.04815691577847462, 0.012039228944618655, 0.012039228944618655, 0.012039228944618655, 0.012039228944618655, 0.02407845788923731, 0.012039228944618655, 0.37321609728317834, 0.9973822789338518, 0.9970149835124917, 0.9929618802383614, 0.9886957599867877, 0.04831441724288108, 0.0690205960612587, 0.1380411921225174, 0.041412357636755215, 0.020706178818377607, 0.013804119212251739, 0.027608238424503478, 0.013804119212251739, 0.020706178818377607, 0.020706178818377607, 0.06211853645513282, 0.020706178818377607, 0.07592265566738456, 0.027608238424503478, 0.03451029803062935, 0.013804119212251739, 0.020706178818377607, 0.3036906226695382, 0.006902059606125869, 0.992305647076129, 0.9494796934078124, 0.9975645289350653, 0.042325776911025265, 0.08465155382205053, 0.7618639843984547, 0.9930680295379388, 0.059999135275422805, 0.08999870291313421, 0.029999567637711402, 0.029999567637711402, 0.029999567637711402, 0.029999567637711402, 0.029999567637711402, 0.029999567637711402, 0.029999567637711402, 0.029999567637711402, 0.029999567637711402, 0.029999567637711402, 0.11999827055084561, 0.029999567637711402, 0.029999567637711402, 0.029999567637711402, 0.029999567637711402, 0.32999524401482544, 0.9144799487405912, 0.42682264899944083, 0.13719299432124885, 0.16768032639263747, 0.06097466414277727, 0.015243666035694317, 0.015243666035694317, 0.030487332071388634, 0.030487332071388634, 0.015243666035694317, 0.04573099810708295, 0.015243666035694317, 0.03731239961100101, 0.03731239961100101, 0.03731239961100101, 0.03731239961100101, 0.03731239961100101, 0.03731239961100101, 0.6343107933870172, 0.03731239961100101, 0.9197535295147943, 0.9948139768545109, 0.250116081858995, 0.06710431464509621, 0.018301176721389877, 0.09150588360694939, 0.37212392666826083, 0.006100392240463292, 0.012200784480926584, 0.036602353442779754, 0.061003922404632926, 0.006100392240463292, 0.006100392240463292, 0.006100392240463292, 0.006100392240463292, 0.030501961202316463, 0.006100392240463292, 0.006100392240463292, 0.006100392240463292, 0.006100392240463292, 0.031066101613652943, 0.010355367204550981, 0.041421468818203924, 0.062132203227305886, 0.031066101613652943, 0.010355367204550981, 0.010355367204550981, 0.0517768360227549, 0.7352310715231196, 0.9867474716658402, 0.8429968059585902, 0.06021405756847073, 0.06021405756847073, 0.9813251756140301, 0.9983021719651457, 0.9663165936253293, 0.9821643424256332, 0.9953642314671568, 0.9826342713392608, 0.09200582359997406, 0.07077371046151851, 0.07785108150767035, 0.042464226276911106, 0.035386855230759254, 0.0283094841846074, 0.08492845255382221, 0.0283094841846074, 0.06369633941536665, 0.04954159732306295, 0.035386855230759254, 0.10616056569227776, 0.021232113138455553, 0.04954159732306295, 0.04954159732306295, 0.035386855230759254, 0.042464226276911106, 0.042464226276911106, 0.021232113138455553, 0.00707737104615185, 0.019469348882930265, 0.019469348882930265, 0.019469348882930265, 0.07787739553172106, 0.019469348882930265, 0.05840804664879079, 0.019469348882930265, 0.09734674441465133, 0.019469348882930265, 0.11681609329758158, 0.019469348882930265, 0.019469348882930265, 0.15575479106344212, 0.019469348882930265, 0.11681609329758158, 0.019469348882930265, 0.019469348882930265, 0.11681609329758158, 0.09734674441465133, 0.990505541866058, 0.8864372952476061, 0.03283101093509652, 0.9491404457671985, 0.05437435068198995, 0.05437435068198995, 0.059811785750188945, 0.14681074684137288, 0.02174974027279598, 0.016312305204596984, 0.03262461040919397, 0.016312305204596984, 0.027187175340994976, 0.027187175340994976, 0.08156152602298493, 0.02174974027279598, 0.21205996765976082, 0.027187175340994976, 0.03806204547739297, 0.016312305204596984, 0.02174974027279598, 0.0978738312275819, 0.01087487013639799, 0.005437435068198995, 0.9753625960946756, 0.9928943334929606, 0.9211712546973325, 0.09640340362656587, 0.03442978700948781, 0.03442978700948781, 0.13771914803795124, 0.020657872205692686, 0.013771914803795124, 0.027543829607590248, 0.2134646794588244, 0.027543829607590248, 0.03442978700948781, 0.10328936102846344, 0.020657872205692686, 0.10328936102846344, 0.013771914803795124, 0.027543829607590248, 0.020657872205692686, 0.027543829607590248, 0.020657872205692686, 0.013771914803795124, 0.006885957401897562, 0.07224168291901732, 0.8669001950282078, 0.98277900084906, 0.09686925578694582, 0.8718233020825124, 0.9578943794803491, 0.9827059541668369, 0.07954376727081248, 0.10340689745205624, 0.04772626036248749, 0.03977188363540624, 0.031817506908324994, 0.023863130181243745, 0.1431787810874625, 0.023863130181243745, 0.031817506908324994, 0.055680637089568746, 0.23067692508535623, 0.023863130181243745, 0.015908753454162497, 0.015908753454162497, 0.031817506908324994, 0.023863130181243745, 0.031817506908324994, 0.031817506908324994, 0.015908753454162497, 0.007954376727081248, 0.9912494044815489, 0.9728957609267854, 0.9910817918105522, 0.9924212018483122, 0.9634056272551659, 0.9343122720648381, 0.11442124387833509, 0.047114629832255624, 0.04038396842764768, 0.026922645618431787, 0.026922645618431787, 0.02019198421382384, 0.2759571175889258, 0.02019198421382384, 0.026922645618431787, 0.03365330702303973, 0.10769058247372715, 0.013461322809215893, 0.08076793685529536, 0.013461322809215893, 0.03365330702303973, 0.02019198421382384, 0.03365330702303973, 0.026922645618431787, 0.04038396842764768, 0.006730661404607947, 0.9830459590258407, 0.9506330889786295, 0.21283402718164873, 0.03869709585120886, 0.09674273962802216, 0.029022821888406648, 0.08706846566521995, 0.01934854792560443, 0.03869709585120886, 0.01934854792560443, 0.09674273962802216, 0.01934854792560443, 0.20315975321884652, 0.01934854792560443, 0.009674273962802215, 0.009674273962802215, 0.029022821888406648, 0.01934854792560443, 0.01934854792560443, 0.01934854792560443, 0.009674273962802215, 0.9692715858012225, 0.998917215674672, 0.9963400577132752, 0.9940116705768215, 0.9750149640096982, 0.9771969862153724, 0.9956696803633062, 0.07803195368553524, 0.5462236757987468, 0.07803195368553524, 0.07803195368553524, 0.9970735313675276, 0.7190138758544186, 0.9675143254224747, 0.9955468677651954, 0.9283787058090973, 0.07385241032186488, 0.3481613629459344, 0.0386845958828816, 0.059785284546271564, 0.021100688663389964, 0.17232229075101804, 0.049234940214576584, 0.024617470107288292, 0.024617470107288292, 0.024617470107288292, 0.024617470107288292, 0.021100688663389964, 0.01406712577559331, 0.01406712577559331, 0.021100688663389964, 0.017583907219491636, 0.021100688663389964, 0.017583907219491636, 0.010550344331694982, 0.0035167814438983275, 0.9844991816711108, 0.9937376320090344, 0.794395916881129, 0.9972153984477564, 0.9838485097619558, 0.9984930317058537, 0.9804989254837594, 0.9971233220582709, 0.9964709144365851, 0.9846756275225064, 0.9949536811679541, 0.028963983116221875, 0.9268474597191, 0.4664702554013605, 0.9989503165842517, 0.9877314602950952, 0.06959133279209662, 0.03479566639604831, 0.03479566639604831, 0.03479566639604831, 0.10438699918814492, 0.03479566639604831, 0.03479566639604831, 0.17397833198024154, 0.03479566639604831, 0.03479566639604831, 0.03479566639604831, 0.3479566639604831, 0.03479566639604831, 0.8232823702532562, 0.02744274567510854, 0.05488549135021708, 0.02744274567510854, 0.02744274567510854, 0.9985192632302452, 0.06934795267155844, 0.05201096450366883, 0.3294027751899026, 0.03467397633577922, 0.01733698816788961, 0.01733698816788961, 0.03467397633577922, 0.01733698816788961, 0.03467397633577922, 0.01733698816788961, 0.01733698816788961, 0.01733698816788961, 0.01733698816788961, 0.01733698816788961, 0.1560328935110065, 0.01733698816788961, 0.01733698816788961, 0.01733698816788961, 0.05201096450366883, 0.9983913629565216, 0.9815738949197782, 0.998261598641594, 0.9149810865234858, 0.9945015236489902, 0.9471615697325552, 0.9967197605923089, 0.21615007565608912, 0.03325385779324448, 0.7315848714513786, 0.07138300142080124, 0.07138300142080124, 0.07138300142080124, 0.14276600284160249, 0.07138300142080124, 0.07138300142080124, 0.07138300142080124, 0.28553200568320497, 0.07138300142080124, 0.9835232015494739, 0.02854451706518824, 0.05708903413037648, 0.05708903413037648, 0.02854451706518824, 0.05708903413037648, 0.02854451706518824, 0.6850684095645176, 0.02854451706518824, 0.02854451706518824, 0.9592636486002771, 0.905422859128632, 0.9996324757821795, 0.9971516416834997, 0.9537062173843184, 0.9041366747530527, 0.9898304609846859, 0.9302781584476615, 0.9895155123297626, 0.9844235286492463, 0.9971601844003123, 0.9883791779352773, 0.01586413659816396, 0.03172827319632792, 0.9359840592916737, 0.9456133906702339, 0.9830478881744195, 0.9959437323354946, 0.911899221786318, 0.7959942967533844, 0.9960814593359014, 0.9524284049936685, 0.993837754512478, 0.9931866990454776, 0.9480318147073433, 0.9876787523627918, 0.9898367506170246, 0.9924581495379768, 0.9991731653107546, 0.998228334740855, 0.856502464632145, 0.9842131066927743, 0.9899591925543559, 0.9799698013820363, 0.9961950053333513, 0.9640729891353441, 0.02677980525375956, 0.04563039530415134, 0.03422279647811351, 0.07985319178226484, 0.04563039530415134, 0.01901266471006306, 0.05323546118817656, 0.030420263536100896, 0.04943292824616395, 0.02281519765207567, 0.02281519765207567, 0.20533677886868104, 0.12168105414440358, 0.011407598826037835, 0.011407598826037835, 0.03802532942012612, 0.14829878473849187, 0.02281519765207567, 0.02281519765207567, 0.015210131768050448, 0.003802532942012612, 0.9648649254927023, 0.9646455158610967, 0.8524262564738154, 0.9908619002189027, 0.9955394328974949, 0.9987845807421645, 0.9945904077853372, 0.9948002436802594, 0.9699282346609951, 0.9661688231558776, 0.9482071222914138, 0.55665093483507, 0.18555031161169, 0.9615566645653496, 0.03528648310331558, 0.9794136846564042, 0.0502223267027733, 0.02511116335138665, 0.02511116335138665, 0.02511116335138665, 0.02511116335138665, 0.02511116335138665, 0.02511116335138665, 0.02511116335138665, 0.12555581675693325, 0.02511116335138665, 0.1004446534055466, 0.02511116335138665, 0.3515562869194131, 0.02511116335138665, 0.15066698010831991, 0.9518104454801734, 0.9271871646219142, 0.03487892489899103, 0.011626308299663678, 0.10463677469697309, 0.023252616599327355, 0.011626308299663678, 0.011626308299663678, 0.023252616599327355, 0.011626308299663678, 0.03487892489899103, 0.011626308299663678, 0.011626308299663678, 0.011626308299663678, 0.6626995730808296, 0.011626308299663678, 0.011626308299663678, 0.011626308299663678, 0.011626308299663678, 0.9881930126337918, 0.9341879158485, 0.9799380271098866, 0.9815872953662566, 0.9936794162087399, 0.9914532483368711, 0.9863679225601689, 0.8944885410113318, 0.0674771636964152, 0.04498477579761013, 0.04498477579761013, 0.022492387898805064, 0.1349543273928304, 0.022492387898805064, 0.022492387898805064, 0.022492387898805064, 0.04498477579761013, 0.022492387898805064, 0.022492387898805064, 0.0674771636964152, 0.08996955159522026, 0.022492387898805064, 0.022492387898805064, 0.022492387898805064, 0.022492387898805064, 0.022492387898805064, 0.2474162668868557, 0.06618888646089498, 0.02206296215363166, 0.02206296215363166, 0.1103148107681583, 0.02206296215363166, 0.02206296215363166, 0.02206296215363166, 0.02206296215363166, 0.1765036972290533, 0.04412592430726332, 0.02206296215363166, 0.1544407350754216, 0.02206296215363166, 0.02206296215363166, 0.02206296215363166, 0.2647555458435799, 0.9125252563941771, 0.988966691161342, 0.951045846994419, 0.7550516547828342, 0.9944593232090176, 0.9907585065371919, 0.45219384600632634, 0.9892607836939549, 0.9917588138193194, 0.9059829438454627, 0.9645535439110996, 0.9954902697439442, 0.8823252257599429, 0.9819024262049976, 0.016929352175948233, 0.9979150702511438, 0.04941186506499106, 0.016470621688330356, 0.016470621688330356, 0.016470621688330356, 0.016470621688330356, 0.016470621688330356, 0.03294124337666071, 0.7411779759748659, 0.04941186506499106, 0.016470621688330356, 0.9889346099231039, 0.922842256158444, 0.8357834023433842, 0.9585357122272578, 0.08081300773481441, 0.040406503867407205, 0.040406503867407205, 0.040406503867407205, 0.020203251933703602, 0.020203251933703602, 0.3636585348066648, 0.020203251933703602, 0.040406503867407205, 0.020203251933703602, 0.020203251933703602, 0.16162601546962882, 0.020203251933703602, 0.040406503867407205, 0.020203251933703602, 0.020203251933703602, 0.020203251933703602, 0.020203251933703602, 0.020203251933703602, 0.9888555286925892, 0.9541542883395165, 0.07115175982788563, 0.040658148473077506, 0.040658148473077506, 0.03049361135480813, 0.03049361135480813, 0.03049361135480813, 0.03049361135480813, 0.020329074236538753, 0.03049361135480813, 0.1829616681288488, 0.020329074236538753, 0.020329074236538753, 0.020329074236538753, 0.0914808340644244, 0.020329074236538753, 0.020329074236538753, 0.20329074236538752, 0.03049361135480813, 0.07115175982788563, 0.9912095782788899, 0.9812223858921613, 0.4401332549102558, 0.9951542301663128, 0.9889111667257336, 0.956239841329063, 0.9821159317926507, 0.9470629815531874, 0.9937499176925128, 0.14308495989505834, 0.030661062834655358, 0.030661062834655358, 0.020440708556436905, 0.020440708556436905, 0.010220354278218453, 0.24528850267724286, 0.010220354278218453, 0.020440708556436905, 0.020440708556436905, 0.15330531417327678, 0.010220354278218453, 0.13286460561683988, 0.010220354278218453, 0.020440708556436905, 0.020440708556436905, 0.020440708556436905, 0.020440708556436905, 0.04088141711287381, 0.9906037650949102, 0.9712706318472952, 0.9972743948939717, 0.03974295411275234, 0.7948590822550469, 0.07948590822550468, 0.9969416784912102, 0.881997332728408, 0.9788438448622181, 0.08494589016343833, 0.07187729167675551, 0.1894946780569009, 0.03920579546004846, 0.03920579546004846, 0.11761738638014538, 0.04574009470338987, 0.03267149621670705, 0.03920579546004846, 0.04574009470338987, 0.03267149621670705, 0.02613719697336564, 0.01960289773002423, 0.01960289773002423, 0.04574009470338987, 0.03267149621670705, 0.04574009470338987, 0.03920579546004846, 0.01960289773002423, 0.00653429924334141, 0.962058358038432, 0.9411582155126328, 0.07274947750494659, 0.06547452975445192, 0.05092463425346261, 0.036374738752473296, 0.3346475965227543, 0.036374738752473296, 0.04364968650296795, 0.021824843251483976, 0.05819958200395727, 0.036374738752473296, 0.029099791001978636, 0.029099791001978636, 0.021824843251483976, 0.014549895500989318, 0.036374738752473296, 0.021824843251483976, 0.036374738752473296, 0.029099791001978636, 0.014549895500989318, 0.007274947750494659, 0.9927241809095354, 0.9835519159071262, 0.8975672070932253, 0.819401622221637, 0.9710238396660081, 0.9922797400014185, 0.9136248868587824, 0.07179152793834538, 0.05384364595375903, 0.19742670183044977, 0.05384364595375903, 0.03589576396917269, 0.03589576396917269, 0.03589576396917269, 0.017947881984586345, 0.05384364595375903, 0.03589576396917269, 0.017947881984586345, 0.017947881984586345, 0.21537458381503613, 0.017947881984586345, 0.017947881984586345, 0.017947881984586345, 0.017947881984586345, 0.03589576396917269, 0.03589576396917269, 0.9227267372503573, 0.9909824634798422, 0.03353121231387852, 0.022354141542585682, 0.08941656617034273, 0.011177070771292841, 0.011177070771292841, 0.011177070771292841, 0.11177070771292841, 0.011177070771292841, 0.10059363694163556, 0.011177070771292841, 0.011177070771292841, 0.38002040622395655, 0.011177070771292841, 0.12294777848422124, 0.011177070771292841, 0.011177070771292841, 0.011177070771292841, 0.011177070771292841, 0.011177070771292841, 0.9601751152275058, 0.9648100384476895, 0.046737197543098255, 0.03505289815732369, 0.03505289815732369, 0.023368598771549128, 0.046737197543098255, 0.017526449078661844, 0.029210748464436408, 0.017526449078661844, 0.023368598771549128, 0.023368598771549128, 0.023368598771549128, 0.3563711312661242, 0.023368598771549128, 0.13436944293640748, 0.023368598771549128, 0.017526449078661844, 0.023368598771549128, 0.07010579631464738, 0.011684299385774564, 0.005842149692887282, 0.9718592256997368, 0.16784663129614963, 0.16784663129614963, 0.33569326259229926, 0.9874886923439734, 0.7455535665027413, 0.13216188124620823, 0.08410301533849615, 0.024029432953856043, 0.024029432953856043, 0.024029432953856043, 0.036044149430784066, 0.024029432953856043, 0.1682060306769923, 0.09611773181542417, 0.07208829886156813, 0.024029432953856043, 0.012014716476928021, 0.12014716476928021, 0.012014716476928021, 0.024029432953856043, 0.012014716476928021, 0.08410301533849615, 0.012014716476928021, 0.012014716476928021, 0.9908341092127411, 0.989883527703083, 0.9889270507276215, 0.803353259762259, 0.9978578863958316, 0.9955377630435048, 0.9887498711955639, 0.9698653336010726, 0.5848373760873803, 0.02852865249206733, 0.37087248239687526, 0.9864287641523929, 0.9143755395093838, 0.9360777211945028, 0.03400407080532826, 0.8841058409385348, 0.9346458275609788, 0.9874651653533097, 0.011495046255875331, 0.9540888392376524, 0.022990092511750663, 0.031924550911296166, 0.031924550911296166, 0.8938874255162926, 0.9512175203708871, 0.06308745811088652, 0.04205830540725768, 0.02102915270362884, 0.02102915270362884, 0.02102915270362884, 0.02102915270362884, 0.06308745811088652, 0.02102915270362884, 0.02102915270362884, 0.02102915270362884, 0.02102915270362884, 0.02102915270362884, 0.02102915270362884, 0.02102915270362884, 0.02102915270362884, 0.02102915270362884, 0.5467579702943499, 0.9834951819209982, 0.9909072223529599, 0.9656637997684528, 0.8483059472066453, 0.9869894030855059, 0.9963818875542875, 0.05825246959863664, 0.02912623479931832, 0.02912623479931832, 0.02912623479931832, 0.02912623479931832, 0.728155869982958, 0.9915557369771243, 0.854775410060336, 0.9441208575993594, 0.8835978480767814, 0.947077306945829, 0.9990280858897518, 0.9965618111647215, 0.9969829356929282, 0.8882468597373108, 0.8644692963021773, 0.9938734879295448, 0.993123113541012, 0.014233156162751693, 0.014233156162751693, 0.014233156162751693, 0.92515515057886, 0.8725105009367266, 0.9977136009694294, 0.975850153647666, 0.05202536098745563, 0.017341786995818544, 0.017341786995818544, 0.017341786995818544, 0.06936714798327417, 0.017341786995818544, 0.017341786995818544, 0.017341786995818544, 0.017341786995818544, 0.017341786995818544, 0.381519313908008, 0.017341786995818544, 0.017341786995818544, 0.29481037892891526, 0.017341786995818544, 0.9935741000641793, 0.8280238308710518, 0.9875030309390309, 0.2020128337180342, 0.0977481453474359, 0.4040256674360684, 0.05213234418529914, 0.006516543023162393, 0.0847150593011111, 0.03258271511581196, 0.02606617209264957, 0.04561580116213675, 0.03258271511581196, 0.9923095479693762, 0.9886008307902474, 0.9981532229426919, 0.9931889151324163, 0.9965686752047523, 0.9966473186548086, 0.9690552780707011, 0.8984217184087672, 0.9870433020529824, 0.9854895600484104, 0.9772895443484987, 0.9960492005691302, 0.9938662676939151, 0.8944939073745758, 0.17164866405984205, 0.24030812968377888, 0.03432973281196841, 0.03432973281196841, 0.22314326327779468, 0.017164866405984205, 0.017164866405984205, 0.017164866405984205, 0.017164866405984205, 0.017164866405984205, 0.017164866405984205, 0.017164866405984205, 0.08582433202992103, 0.017164866405984205, 0.06865946562393682, 0.022261438932707465, 0.8904575573082986, 0.007420479644235822, 0.007420479644235822, 0.011130719466353732, 0.014840959288471643, 0.003710239822117911, 0.003710239822117911, 0.003710239822117911, 0.003710239822117911, 0.003710239822117911, 0.003710239822117911, 0.003710239822117911, 0.003710239822117911, 0.011130719466353732, 0.003710239822117911, 0.007420479644235822, 0.9974391917910554, 0.9961366922143664, 0.9794821083951398, 0.971793907287005, 0.9908248677115755, 0.9954653515587101, 0.022040575641089712, 0.06612172692326913, 0.011020287820544856, 0.03306086346163457, 0.5510143910272428, 0.011020287820544856, 0.011020287820544856, 0.12122316602599342, 0.15428402948762798, 0.08180575957187998, 0.05453717304791999, 0.05453717304791999, 0.04090287978593999, 0.05453717304791999, 0.027268586523959994, 0.04090287978593999, 0.027268586523959994, 0.04090287978593999, 0.04090287978593999, 0.04090287978593999, 0.027268586523959994, 0.027268586523959994, 0.013634293261979997, 0.027268586523959994, 0.3272230382875199, 0.027268586523959994, 0.027268586523959994, 0.013634293261979997, 0.9723470760938375, 0.8692668053360396, 0.047759793140220934, 0.7402767936734245, 0.023879896570110467, 0.011939948285055233, 0.0358198448551657, 0.011939948285055233, 0.011939948285055233, 0.011939948285055233, 0.011939948285055233, 0.011939948285055233, 0.011939948285055233, 0.0358198448551657, 0.023879896570110467, 0.9961508011634002, 0.06064251858563908, 0.03790157411602443, 0.03790157411602443, 0.03032125929281954, 0.1516062964640977, 0.022740944469614655, 0.03032125929281954, 0.03032125929281954, 0.03790157411602443, 0.022740944469614655, 0.022740944469614655, 0.022740944469614655, 0.01516062964640977, 0.01516062964640977, 0.022740944469614655, 0.03032125929281954, 0.022740944469614655, 0.2577307039889661, 0.007580314823204885, 0.12886535199448304, 0.9844301680739057, 0.9907323402130569, 0.9921539248135932, 0.981704913829753, 0.3906962354526728, 0.03906962354526728, 0.03906962354526728, 0.01953481177263364, 0.01953481177263364, 0.01953481177263364, 0.01953481177263364, 0.01953481177263364, 0.01953481177263364, 0.01953481177263364, 0.01953481177263364, 0.01953481177263364, 0.01953481177263364, 0.01953481177263364, 0.01953481177263364, 0.01953481177263364, 0.01953481177263364, 0.01953481177263364, 0.23441774127160367, 0.035563291595527846, 0.9602088730792517, 0.933846699350036, 0.02351070180849999, 0.02351070180849999, 0.8698959669144998, 0.9744513219139205, 0.9976199581975702, 0.9808311162308919, 0.12602969609768302, 0.19389184015028157, 0.029083776022542238, 0.029083776022542238, 0.03877836803005631, 0.019389184015028156, 0.029083776022542238, 0.019389184015028156, 0.029083776022542238, 0.029083776022542238, 0.029083776022542238, 0.019389184015028156, 0.019389184015028156, 0.009694592007514078, 0.33931072026299275, 0.019389184015028156, 0.019389184015028156, 0.019389184015028156, 0.009694592007514078, 0.9769957665687344, 0.9747941008400149, 0.9713571569474915, 0.9334852078477609, 0.010882365641334447, 0.9739717248994331, 0.9974983779367128, 0.037224674050826266, 0.026589052893447332, 0.06913153752296307, 0.07444934810165253, 0.0159534317360684, 0.037224674050826266, 0.021271242314757865, 0.12230964330985773, 0.0159534317360684, 0.0159534317360684, 0.11167402215247879, 0.2605727183557839, 0.010635621157378932, 0.010635621157378932, 0.037224674050826266, 0.08508496925903146, 0.0159534317360684, 0.0159534317360684, 0.010635621157378932, 0.005317810578689466, 0.9962116218903284, 0.9029355533261527, 0.8148387756681252, 0.9927733622424193, 0.7926923032829469, 0.9709611262006009, 0.9759599507669203, 0.9915234634869278, 0.9983977978731012, 0.9349326379506773, 0.9854492512020113, 0.9907410730452697, 0.9674378504445602, 0.9683355493279965, 0.9824568781916504, 0.9834988527152064, 0.9387709483555852, 0.9767177087405832, 0.9807640775706462, 0.9939106900120994, 0.9928851619906893, 0.9862146531897013, 0.7681513748252486, 0.061452109986019895, 0.030726054993009948, 0.030726054993009948, 0.030726054993009948, 0.99289634636031, 0.9820739152273066, 0.8785838775497827, 0.9827005583043936, 0.03494721575465642, 0.27957772603725134, 0.5591554520745027, 0.06989443150931283, 0.03494721575465642, 0.8492030054308563, 0.9885200693852406, 0.8826904715180717, 0.0344787417085295, 0.08045039731990215, 0.11492913902843166, 0.04597165561137266, 0.011492913902843165, 0.011492913902843165, 0.02298582780568633, 0.011492913902843165, 0.011492913902843165, 0.011492913902843165, 0.08045039731990215, 0.011492913902843165, 0.11492913902843166, 0.0344787417085295, 0.0344787417085295, 0.011492913902843165, 0.011492913902843165, 0.3332945031824518, 0.011492913902843165, 0.7630986050510692, 0.9195525374594753, 0.04109669283107469, 0.030822519623306018, 0.11301590528545541, 0.020548346415537346, 0.020548346415537346, 0.010274173207768673, 0.16438677132429877, 0.010274173207768673, 0.1541125981165301, 0.020548346415537346, 0.14383842490876142, 0.010274173207768673, 0.010274173207768673, 0.11301590528545541, 0.020548346415537346, 0.010274173207768673, 0.05137086603884337, 0.020548346415537346, 0.010274173207768673, 0.9771090461928489, 0.997325129842946, 0.997621168095742, 0.9843257365826238, 0.9858590569570523, 0.9828213198644616, 0.9437927390544248, 0.9847981796123523, 0.9974986097353622, 0.5927426626196114, 0.9452766983448622, 0.9934352636429966, 0.9982246892623694, 0.9934539637256109, 0.6935724993050564, 0.9187124716926014, 0.9861466819041274, 0.9729156705427252, 0.024782781581284174, 0.012391390790642087, 0.3717417237192626, 0.012391390790642087, 0.012391390790642087, 0.012391390790642087, 0.13630529869706295, 0.012391390790642087, 0.012391390790642087, 0.012391390790642087, 0.35935033292862056, 0.012391390790642087, 0.9988560747264142, 0.9902343225771659, 0.9946766078142479, 0.9891337726269754, 0.9315763957980197, 0.9496623888837041, 0.19491345350214956, 0.04237248989177165, 0.033897991913417316, 0.13559196765366927, 0.06779598382683463, 0.06779598382683463, 0.025423493935062987, 0.008474497978354329, 0.11864297169696061, 0.05932148584848031, 0.008474497978354329, 0.12711746967531493, 0.050846987870125974, 0.008474497978354329, 0.008474497978354329, 0.008474497978354329, 0.008474497978354329, 0.016948995956708658, 0.008474497978354329, 0.9845488579591478, 0.7964829569863625, 0.9868255828715436, 0.9539940291983635, 0.7852453939461779, 0.7863238766167536, 0.997742685566049, 0.9838388762439649, 0.8829650808722778, 0.04110027512842379, 0.7398049523116282, 0.04110027512842379, 0.04110027512842379, 0.04110027512842379, 0.9068084184467974, 0.9949344265802861, 0.9953922045429325, 0.9830301160736796, 0.9945160929202328, 0.9750596921612695, 0.9970211942799253, 0.04252646422610613, 0.1020635141426547, 0.025515878535663675, 0.0340211713808849, 0.01701058569044245, 0.01701058569044245, 0.01701058569044245, 0.01701058569044245, 0.025515878535663675, 0.0340211713808849, 0.0340211713808849, 0.008505292845221226, 0.05103175707132735, 0.008505292845221226, 0.01701058569044245, 0.008505292845221226, 0.01701058569044245, 0.01701058569044245, 0.008505292845221226, 0.5018122778680523, 0.9864251498704144, 0.983886184084381, 0.0059629465702083695, 0.0418789343834569, 0.02512736063007414, 0.6114324419984707, 0.00837578687669138, 0.11726101627367932, 0.00837578687669138, 0.00837578687669138, 0.00837578687669138, 0.00837578687669138, 0.00837578687669138, 0.00837578687669138, 0.09213365564360518, 0.00837578687669138, 0.00837578687669138, 0.00837578687669138, 0.00837578687669138, 0.997051843336757, 0.9917309289268508, 0.09636626469559635, 0.14454939704339453, 0.024091566173899088, 0.07227469852169727, 0.18068674630424317, 0.024091566173899088, 0.048183132347798176, 0.012045783086949544, 0.048183132347798176, 0.012045783086949544, 0.012045783086949544, 0.1927325293911927, 0.1084120477825459, 0.996189504941213, 0.975947465840234, 0.9134545055899915, 0.9877424686187362, 0.005192223722649151, 0.9865225073033387, 0.9733592989877206, 0.9970636281998538, 0.8285548090610708, 0.952476050111404, 0.9481376933448367, 0.8736785563959443, 0.04598308191557602, 0.061310775887434686, 0.9963605397464788, 0.9399984900026519, 0.9846907245242785, 0.6446540846295269, 0.9971810563458, 0.918668663204299, 0.9862549121665474, 0.9988651869994769, 0.9961644408275233, 0.9243234363709917, 0.9957709510045274, 0.9954737030460804, 0.9626530876444934, 0.9688153946089509, 0.9848462806514195, 0.9914621779443612, 0.9935705201766045, 0.9935283449977836, 0.9937153464718914, 0.9055664764179809, 0.9950342434371302, 0.9965058210947149, 0.9947414092783194, 0.9982263777157849, 0.9667300137136589, 0.9988674127650843], \"Term\": [\"abl\", \"accept\", \"account\", \"achiev\", \"act\", \"action\", \"actor\", \"actual\", \"ad\", \"ad\", \"ad\", \"ad\", \"ad\", \"ad\", \"ad\", \"ad\", \"ad\", \"ad\", \"add\", \"adject_gentl\", \"adject_gentl\", \"adject_gentl\", \"adject_gentl\", \"adject_gentl\", \"adject_gentl\", \"adject_gentl\", \"adject_gentl\", \"adject_gentl\", \"adject_gentl\", \"adject_gentl\", \"adject_gentl\", \"adject_gentl\", \"adject_gentl\", \"adject_gentl\", \"adject_gentl\", \"adject_gentl\", \"adject_gentl\", \"adject_gentl\", \"adjust\", \"adjust\", \"adjust\", \"adjust\", \"adjust\", \"adjust\", \"adjust\", \"adjust\", \"adjust\", \"adjust\", \"adjust\", \"adjust\", \"adjust\", \"adjust\", \"adjust\", \"adjust\", \"adjust\", \"adjust\", \"adjust\", \"admit\", \"adult\", \"adventur\", \"affect\", \"age\", \"allow\", \"almost\", \"also\", \"alway\", \"american\", \"anim\", \"anoth\", \"anyth\", \"apartheid\", \"apartheid\", \"apartheid\", \"apartheid\", \"apartheid\", \"apartheid\", \"apartheid\", \"apartheid\", \"apartheid\", \"apartheid\", \"apartheid\", \"apartheid\", \"apartheid\", \"apartheid\", \"apartheid\", \"apartheid\", \"apartheid\", \"apartheid\", \"apartheid\", \"appeal\", \"appli\", \"appli\", \"appli\", \"appli\", \"appli\", \"appli\", \"around\", \"around\", \"around\", \"around\", \"around\", \"around\", \"art\", \"artist\", \"author\", \"author\", \"author\", \"author\", \"author\", \"author\", \"author\", \"author\", \"author\", \"author\", \"author\", \"author\", \"author\", \"author\", \"author\", \"author\", \"author\", \"author\", \"author\", \"away\", \"awkward\", \"back\", \"bad\", \"bake\", \"bake\", \"bake\", \"bake\", \"bake\", \"bake\", \"bake\", \"bake\", \"bake\", \"bake\", \"bake\", \"bake\", \"bake\", \"bake\", \"bake\", \"bake\", \"bake\", \"bake\", \"bake\", \"base\", \"beauti\", \"becom\", \"begin\", \"behav\", \"behav\", \"behav\", \"behav\", \"behav\", \"behav\", \"behav\", \"behav\", \"behav\", \"behav\", \"behav\", \"behav\", \"behav\", \"behav\", \"behav\", \"behav\", \"behav\", \"behav\", \"behav\", \"behav\", \"believ\", \"belong\", \"best\", \"better\", \"big\", \"bill\", \"bill\", \"bill\", \"bill\", \"bill\", \"bill\", \"bill\", \"bill\", \"bill\", \"bill\", \"bind\", \"bit\", \"black\", \"blood\", \"bode\", \"bode\", \"bode\", \"bode\", \"bode\", \"bodi\", \"bodi\", \"bodi\", \"bodi\", \"bodi\", \"bodi\", \"bodi\", \"bodi\", \"bodi\", \"bodi\", \"bodi\", \"bodi\", \"bodi\", \"bodi\", \"bodi\", \"bodi\", \"bodi\", \"bodi\", \"bodi\", \"bodi\", \"bond\", \"book\", \"boost\", \"boost\", \"boost\", \"boost\", \"boost\", \"boost\", \"boost\", \"boost\", \"boost\", \"bottom\", \"bottom\", \"bottom\", \"bottom\", \"bottom\", \"bottom\", \"bottom\", \"bottom\", \"bottom\", \"bottom\", \"bottom\", \"bottom\", \"bottom\", \"bottom\", \"bottom\", \"bottom\", \"bottom\", \"bottom\", \"bottom\", \"boy\", \"brash\", \"brash\", \"break\", \"breath\", \"breath\", \"breath\", \"breath\", \"brilliant\", \"bring\", \"build\", \"button_push\", \"button_push\", \"button_push\", \"button_push\", \"button_push\", \"button_push\", \"button_push\", \"button_push\", \"button_push\", \"button_push\", \"button_push\", \"button_push\", \"button_push\", \"button_push\", \"button_push\", \"button_push\", \"button_push\", \"button_push\", \"button_push\", \"buy\", \"buy\", \"buy\", \"buy\", \"buy\", \"buy\", \"buy\", \"ca\", \"camera\", \"can\", \"captiv\", \"car\", \"care\", \"career\", \"cartoon\", \"cartoon\", \"cartoon\", \"cartoon\", \"cartoon\", \"cartoon\", \"cartoon\", \"cartoon\", \"cartoon\", \"cartoon\", \"cartoon\", \"cartoon\", \"cartoon\", \"cartoon\", \"cartoon\", \"cartoon\", \"cartoon\", \"cartoon\", \"cartoon\", \"cartoon\", \"case\", \"cast\", \"certain\", \"certain\", \"certainli\", \"charact\", \"character\", \"charm\", \"chase\", \"cheat\", \"cheat\", \"cheat\", \"cheat\", \"cheat\", \"cheat\", \"cheat\", \"cheat\", \"cheat\", \"cheat\", \"cheat\", \"cheat\", \"cheat\", \"cheat\", \"cheat\", \"cheat\", \"chemistri\", \"child\", \"cinema\", \"cinemat\", \"clanci\", \"clanci\", \"clanci\", \"clanci\", \"clanci\", \"clanci\", \"clanci\", \"clanci\", \"clanci\", \"clanci\", \"clanci\", \"clanci\", \"clanci\", \"clanci\", \"clanci\", \"clanci\", \"clanci\", \"clanci\", \"clanci\", \"clear\", \"clear\", \"clever\", \"close\", \"color\", \"come\", \"comedi\", \"command\", \"compellingli\", \"compellingli\", \"compellingli\", \"compellingli\", \"compellingli\", \"compellingli\", \"compellingli\", \"compellingli\", \"compellingli\", \"complet\", \"complex\", \"concept\", \"concern\", \"condit\", \"condit\", \"condit\", \"condit\", \"confid\", \"confu\", \"confu\", \"conscious\", \"consid\", \"consider\", \"convinc\", \"cool\", \"core\", \"corner\", \"corner\", \"corner\", \"corner\", \"corner\", \"corner\", \"cour\", \"crap\", \"crap\", \"crap\", \"credibl\", \"crime\", \"crowd\", \"crush\", \"crush\", \"crush\", \"crush\", \"crush\", \"crush\", \"crush\", \"crush\", \"crush\", \"crush\", \"crush\", \"crush\", \"crush\", \"crush\", \"crush\", \"crush\", \"crush\", \"cultur\", \"curio\", \"curio\", \"curio\", \"curio\", \"curio\", \"curio\", \"curio\", \"curio\", \"curio\", \"curio\", \"curio\", \"curio\", \"curio\", \"curio\", \"curio\", \"curio\", \"curio\", \"curio\", \"curio\", \"curv\", \"cut\", \"cynic\", \"dark\", \"date\", \"day\", \"dead\", \"death\", \"debut\", \"decent\", \"deep\", \"definit\", \"definit\", \"definit\", \"definit\", \"definit\", \"definit\", \"definit\", \"definit\", \"definit\", \"definit\", \"definit\", \"definit\", \"definit\", \"definit\", \"definit\", \"definit\", \"delight\", \"demand\", \"demm\", \"demm\", \"demm\", \"demm\", \"demm\", \"demm\", \"demm\", \"demm\", \"demm\", \"depend\", \"describ\", \"describ\", \"describ\", \"describ\", \"describ\", \"describ\", \"deserv\", \"design\", \"despit\", \"detail\", \"develop\", \"devoid\", \"dialogu\", \"die\", \"differ\", \"difficult\", \"dimen\", \"dimension\", \"direct\", \"director\", \"directori\", \"directori\", \"directori\", \"directori\", \"directori\", \"directori\", \"directori\", \"directori\", \"directori\", \"disappoint\", \"disney\", \"disney\", \"distinct\", \"diver\", \"do\", \"drama\", \"dramat\", \"dull\", \"dumb\", \"earth\", \"edg\", \"edit\", \"eeri\", \"eeri\", \"eeri\", \"eeri\", \"eeri\", \"eeri\", \"eeri\", \"eeri\", \"eeri\", \"eeri\", \"eeri\", \"eeri\", \"eeri\", \"eeri\", \"eeri\", \"eeri\", \"eeri\", \"eeri\", \"eeri\", \"effect\", \"effort\", \"either\", \"emot\", \"empathi\", \"empha\", \"empti\", \"empti\", \"end\", \"enjoy\", \"enough\", \"enter\", \"entertain\", \"entir\", \"epic\", \"era\", \"ethic\", \"even\", \"ever\", \"everi\", \"everyth\", \"evil\", \"evil\", \"excit\", \"excit\", \"excit\", \"excit\", \"execut\", \"exerci\", \"exerci\", \"exhilar\", \"exhilar\", \"exhilar\", \"exhilar\", \"exhilar\", \"exhilar\", \"exhilar\", \"exhilar\", \"exhilar\", \"exhilar\", \"exhilar\", \"exist\", \"expect\", \"exploit\", \"extrem\", \"fact\", \"fail\", \"fall\", \"famili\", \"familiar\", \"fan\", \"fanci\", \"fanci\", \"fanci\", \"fanci\", \"fanci\", \"fanci\", \"fanci\", \"fanci\", \"fanci\", \"fanci\", \"fanci\", \"fanci\", \"fanci\", \"fanci\", \"fanci\", \"fanci\", \"fanci\", \"fanci\", \"fanci\", \"far\", \"fare\", \"fascin\", \"fashion\", \"fast\", \"fat\", \"fat_greek\", \"fat_greek\", \"fat_greek\", \"fat_greek\", \"fat_greek\", \"fat_greek\", \"fat_greek\", \"fat_greek\", \"fat_greek\", \"fat_greek\", \"fat_greek\", \"fat_greek\", \"fat_greek\", \"fat_greek\", \"fat_greek\", \"fat_greek\", \"fat_greek\", \"fat_greek\", \"fat_greek\", \"fear\", \"featur\", \"feel\", \"femal\", \"femal\", \"fill\", \"film\", \"filmmak\", \"final\", \"find\", \"fine\", \"fire\", \"first\", \"flaw\", \"flick\", \"flow\", \"folk\", \"folk\", \"follow\", \"fool\", \"fool\", \"fool\", \"fool\", \"fool\", \"formula\", \"frailti\", \"frame\", \"french\", \"french\", \"french\", \"french\", \"fresh\", \"friendship\", \"front\", \"fudg\", \"fudg\", \"fudg\", \"fudg\", \"fudg\", \"fudg\", \"fudg\", \"fudg\", \"fudg\", \"fudg\", \"fudg\", \"fudg\", \"fudg\", \"fudg\", \"fudg\", \"fudg\", \"fudg\", \"fudg\", \"fudg\", \"full\", \"fulli\", \"fulli\", \"fulli\", \"fulli\", \"fulli\", \"fun\", \"funniest\", \"game\", \"gang\", \"gangster\", \"gangster\", \"gangster\", \"gangster\", \"gener\", \"gentl\", \"genuin\", \"get\", \"ghost\", \"ghost\", \"ghost\", \"ghost\", \"ghost\", \"ghost\", \"ghost\", \"ghost\", \"ghost\", \"ghost\", \"ghost\", \"ghost\", \"ghost\", \"ghost\", \"giant\", \"giant\", \"giant\", \"giant\", \"giant\", \"giant\", \"giant\", \"giant\", \"giant\", \"giant\", \"giant\", \"giant\", \"giant\", \"giant\", \"giant\", \"giant\", \"giant\", \"giant\", \"giant\", \"giant\", \"girl\", \"give\", \"go\", \"good\", \"gorgeou\", \"grade\", \"grade\", \"grade\", \"grade\", \"grade\", \"grade\", \"grade\", \"grade\", \"grade\", \"grade\", \"grade\", \"grade\", \"grade\", \"grade\", \"grade\", \"grade\", \"grade\", \"grade\", \"grade\", \"great\", \"ground\", \"group\", \"group\", \"group\", \"group\", \"group\", \"group\", \"group\", \"group\", \"group\", \"group\", \"group\", \"group\", \"group\", \"group\", \"group\", \"group\", \"group\", \"group\", \"group\", \"grow\", \"grown\", \"gun\", \"gun\", \"gun\", \"gun\", \"gun\", \"gun\", \"gun\", \"gun\", \"gun\", \"gun\", \"gun\", \"gun\", \"gun\", \"gun\", \"gun\", \"gun\", \"gun\", \"gun\", \"gun\", \"guy\", \"hair\", \"hair\", \"hair\", \"hair\", \"hair\", \"hair\", \"hair\", \"hair\", \"hair\", \"hair\", \"hair\", \"hair\", \"hair\", \"hair\", \"hair\", \"hair\", \"hair\", \"hair\", \"hair\", \"hair\", \"half\", \"hand\", \"happen\", \"hard\", \"harm\", \"harm\", \"harm\", \"harm\", \"harm\", \"harm\", \"harm\", \"harm\", \"harm\", \"harm\", \"harm\", \"harm\", \"harm\", \"harm\", \"harm\", \"harm\", \"harm\", \"harm\", \"harm\", \"hate\", \"head\", \"heart\", \"heavi\", \"heavi\", \"heavi\", \"help\", \"hide\", \"hide\", \"hide\", \"hide\", \"hide\", \"hide\", \"hide\", \"hide\", \"hide\", \"hide\", \"hide\", \"hide\", \"hide\", \"hide\", \"hide\", \"hide\", \"hide\", \"hide\", \"high\", \"highlight\", \"highlight\", \"highlight\", \"highlight\", \"highlight\", \"highlight\", \"highlight\", \"highlight\", \"highlight\", \"highlight\", \"highlight\", \"histori\", \"histori\", \"histori\", \"histori\", \"histori\", \"histori\", \"histori\", \"histori\", \"hit\", \"hold\", \"hole\", \"hole\", \"hole\", \"hole\", \"hole\", \"hole\", \"hole\", \"hole\", \"hole\", \"hole\", \"hole\", \"hole\", \"hole\", \"hole\", \"hole\", \"hole\", \"hole\", \"hole\", \"homag\", \"homag\", \"homag\", \"homag\", \"homag\", \"homag\", \"homag\", \"homag\", \"homag\", \"home\", \"honest\", \"honest\", \"honest\", \"hot\", \"hour\", \"hous\", \"huge\", \"human\", \"humor\", \"hypermasculin_element\", \"hypermasculin_element\", \"hypermasculin_element\", \"hypermasculin_element\", \"hypermasculin_element\", \"hypermasculin_element\", \"hypermasculin_element\", \"hypermasculin_element\", \"hypermasculin_element\", \"hypermasculin_element\", \"hypermasculin_element\", \"hypermasculin_element\", \"hypermasculin_element\", \"hypermasculin_element\", \"hypermasculin_element\", \"hypermasculin_element\", \"hypermasculin_element\", \"hypermasculin_element\", \"hypermasculin_element\", \"hypermasculin_element\", \"ice\", \"ice\", \"ice\", \"ice\", \"ice\", \"ice\", \"ice\", \"ice\", \"ice\", \"ice\", \"ice\", \"ice\", \"ice\", \"ice\", \"ice\", \"ice\", \"ice\", \"ice\", \"ice\", \"idea\", \"ignit\", \"ignit\", \"ill\", \"imagin\", \"imagin\", \"imagin\", \"imagin\", \"imagin\", \"imagin\", \"imagin\", \"imagin\", \"imagin\", \"imagin\", \"imagin\", \"imagin\", \"imagin\", \"imagin\", \"imagin\", \"imagin\", \"imagin\", \"imagin\", \"imagin\", \"imagin\", \"impact\", \"impress\", \"includ\", \"includ_mine\", \"includ_mine\", \"includ_mine\", \"includ_mine\", \"includ_mine\", \"includ_mine\", \"includ_mine\", \"includ_mine\", \"includ_mine\", \"includ_mine\", \"includ_mine\", \"includ_mine\", \"includ_mine\", \"includ_mine\", \"includ_mine\", \"includ_mine\", \"includ_mine\", \"includ_mine\", \"includ_mine\", \"includ_mine\", \"incoher\", \"incoher\", \"inconsequenti\", \"incre\", \"incre\", \"industri\", \"inject\", \"insid\", \"insid\", \"insid\", \"insid\", \"insid\", \"insid\", \"insid\", \"insid\", \"insid\", \"insid\", \"insid\", \"insid\", \"insid\", \"insid\", \"insid\", \"insid\", \"insid\", \"insid\", \"insid\", \"insid\", \"insight\", \"inspir\", \"intellig\", \"interest\", \"intrigu\", \"invent\", \"investig\", \"investig\", \"investig\", \"investig\", \"investig\", \"investig\", \"investig\", \"investig\", \"investig\", \"investig\", \"investig\", \"investig\", \"investig\", \"investig\", \"investig\", \"investig\", \"investig\", \"investig\", \"investig\", \"investig\", \"involv\", \"joke\", \"jolt\", \"jolt\", \"jolt\", \"jolt\", \"jolt\", \"jolt\", \"jolt\", \"jolt\", \"jolt\", \"jolt\", \"jolt\", \"jolt\", \"jolt\", \"jolt\", \"jolt\", \"jolt\", \"jolt\", \"jolt\", \"jolt\", \"joy\", \"just\", \"keep\", \"kid\", \"kill\", \"kind\", \"know\", \"labor\", \"labor\", \"labor\", \"labor\", \"lack\", \"land\", \"languag\", \"last\", \"late\", \"later\", \"later\", \"later\", \"later\", \"later\", \"later\", \"later\", \"later\", \"later\", \"later\", \"later\", \"later\", \"later\", \"later\", \"later\", \"later\", \"later\", \"later\", \"later\", \"later\", \"laugh\", \"lead\", \"learn\", \"least\", \"leave\", \"less\", \"let\", \"level\", \"life\", \"light\", \"line\", \"listen\", \"listen\", \"listless\", \"littl\", \"live\", \"locat\", \"locat\", \"locat\", \"locat\", \"locat\", \"locat\", \"locat\", \"locat\", \"locat\", \"locat\", \"locat\", \"locat\", \"locat\", \"logic\", \"logic\", \"logic\", \"logic\", \"logic\", \"long\", \"longer\", \"longer\", \"longer\", \"longer\", \"longer\", \"longer\", \"longer\", \"longer\", \"longer\", \"longer\", \"longer\", \"longer\", \"longer\", \"longer\", \"longer\", \"longer\", \"longer\", \"longer\", \"longer\", \"look\", \"lose\", \"lot\", \"loud\", \"love\", \"low\", \"lrb\", \"ludicr\", \"ludicr\", \"ludicr\", \"made\", \"made\", \"made\", \"made\", \"made\", \"made\", \"made\", \"made\", \"made\", \"magic\", \"mainli\", \"mainli\", \"mainli\", \"mainli\", \"mainli\", \"mainli\", \"mainli\", \"mainli\", \"mainli\", \"maintain\", \"major\", \"make\", \"man\", \"mani\", \"manner\", \"margin\", \"master\", \"matter\", \"matur\", \"may\", \"mean\", \"mention\", \"mention\", \"mention\", \"mess\", \"metaphor\", \"mind\", \"mindless\", \"minor\", \"minut\", \"modern\", \"moment\", \"monster\", \"mood\", \"moral\", \"motion\", \"move\", \"movi\", \"much\", \"muddl\", \"murder\", \"music\", \"must\", \"n\", \"name\", \"name\", \"nasty\", \"nasty\", \"nasty\", \"nasty\", \"nasty\", \"nasty\", \"nasty\", \"nasty\", \"nasty\", \"nasty\", \"nasty\", \"nasty\", \"nasty\", \"nasty\", \"nasty\", \"nasty\", \"nasty\", \"nasty\", \"nasty\", \"nasty\", \"nation\", \"natur\", \"near\", \"nee\", \"need\", \"never\", \"new\", \"next\", \"nice\", \"night\", \"none\", \"notion\", \"notion\", \"notwithstand\", \"notwithstand\", \"now\", \"nuanc\", \"nuanc\", \"nuanc\", \"nuanc\", \"nuanc\", \"nuanc\", \"nuanc\", \"nuanc\", \"nuanc\", \"nuanc\", \"nuanc\", \"nuanc\", \"nuanc\", \"nuanc\", \"nuanc\", \"number\", \"observ\", \"obsess\", \"obsess\", \"obsess\", \"obsess\", \"obsess\", \"obsess\", \"obsess\", \"obsess\", \"obsess\", \"obsess\", \"obsess\", \"obsess\", \"obsess\", \"obsess\", \"obsess\", \"obsess\", \"obsess\", \"occasion\", \"odd\", \"oddli\", \"offer\", \"often\", \"old\", \"origin\", \"other\", \"otherwis\", \"otherwis\", \"otherwis\", \"otherwis\", \"otherwis\", \"otherwis\", \"otherwis\", \"otherwis\", \"otherwis\", \"otherwis\", \"otherwis\", \"otherwis\", \"otherwis\", \"otherwis\", \"otherwis\", \"otherwis\", \"otherwis\", \"otherwis\", \"otherwis\", \"otherworldli\", \"otherworldli\", \"otherworldli\", \"otherworldli\", \"otherworldli\", \"otherworldli\", \"otherworldli\", \"otherworldli\", \"otherworldli\", \"otherworldli\", \"otherworldli\", \"otherworldli\", \"otherworldli\", \"otherworldli\", \"otherworldli\", \"otherworldli\", \"overal\", \"pace\", \"pack\", \"paper_thin\", \"parent\", \"part\", \"particularli\", \"pass\", \"passion\", \"past\", \"pay\", \"peopl\", \"perfect\", \"perfectli\", \"perfectli\", \"perform\", \"period\", \"period\", \"period\", \"period\", \"period\", \"period\", \"period\", \"period\", \"period\", \"period\", \"person\", \"perspect\", \"philosoph\", \"phone\", \"photo\", \"photo\", \"photo\", \"photo\", \"photo\", \"photo\", \"photo\", \"photo\", \"photo\", \"photo\", \"photo\", \"photo\", \"photo\", \"photo\", \"photo\", \"photo\", \"photo\", \"photo\", \"photo\", \"pianist\", \"pick\", \"picpu\", \"picpu\", \"picpu\", \"picpu\", \"picpu\", \"picpu\", \"picpu\", \"picpu\", \"picpu\", \"picpu\", \"picpu\", \"picpu\", \"picpu\", \"picpu\", \"picpu\", \"picpu\", \"picpu\", \"picpu\", \"picpu\", \"pictur\", \"piec\", \"pitch\", \"place\", \"plain\", \"play\", \"plea\", \"pleasur\", \"plot\", \"poignant\", \"poignant\", \"poignant\", \"poignant\", \"poignant\", \"poignant\", \"poignant\", \"poignant\", \"poignant\", \"poignant\", \"poignant\", \"poignant\", \"poignant\", \"poignant\", \"poignant\", \"poignant\", \"poignant\", \"poignant\", \"poignant\", \"point\", \"pop\", \"portrait\", \"potenti\", \"potenti\", \"potenti\", \"power\", \"predecessor\", \"predict\", \"pregnant\", \"pregnant\", \"pregnant\", \"pregnant\", \"pregnant\", \"pregnant\", \"pregnant\", \"pregnant\", \"pregnant\", \"pregnant\", \"pregnant\", \"pregnant\", \"pregnant\", \"pregnant\", \"pregnant\", \"pregnant\", \"pregnant\", \"pregnant\", \"pregnant\", \"pregnant\", \"present\", \"pretti\", \"prevail\", \"prevail\", \"prevail\", \"prevail\", \"prevail\", \"prevail\", \"prevail\", \"prevail\", \"prevail\", \"prevail\", \"prevail\", \"prevail\", \"prevail\", \"prevail\", \"prevail\", \"prevail\", \"prevail\", \"prevail\", \"prevail\", \"prevail\", \"probabl\", \"problem\", \"proceed\", \"process\", \"produc\", \"product\", \"promis\", \"properli_inten\", \"properli_inten\", \"properli_inten\", \"properli_inten\", \"properli_inten\", \"properli_inten\", \"properli_inten\", \"properli_inten\", \"properli_inten\", \"properli_inten\", \"properli_inten\", \"properli_inten\", \"properli_inten\", \"properli_inten\", \"properli_inten\", \"properli_inten\", \"properli_inten\", \"properli_inten\", \"properli_inten\", \"prove\", \"pull\", \"pulpi\", \"pulpi\", \"pulpi\", \"pulpi\", \"pulpi\", \"pulpi\", \"pulpi\", \"pulpi\", \"pulpi\", \"pulpi\", \"pulpi\", \"pulpi\", \"pulpi\", \"pulpi\", \"pulpi\", \"pulpi\", \"pulpi\", \"pulpi\", \"pulpi\", \"punch\", \"pure\", \"purer\", \"purer\", \"purer\", \"purer\", \"purer\", \"purer\", \"purer\", \"purer\", \"purer\", \"purer\", \"purer\", \"purer\", \"purer\", \"purer\", \"purer\", \"purer\", \"purer\", \"purer\", \"purer\", \"purer\", \"put\", \"quentin_tarantino\", \"quentin_tarantino\", \"quentin_tarantino\", \"quit\", \"race\", \"racial\", \"racial\", \"racial\", \"racial\", \"racial\", \"racial\", \"racial\", \"racial\", \"racial\", \"racial\", \"racial\", \"racial\", \"racial\", \"racial\", \"racial\", \"racial\", \"racial\", \"racial\", \"racial\", \"rare\", \"rate\", \"rather\", \"read\", \"real\", \"realiz\", \"realli\", \"reason\", \"receiv\", \"receiv\", \"receiv\", \"recent\", \"recommend\", \"relationship\", \"remain\", \"remain\", \"rememb\", \"remind\", \"rental\", \"rental\", \"rental\", \"repre\", \"repre\", \"repre\", \"respon\", \"respond\", \"respond\", \"respond\", \"respond\", \"respond\", \"respond\", \"respond\", \"respond\", \"respond\", \"respond\", \"respond\", \"respond\", \"respond\", \"respond\", \"respond\", \"respond\", \"respond\", \"rest\", \"return\", \"reward\", \"rich\", \"ride\", \"right\", \"rip\", \"rip\", \"rip\", \"rip\", \"rip\", \"rip\", \"rise\", \"role\", \"roll\", \"romant\", \"romp\", \"rrb\", \"run\", \"s\", \"sad\", \"satir\", \"say\", \"scene\", \"school\", \"school\", \"school\", \"school\", \"score\", \"screen\", \"screenplay\", \"screenwrit\", \"screenwrit\", \"screenwrit\", \"screenwrit\", \"screenwrit\", \"screenwrit\", \"screenwrit\", \"screenwrit\", \"screenwrit\", \"screenwrit\", \"screenwrit\", \"screenwrit\", \"screenwrit\", \"screenwrit\", \"screenwrit\", \"script\", \"search\", \"season\", \"seat\", \"seat\", \"seat\", \"seat\", \"seat\", \"seat\", \"seat\", \"seat\", \"seat\", \"seat\", \"second\", \"secret\", \"see\", \"seem\", \"self\", \"sell\", \"sen\", \"send\", \"sensual\", \"sentiment\", \"sequel\", \"set\", \"sexual\", \"shadow\", \"shallow\", \"shallow\", \"shallow\", \"shallow\", \"shallow\", \"shallow\", \"shallow\", \"shallow\", \"shallow\", \"shallow\", \"shallow\", \"shallow\", \"shallow\", \"shallow\", \"shallow\", \"shameless\", \"shameless\", \"shameless\", \"shameless\", \"shameless\", \"shameless\", \"shameless\", \"shameless\", \"shameless\", \"shameless\", \"shameless\", \"shameless\", \"shameless\", \"shameless\", \"shameless\", \"shameless\", \"shameless\", \"shoot\", \"short\", \"shot\", \"side\", \"simpl\", \"simpli\", \"simplist\", \"simplist\", \"simplist\", \"simplist\", \"simplist\", \"simplist\", \"simplist\", \"simplist\", \"simplist\", \"sin\", \"sin\", \"sin\", \"sin\", \"sin\", \"sin\", \"sin\", \"sin\", \"sin\", \"sin\", \"sin\", \"sin\", \"sin\", \"sin\", \"sin\", \"sin\", \"sin\", \"sin\", \"sin\", \"sincer\", \"sister\", \"sitcom\", \"sitcom\", \"sitcom\", \"sitcom\", \"sitcom\", \"sitcom\", \"sitcom\", \"sitcom\", \"sitcom\", \"sitcom\", \"sitcom\", \"sitcom\", \"sitcom\", \"situat\", \"skeleton\", \"skeleton\", \"skeleton\", \"skeleton\", \"skeleton\", \"skeleton\", \"skeleton\", \"skeleton\", \"skeleton\", \"skeleton\", \"skeleton\", \"skeleton\", \"skeleton\", \"skeleton\", \"skeleton\", \"skeleton\", \"skeleton\", \"skeleton\", \"skeleton\", \"skeleton\", \"slight\", \"slow\", \"small\", \"smart\", \"smartli\", \"smartli\", \"smartli\", \"smartli\", \"smartli\", \"smartli\", \"smartli\", \"smartli\", \"smartli\", \"smartli\", \"smartli\", \"smartli\", \"smartli\", \"smartli\", \"smartli\", \"smartli\", \"smartli\", \"smartli\", \"smartli\", \"smile\", \"smile\", \"societi\", \"sociolog\", \"sociolog\", \"sociolog\", \"solid\", \"someth\", \"son\", \"sophist_unsentiment\", \"sophist_unsentiment\", \"sophist_unsentiment\", \"sophist_unsentiment\", \"sophist_unsentiment\", \"sophist_unsentiment\", \"sophist_unsentiment\", \"sophist_unsentiment\", \"sophist_unsentiment\", \"sophist_unsentiment\", \"sophist_unsentiment\", \"sophist_unsentiment\", \"sophist_unsentiment\", \"sophist_unsentiment\", \"sophist_unsentiment\", \"sophist_unsentiment\", \"sophist_unsentiment\", \"sophist_unsentiment\", \"sophist_unsentiment\", \"sort\", \"soul\", \"sound\", \"spark\", \"speak\", \"speak\", \"special\", \"specif_gift\", \"specif_gift\", \"specif_gift\", \"specif_gift\", \"specif_gift\", \"specif_gift\", \"specif_gift\", \"specif_gift\", \"specif_gift\", \"specif_gift\", \"specif_gift\", \"specif_gift\", \"specif_gift\", \"specif_gift\", \"specif_gift\", \"specif_gift\", \"specif_gift\", \"specif_gift\", \"specif_gift\", \"specif_gift\", \"spend\", \"stage\", \"standard\", \"star\", \"start\", \"state\", \"stay\", \"still\", \"stori\", \"storylin\", \"straight\", \"strength\", \"stretch\", \"strike\", \"strong\", \"struggl\", \"stuff\", \"stunt\", \"stupid\", \"style\", \"subject\", \"subtleti\", \"succe\", \"succe\", \"succe\", \"succe\", \"succe\", \"success\", \"suffer\", \"suit\", \"summer\", \"suprem\", \"suprem\", \"suprem\", \"suprem\", \"suprem\", \"sure\", \"surpris\", \"surround\", \"surviv\", \"surviv\", \"surviv\", \"surviv\", \"surviv\", \"surviv\", \"surviv\", \"surviv\", \"surviv\", \"surviv\", \"surviv\", \"surviv\", \"surviv\", \"surviv\", \"surviv\", \"surviv\", \"surviv\", \"surviv\", \"surviv\", \"suspect\", \"suspen\", \"swear\", \"swear\", \"swear\", \"swear\", \"swear\", \"swear\", \"swear\", \"swear\", \"swear\", \"swear\", \"swear\", \"swear\", \"swear\", \"swear\", \"swear\", \"swear\", \"swear\", \"swear\", \"swear\", \"sweet\", \"t\", \"take\", \"tale\", \"talent\", \"target\", \"tast\", \"teen\", \"tell\", \"tender\", \"term\", \"theme\", \"thing\", \"think\", \"thoroughli\", \"thrill\", \"thriller\", \"throw\", \"thrust\", \"thrust\", \"thrust\", \"thrust\", \"thrust\", \"thrust\", \"thrust\", \"thrust\", \"thrust\", \"thrust\", \"thrust\", \"thrust\", \"time\", \"tire\", \"titl\", \"today\", \"tone\", \"top\", \"total\", \"total\", \"total\", \"total\", \"total\", \"total\", \"total\", \"total\", \"total\", \"total\", \"total\", \"total\", \"total\", \"total\", \"total\", \"total\", \"total\", \"total\", \"total\", \"touch\", \"tradit\", \"transcend\", \"transport\", \"travel\", \"treat\", \"treatment\", \"tri\", \"trim\", \"trivial\", \"trivial\", \"trivial\", \"trivial\", \"trivial\", \"troubl\", \"true\", \"turn\", \"tv\", \"twist\", \"uncomfort\", \"understand\", \"unit\", \"unit\", \"unit\", \"unit\", \"unit\", \"unit\", \"unit\", \"unit\", \"unit\", \"unit\", \"unit\", \"unit\", \"unit\", \"unit\", \"unit\", \"unit\", \"unit\", \"unit\", \"unit\", \"unit\", \"use\", \"usual\", \"usual\", \"valid\", \"valid\", \"valid\", \"valid\", \"valid\", \"valid\", \"valid\", \"valid\", \"valid\", \"valid\", \"valid\", \"valid\", \"valid\", \"valid\", \"valid\", \"valid\", \"valu\", \"version\", \"victim\", \"victim\", \"victim\", \"victim\", \"victim\", \"victim\", \"victim\", \"victim\", \"victim\", \"victim\", \"victim\", \"victim\", \"victim\", \"video\", \"view\", \"viewer\", \"visual\", \"vital\", \"vital\", \"wait\", \"want\", \"war\", \"warm\", \"warmth\", \"wast\", \"wast\", \"wast\", \"watch\", \"water\", \"way\", \"week\", \"well\", \"whole\", \"wild\", \"will\", \"win\", \"wit\", \"wo\", \"woman\", \"wonder\", \"wor\", \"word\", \"work\", \"world\", \"worth\", \"would\", \"wrap\", \"write\", \"writer\", \"wrong\", \"year\", \"yet\", \"young\"]}, \"R\": 30, \"lambda.step\": 0.01, \"plot.opts\": {\"xlab\": \"PC1\", \"ylab\": \"PC2\"}, \"topic.order\": [12, 8, 5, 15, 9, 4, 13, 10, 20, 7, 2, 11, 19, 17, 1, 3, 6, 14, 16, 18]};\n",
              "\n",
              "function LDAvis_load_lib(url, callback){\n",
              "  var s = document.createElement('script');\n",
              "  s.src = url;\n",
              "  s.async = true;\n",
              "  s.onreadystatechange = s.onload = callback;\n",
              "  s.onerror = function(){console.warn(\"failed to load library \" + url);};\n",
              "  document.getElementsByTagName(\"head\")[0].appendChild(s);\n",
              "}\n",
              "\n",
              "if(typeof(LDAvis) !== \"undefined\"){\n",
              "   // already loaded: just create the visualization\n",
              "   !function(LDAvis){\n",
              "       new LDAvis(\"#\" + \"ldavis_el561404363446637602318047024\", ldavis_el561404363446637602318047024_data);\n",
              "   }(LDAvis);\n",
              "}else if(typeof define === \"function\" && define.amd){\n",
              "   // require.js is available: use it to load d3/LDAvis\n",
              "   require.config({paths: {d3: \"https://d3js.org/d3.v5\"}});\n",
              "   require([\"d3\"], function(d3){\n",
              "      window.d3 = d3;\n",
              "      LDAvis_load_lib(\"https://cdn.jsdelivr.net/gh/bmabey/pyLDAvis@3.3.1/pyLDAvis/js/ldavis.v3.0.0.js\", function(){\n",
              "        new LDAvis(\"#\" + \"ldavis_el561404363446637602318047024\", ldavis_el561404363446637602318047024_data);\n",
              "      });\n",
              "    });\n",
              "}else{\n",
              "    // require.js not available: dynamically load d3 & LDAvis\n",
              "    LDAvis_load_lib(\"https://d3js.org/d3.v5.js\", function(){\n",
              "         LDAvis_load_lib(\"https://cdn.jsdelivr.net/gh/bmabey/pyLDAvis@3.3.1/pyLDAvis/js/ldavis.v3.0.0.js\", function(){\n",
              "                 new LDAvis(\"#\" + \"ldavis_el561404363446637602318047024\", ldavis_el561404363446637602318047024_data);\n",
              "            })\n",
              "         });\n",
              "}\n",
              "</script>"
            ]
          },
          "metadata": {},
          "execution_count": 18
        }
      ],
      "source": [
        "!pip install pyLDAvis\n",
        "import pyLDAvis\n",
        "import pyLDAvis.gensim_models\n",
        "import matplotlib.pyplot as plt\n",
        "%matplotlib inline\n",
        "pyLDAvis.enable_notebook()\n",
        "vis = pyLDAvis.gensim_models.prepare(lda_model, corpus, id2word)\n",
        "vis\n"
      ]
    },
    {
      "cell_type": "markdown",
      "metadata": {
        "id": "KW3vdB36_SfG"
      },
      "source": [
        "# **LSA**"
      ]
    },
    {
      "cell_type": "code",
      "execution_count": 19,
      "metadata": {
        "id": "_TYdP9Ov6HMu"
      },
      "outputs": [],
      "source": [
        "lsamodel = models.LsiModel(corpus, num_topics=20, id2word=id2word)\n"
      ]
    },
    {
      "cell_type": "code",
      "execution_count": 20,
      "metadata": {
        "id": "N6UgkV6MD7wO",
        "colab": {
          "base_uri": "https://localhost:8080/"
        },
        "outputId": "0dab3a2d-f1d2-4316-c103-d409f2987af2"
      },
      "outputs": [
        {
          "output_type": "stream",
          "name": "stdout",
          "text": [
            "[(0,\n",
            "  '0.784*\"film\" + 0.386*\"make\" + 0.225*\"good\" + 0.179*\"movi\" + 0.108*\"time\" + '\n",
            "  '0.090*\"feel\" + 0.083*\"see\" + 0.072*\"enough\" + 0.070*\"may\" + 0.068*\"much\"'),\n",
            " (1,\n",
            "  '-0.588*\"film\" + 0.525*\"make\" + 0.363*\"movi\" + 0.337*\"good\" + 0.151*\"time\" + '\n",
            "  '0.087*\"bad\" + 0.082*\"even\" + 0.079*\"see\" + 0.078*\"much\" + 0.077*\"may\"'),\n",
            " (2,\n",
            "  '-0.736*\"good\" + 0.568*\"make\" + -0.252*\"time\" + 0.072*\"movi\" + -0.067*\"see\" '\n",
            "  '+ -0.063*\"bad\" + -0.061*\"actor\" + -0.059*\"rrb\" + -0.054*\"work\" + '\n",
            "  '-0.044*\"year\"'),\n",
            " (3,\n",
            "  '0.583*\"movi\" + -0.424*\"make\" + -0.407*\"good\" + 0.284*\"see\" + 0.133*\"can\" + '\n",
            "  '0.128*\"bad\" + 0.118*\"time\" + 0.113*\"love\" + 0.109*\"will\" + 0.107*\"come\"'),\n",
            " (4,\n",
            "  '-0.593*\"movi\" + 0.427*\"time\" + 0.249*\"much\" + 0.243*\"see\" + -0.232*\"good\" + '\n",
            "  '0.159*\"may\" + 0.159*\"rrb\" + 0.144*\"even\" + 0.133*\"lrb\" + -0.099*\"film\"'),\n",
            " (5,\n",
            "  '-0.769*\"time\" + 0.304*\"see\" + -0.196*\"movi\" + 0.180*\"may\" + 0.141*\"come\" + '\n",
            "  '0.131*\"good\" + 0.115*\"will\" + 0.113*\"can\" + 0.109*\"s\" + 0.084*\"year\"'),\n",
            " (6,\n",
            "  '0.587*\"see\" + -0.459*\"much\" + -0.277*\"just\" + -0.254*\"enough\" + '\n",
            "  '-0.210*\"well\" + -0.137*\"feel\" + 0.113*\"old\" + 0.110*\"make\" + 0.108*\"ever\" + '\n",
            "  '-0.106*\"can\"'),\n",
            " (7,\n",
            "  '0.485*\"come\" + -0.462*\"much\" + 0.322*\"life\" + 0.276*\"can\" + -0.274*\"see\" + '\n",
            "  '-0.190*\"may\" + 0.158*\"will\" + 0.137*\"love\" + 0.098*\"take\" + 0.094*\"stori\"'),\n",
            " (8,\n",
            "  '0.518*\"come\" + -0.492*\"can\" + -0.299*\"bad\" + 0.256*\"rrb\" + -0.234*\"love\" + '\n",
            "  '0.191*\"lrb\" + 0.147*\"much\" + -0.117*\"will\" + -0.107*\"old\" + -0.106*\"stori\"'),\n",
            " (9,\n",
            "  '0.430*\"enough\" + -0.388*\"much\" + 0.379*\"just\" + 0.276*\"rrb\" + -0.261*\"come\" '\n",
            "  '+ -0.232*\"can\" + 0.198*\"lrb\" + -0.195*\"life\" + 0.141*\"interest\" + '\n",
            "  '0.130*\"visual\"'),\n",
            " (10,\n",
            "  '0.480*\"may\" + 0.291*\"feel\" + -0.287*\"much\" + -0.278*\"enough\" + '\n",
            "  '-0.275*\"just\" + -0.264*\"come\" + 0.234*\"rrb\" + -0.177*\"see\" + 0.156*\"lrb\" + '\n",
            "  '-0.147*\"t\"'),\n",
            " (11,\n",
            "  '-0.545*\"will\" + 0.417*\"can\" + -0.281*\"stori\" + 0.266*\"rrb\" + 0.208*\"lrb\" + '\n",
            "  '0.203*\"even\" + 0.186*\"bad\" + -0.176*\"love\" + -0.175*\"may\" + -0.133*\"man\"'),\n",
            " (12,\n",
            "  '-0.586*\"may\" + -0.317*\"life\" + 0.248*\"feel\" + 0.238*\"will\" + 0.202*\"man\" + '\n",
            "  '0.190*\"even\" + 0.165*\"end\" + 0.165*\"stori\" + -0.162*\"well\" + 0.152*\"know\"'),\n",
            " (13,\n",
            "  '-0.586*\"feel\" + -0.341*\"life\" + 0.235*\"may\" + 0.207*\"will\" + 0.202*\"bad\" + '\n",
            "  '-0.193*\"see\" + -0.165*\"take\" + 0.164*\"can\" + 0.128*\"rrb\" + -0.125*\"visual\"'),\n",
            " (14,\n",
            "  '0.368*\"life\" + -0.357*\"feel\" + -0.323*\"come\" + -0.235*\"old\" + -0.218*\"may\" '\n",
            "  '+ -0.193*\"year\" + 0.192*\"rrb\" + -0.186*\"bad\" + 0.161*\"stori\" + '\n",
            "  '0.149*\"much\"'),\n",
            " (15,\n",
            "  '0.450*\"old\" + 0.351*\"year\" + -0.280*\"just\" + 0.255*\"man\" + -0.215*\"will\" + '\n",
            "  '-0.198*\"feel\" + -0.197*\"see\" + 0.186*\"charact\" + -0.177*\"can\" + '\n",
            "  '0.142*\"rrb\"'),\n",
            " (16,\n",
            "  '-0.658*\"bad\" + 0.278*\"can\" + 0.268*\"old\" + 0.243*\"year\" + -0.159*\"go\" + '\n",
            "  '0.144*\"even\" + -0.141*\"man\" + 0.136*\"look\" + -0.136*\"feel\" + 0.119*\"movi\"'),\n",
            " (17,\n",
            "  '0.279*\"stori\" + -0.273*\"will\" + -0.269*\"perform\" + -0.256*\"way\" + '\n",
            "  '0.252*\"look\" + -0.218*\"year\" + 0.212*\"man\" + -0.182*\"old\" + 0.174*\"work\" + '\n",
            "  '-0.169*\"feel\"'),\n",
            " (18,\n",
            "  '-0.369*\"even\" + -0.348*\"man\" + -0.304*\"give\" + 0.289*\"visual\" + '\n",
            "  '0.272*\"love\" + -0.205*\"just\" + -0.177*\"go\" + 0.169*\"much\" + 0.164*\"know\" + '\n",
            "  '-0.129*\"s\"'),\n",
            " (19,\n",
            "  '0.322*\"even\" + 0.265*\"charact\" + -0.253*\"man\" + -0.249*\"know\" + '\n",
            "  '0.221*\"perform\" + -0.210*\"just\" + -0.207*\"go\" + -0.191*\"can\" + 0.186*\"bad\" '\n",
            "  '+ -0.177*\"give\"')]\n"
          ]
        }
      ],
      "source": [
        "pprint(lsamodel.print_topics(num_topics=20))\n"
      ]
    },
    {
      "cell_type": "code",
      "execution_count": 21,
      "metadata": {
        "id": "N5IB1qi8EG1o"
      },
      "outputs": [],
      "source": [
        "coherence_values = []\n",
        "model_list = []\n",
        "for num_topics in range(2, 12, 1):\n",
        "    model = models.LsiModel(corpus, num_topics=20, id2word=id2word)\n",
        "    model_list.append(model)\n",
        "    coherencemodel = CoherenceModel(\n",
        "        model=lsamodel, texts=data['Stemming'], dictionary=id2word, coherence='c_v')\n",
        "    coherence_values.append(coherencemodel.get_coherence())\n"
      ]
    },
    {
      "cell_type": "code",
      "execution_count": 22,
      "metadata": {
        "id": "V7b1zJEkIScK",
        "colab": {
          "base_uri": "https://localhost:8080/",
          "height": 282
        },
        "outputId": "b0180c67-ba6d-49c7-b45a-341179512ef1"
      },
      "outputs": [
        {
          "output_type": "display_data",
          "data": {
            "text/plain": [
              "<Figure size 432x288 with 1 Axes>"
            ],
            "image/png": "[encoded data removed]"
          },
          "metadata": {
            "needs_background": "light"
          }
        }
      ],
      "source": [
        "x = range(2, 12, 1)\n",
        "plt.plot(x, coherence_values)\n",
        "plt.xlabel(\"Number of Topics\")\n",
        "plt.ylabel(\"Coherence score\")\n",
        "plt.legend((\"coherence_values\"), loc='best')\n",
        "plt.show()\n"
      ]
    },
    {
      "cell_type": "markdown",
      "metadata": {
        "id": "vz-aNU3yB4iz"
      },
      "source": [
        "# **Summarization of Topics**\n",
        "\n",
        "**LDA**\n",
        "\n",
        "Reviews of hotels on Weekends\n",
        "\n",
        "Good places to spend great time\n",
        "\n",
        "Reviews of cloth store\n",
        "\n",
        "Reviews of children doctor fee\n",
        "\n",
        "Reviews of pool pffice cashier\n",
        "\n",
        "Reviews of birthday products and burger deals\n",
        "\n",
        "Reviews of last week wine prices\n",
        "\n",
        "Reviews of door and nail fix expenses\n",
        "\n",
        "Reviews of customer care phone calls\n",
        "\n",
        "Reviews of car problems\n",
        "\n",
        "Sandwich reviews\n",
        "\n",
        "Reviews of meat, fish and steak\n",
        "\n",
        "Reviews of Green veggie pasta kid buffets\n",
        "\n",
        "Reviews of spinach pizza\n",
        "\n",
        "Reviews of house treat\n",
        "\n",
        "Reviews of delicious lunch\n",
        "\n",
        "Reviews of walk, help\n",
        "\n",
        "Reviews of chicken flavor breakfast\n",
        "\n",
        "Reviews of need to pay per use\n",
        "\n",
        "Recommendations of new game\n",
        "\n",
        "**LSA**\n",
        "\n",
        "Reviews of order and get food\n",
        "\n",
        "Good food place to spend great time\n",
        "\n",
        "great food and great place\n",
        "\n",
        "Go and get good food place\n",
        "\n",
        "Great place to order food\n",
        "\n",
        "Reviews about hostel stay\n",
        "\n",
        "Reviews about good place to eat\n",
        "\n",
        "Reviews about room stay\n",
        "\n",
        "Car Reviews\n",
        "\n",
        "Good place and price to drink and as well as to work\n",
        "\n",
        "Come, place and order\n",
        "\n",
        "Good prices for drink\n",
        "\n",
        "Reviews about eat drink and call\n"
      ]
    },
    {
      "cell_type": "markdown",
      "metadata": {
        "id": "AfpMRCrRwN6Z"
      },
      "source": [
        "# **Question 2: Sentiment Analysis**"
      ]
    },
    {
      "cell_type": "markdown",
      "metadata": {
        "id": "1dCQEbDawWCw"
      },
      "source": [
        "(30 points). Sentiment analysis also known as opinion mining is a sub field within Natural Language Processing (NLP) that builds machine learning algorithms to classify a text according to the sentimental polarities of opinions it contains, e.g., positive, negative, neutral. The purpose of this question is to develop a machine learning classifier for sentiment analysis. Based on the dataset from assignment three, write a python program to implement a sentiment classifier and evaluate its performance. Notice: **80% data for training and 20% data for testing**.  \n",
        "\n",
        "(1) Features used for sentiment classification and explain why you select these features.\n",
        "\n",
        "(2) Select two of the supervised learning algorithm from scikit-learn library: https://scikit-learn.org/stable/supervised_learning.html#supervised-learning, to build a sentiment classifier respectively. Note: Cross-validation (5-fold or 10-fold) should be conducted. Here is the reference of cross-validation: https://scikit-learn.org/stable/modules/cross_validation.html.\n",
        "\n",
        "(3) Compare the performance over accuracy, precision, recall, and F1 score for the two algorithms you selected. Here is the reference of how to calculate these metrics: https://towardsdatascience.com/accuracy-precision-recall-or-f1-331fb37c5cb9. "
      ]
    },
    {
      "cell_type": "markdown",
      "metadata": {
        "id": "N5-aoBhN_XGq"
      },
      "source": [
        "# **Classifying Ratings**"
      ]
    },
    {
      "cell_type": "code",
      "execution_count": 23,
      "metadata": {
        "id": "vATjQNTY8buA"
      },
      "outputs": [],
      "source": [
        "data = data.dropna()\n",
        "\n",
        "\n",
        "def review_classification(rating):\n",
        "    if rating == 4:\n",
        "        return 'Very Positive'\n",
        "    elif rating == 3:\n",
        "        return 'Positive'\n",
        "    elif rating == 2:\n",
        "        return 'Neutral'\n",
        "    elif rating == 1:\n",
        "        return 'Negative'\n",
        "    elif rating == 0:\n",
        "        return 'Very Negative'\n",
        "\n",
        "\n",
        "rating_classification = data['label'].map(review_classification)\n",
        "data['Rating'] = rating_classification\n"
      ]
    },
    {
      "cell_type": "code",
      "execution_count": 24,
      "metadata": {
        "id": "j7eHf6VQ63-Q",
        "colab": {
          "base_uri": "https://localhost:8080/",
          "height": 457
        },
        "outputId": "0e76586e-4bcf-415f-98df-eaf356554511"
      },
      "outputs": [
        {
          "output_type": "stream",
          "name": "stdout",
          "text": [
            "Neutral          24083\n",
            "Positive          9347\n",
            "Negative          7371\n",
            "Very Positive     2427\n",
            "Very Negative     1772\n",
            "Name: Rating, dtype: int64\n"
          ]
        },
        {
          "output_type": "stream",
          "name": "stderr",
          "text": [
            "/usr/local/lib/python3.7/dist-packages/seaborn/_decorators.py:43: FutureWarning: Pass the following variable as a keyword arg: x. From version 0.12, the only valid positional argument will be `data`, and passing other arguments without an explicit keyword will result in an error or misinterpretation.\n",
            "  FutureWarning\n"
          ]
        },
        {
          "output_type": "execute_result",
          "data": {
            "text/plain": [
              "<matplotlib.axes._subplots.AxesSubplot at 0x7fba062013d0>"
            ]
          },
          "metadata": {},
          "execution_count": 24
        },
        {
          "output_type": "display_data",
          "data": {
            "text/plain": [
              "<Figure size 432x288 with 1 Axes>"
            ],
            "image/png": "[encoded data removed]"
          },
          "metadata": {
            "needs_background": "light"
          }
        }
      ],
      "source": [
        "import seaborn as sns\n",
        "print(data['Rating'].value_counts())\n",
        "sns.countplot(data.Rating)\n"
      ]
    },
    {
      "cell_type": "markdown",
      "metadata": {
        "id": "kAhkBTp7_b2S"
      },
      "source": [
        "# **Data Cleaning**"
      ]
    },
    {
      "cell_type": "code",
      "execution_count": 25,
      "metadata": {
        "id": "qzkDFuBi7rRw",
        "colab": {
          "base_uri": "https://localhost:8080/"
        },
        "outputId": "afac7ba6-bdd9-40e9-db80-22e227f8ce94"
      },
      "outputs": [
        {
          "output_type": "stream",
          "name": "stderr",
          "text": [
            "<input>:7: DeprecationWarning: invalid escape sequence \\w\n",
            "<input>:7: DeprecationWarning: invalid escape sequence \\w\n",
            "<input>:7: DeprecationWarning: invalid escape sequence \\w\n",
            "<ipython-input-25-36d36c509d52>:7: DeprecationWarning: invalid escape sequence \\w\n",
            "  data['Cleaned Text'] = data['Cleaned Text'].str.replace('[^\\w\\s]', '')\n",
            "/usr/local/lib/python3.7/dist-packages/ipykernel_launcher.py:7: FutureWarning: The default value of regex will change from True to False in a future version.\n",
            "  import sys\n"
          ]
        },
        {
          "output_type": "stream",
          "name": "stdout",
          "text": [
            "[nltk_data] Downloading package stopwords to /root/nltk_data...\n",
            "[nltk_data]   Unzipping corpora/stopwords.zip.\n"
          ]
        }
      ],
      "source": [
        "import nltk\n",
        "from nltk.corpus import stopwords\n",
        "from textblob import TextBlob\n",
        "nltk.download('stopwords')\n",
        "data['Cleaned Text'] = data['text'].apply(\n",
        "    lambda x: \" \".join(x.lower() for x in x.split()))\n",
        "data['Cleaned Text'] = data['Cleaned Text'].str.replace('[^\\w\\s]', '')\n",
        "stop = stopwords.words('english')\n",
        "data['Cleaned Text'] = data['Cleaned Text'].apply(\n",
        "    lambda x: \" \".join(x for x in x.split() if x not in stop))\n"
      ]
    },
    {
      "cell_type": "markdown",
      "metadata": {
        "id": "S7xrjEBC_fb_"
      },
      "source": [
        "# **Feature Selection**"
      ]
    },
    {
      "cell_type": "code",
      "execution_count": 26,
      "metadata": {
        "id": "KZq-XgBK1LrA"
      },
      "outputs": [],
      "source": [
        "from sklearn.preprocessing import LabelEncoder\n",
        "from sklearn.feature_extraction.text import TfidfVectorizer\n",
        "Tfidfvector = TfidfVectorizer(ngram_range=(1, 2), max_features=1000)\n",
        "Tfidfvector.fit(data['text'])\n",
        "x_values = Tfidfvector.transform(data['text'])\n",
        "encoder = LabelEncoder()\n",
        "y_values = encoder.fit_transform(data['Rating'])\n"
      ]
    },
    {
      "cell_type": "markdown",
      "metadata": {
        "id": "8h7v6zU1QaaF"
      },
      "source": [
        "I have used the Tdidf Vector to improve the performance of the model. It improves the performance model by making it possible to have the words with similar meaning have similar representations and also reduce the computational complexity.\n",
        "\n",
        "Feature selection improves the accuracy of the model and also reduce the overfitting of the model.\n",
        "\n"
      ]
    },
    {
      "cell_type": "markdown",
      "metadata": {
        "id": "YlPmQXCb_mRN"
      },
      "source": [
        "# **Splitting into training and testing data**"
      ]
    },
    {
      "cell_type": "code",
      "execution_count": 27,
      "metadata": {
        "id": "9_SxLbng3hz9"
      },
      "outputs": [],
      "source": [
        "from sklearn import model_selection\n",
        "X_train, x_test, y_train, y_test = model_selection.train_test_split(\n",
        "    x_values, y_values, test_size=0.2)\n"
      ]
    },
    {
      "cell_type": "markdown",
      "metadata": {
        "id": "CV0hkmC7_rLs"
      },
      "source": [
        "# **SVM**"
      ]
    },
    {
      "cell_type": "code",
      "execution_count": 28,
      "metadata": {
        "id": "poIXyfVC4m6U",
        "colab": {
          "base_uri": "https://localhost:8080/"
        },
        "outputId": "ea16f454-e941-495a-f0e5-c49cc7b45a88"
      },
      "outputs": [
        {
          "output_type": "stream",
          "name": "stdout",
          "text": [
            "Accuracy score is 0.5854444444444444\n"
          ]
        },
        {
          "output_type": "execute_result",
          "data": {
            "text/plain": [
              "{'0': {'f1-score': 0.27612293144208033,\n",
              "  'precision': 0.4451219512195122,\n",
              "  'recall': 0.20013708019191226,\n",
              "  'support': 1459},\n",
              " '1': {'f1-score': 0.7306043540388332,\n",
              "  'precision': 0.6155807365439093,\n",
              "  'recall': 0.8984908000826959,\n",
              "  'support': 4837},\n",
              " '2': {'f1-score': 0.3796967699406724,\n",
              "  'precision': 0.4877222692633362,\n",
              "  'recall': 0.31084727468969237,\n",
              "  'support': 1853},\n",
              " '3': {'f1-score': 0.047244094488188976,\n",
              "  'precision': 0.47368421052631576,\n",
              "  'recall': 0.024861878453038673,\n",
              "  'support': 362},\n",
              " '4': {'f1-score': 0.1605584642233857,\n",
              "  'precision': 0.5476190476190477,\n",
              "  'recall': 0.09406952965235174,\n",
              "  'support': 489},\n",
              " 'accuracy': 0.5854444444444444,\n",
              " 'macro avg': {'f1-score': 0.3188453228266321,\n",
              "  'precision': 0.5139456430344242,\n",
              "  'recall': 0.3056813126139382,\n",
              "  'support': 9000},\n",
              " 'weighted avg': {'f1-score': 0.5262211314855397,\n",
              "  'precision': 0.5522228569925957,\n",
              "  'recall': 0.5854444444444444,\n",
              "  'support': 9000}}"
            ]
          },
          "metadata": {},
          "execution_count": 28
        }
      ],
      "source": [
        "from sklearn.metrics import accuracy_score\n",
        "from sklearn.metrics import classification_report\n",
        "from sklearn import svm\n",
        "svm_model = svm.SVC(kernel='linear')\n",
        "svm_model.fit(X_train, y_train)\n",
        "predicted = svm_model.predict(x_test)\n",
        "print(\"Accuracy score is {0}\".format(accuracy_score(y_test, predicted)))\n",
        "report = classification_report(y_test, predicted, output_dict=True)\n",
        "report\n"
      ]
    },
    {
      "cell_type": "markdown",
      "metadata": {
        "id": "RFWQ9sm1_t-C"
      },
      "source": [
        "# **Naive Bayes**"
      ]
    },
    {
      "cell_type": "code",
      "execution_count": 29,
      "metadata": {
        "id": "S-Pb85MfHdsG",
        "colab": {
          "base_uri": "https://localhost:8080/"
        },
        "outputId": "5068d0e9-3863-4e34-d3f2-33d59a0e1ea0"
      },
      "outputs": [
        {
          "output_type": "stream",
          "name": "stdout",
          "text": [
            "Accuracy score is 0.5717777777777778\n"
          ]
        },
        {
          "output_type": "execute_result",
          "data": {
            "text/plain": [
              "{'0': {'f1-score': 0.1201201201201201,\n",
              "  'precision': 0.4854368932038835,\n",
              "  'recall': 0.06854009595613433,\n",
              "  'support': 1459},\n",
              " '1': {'f1-score': 0.7233581164807931,\n",
              "  'precision': 0.578328173374613,\n",
              "  'recall': 0.9654744676452347,\n",
              "  'support': 4837},\n",
              " '2': {'f1-score': 0.27828143476547107,\n",
              "  'precision': 0.5160818713450293,\n",
              "  'recall': 0.19050188882892607,\n",
              "  'support': 1853},\n",
              " '3': {'f1-score': 0.01092896174863388,\n",
              "  'precision': 0.5,\n",
              "  'recall': 0.0055248618784530384,\n",
              "  'support': 362},\n",
              " '4': {'f1-score': 0.08076923076923077,\n",
              "  'precision': 0.6774193548387096,\n",
              "  'recall': 0.04294478527607362,\n",
              "  'support': 489},\n",
              " 'accuracy': 0.5717777777777778,\n",
              " 'macro avg': {'f1-score': 0.24269157277684977,\n",
              "  'precision': 0.5514532585524471,\n",
              "  'recall': 0.2545972199169644,\n",
              "  'support': 9000},\n",
              " 'weighted avg': {'f1-score': 0.47036071125471424,\n",
              "  'precision': 0.5526870637684375,\n",
              "  'recall': 0.5717777777777778,\n",
              "  'support': 9000}}"
            ]
          },
          "metadata": {},
          "execution_count": 29
        }
      ],
      "source": [
        "from sklearn import naive_bayes\n",
        "nb = naive_bayes.MultinomialNB()\n",
        "nb.fit(X_train, y_train)\n",
        "predicted_nb = nb.predict(x_test)\n",
        "print(\"Accuracy score is {0}\".format(accuracy_score(y_test, predicted_nb)))\n",
        "report_nb = classification_report(y_test, predicted_nb, output_dict=True)\n",
        "report_nb\n"
      ]
    },
    {
      "cell_type": "markdown",
      "metadata": {
        "id": "p4rG2biNTZUe"
      },
      "source": [
        "I have selected the Naive Bayes and SVM. Below are metrics of the two models -\n",
        "![image.png](data:image/png;base64,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)\n"
      ]
    },
    {
      "cell_type": "markdown",
      "metadata": {
        "id": "E5mmYIfN8eYV"
      },
      "source": [
        "# **Question 3: House price prediction**"
      ]
    },
    {
      "cell_type": "markdown",
      "metadata": {
        "id": "hsi2y4z88ngX"
      },
      "source": [
        "(40 points). You are required to build a **regression** model to predict the house price with 79 explanatory variables describing (almost) every aspect of residential homes. The purpose of this question is to practice regression analysis, an supervised learning model. The training data, testing data, and data description files can be download here: https://github.com/unt-iialab/info5731-spring2022/blob/main/assignments/assignment4-question3-data.zip. Here is an axample for implementation: https://towardsdatascience.com/linear-regression-in-python-predict-the-bay-areas-home-price-5c91c8378878. \n"
      ]
    },
    {
      "cell_type": "code",
      "execution_count": 30,
      "metadata": {
        "id": "kY3Q5OEm1xWt",
        "colab": {
          "base_uri": "https://localhost:8080/"
        },
        "outputId": "2fa757e3-0c73-4b29-ec36-810233de8b2d"
      },
      "outputs": [
        {
          "output_type": "stream",
          "name": "stdout",
          "text": [
            "--2022-05-13 00:49:24--  https://github.com/unt-iialab/info5731-spring2022/raw/main/assignments/assignment4-question3-data.zip\n",
            "Resolving github.com (github.com)... 140.82.121.4\n",
            "Connecting to github.com (github.com)|140.82.121.4|:443... connected.\n",
            "HTTP request sent, awaiting response... 302 Found\n",
            "Location: https://raw.githubusercontent.com/unt-iialab/info5731-spring2022/main/assignments/assignment4-question3-data.zip [following]\n",
            "--2022-05-13 00:49:24--  https://raw.githubusercontent.com/unt-iialab/info5731-spring2022/main/assignments/assignment4-question3-data.zip\n",
            "Resolving raw.githubusercontent.com (raw.githubusercontent.com)... 185.199.108.133, 185.199.109.133, 185.199.110.133, ...\n",
            "Connecting to raw.githubusercontent.com (raw.githubusercontent.com)|185.199.108.133|:443... connected.\n",
            "HTTP request sent, awaiting response... 200 OK\n",
            "Length: 166409 (163K) [application/zip]\n",
            "Saving to: ‘assignment4-question3-data.zip’\n",
            "\n",
            "assignment4-questio 100%[===================>] 162.51K  --.-KB/s    in 0.009s  \n",
            "\n",
            "2022-05-13 00:49:24 (18.0 MB/s) - ‘assignment4-question3-data.zip’ saved [166409/166409]\n",
            "\n",
            "Archive:  /content/assignment4-question3-data.zip\n",
            "  inflating: data_description.txt    \n",
            "  inflating: test.csv                \n",
            "  inflating: train.csv               \n"
          ]
        }
      ],
      "source": [
        "!wget https://github.com/unt-iialab/info5731-spring2022/raw/main/assignments/assignment4-question3-data.zip\n",
        "!unzip /content/assignment4-question3-data.zip\n"
      ]
    },
    {
      "cell_type": "markdown",
      "metadata": {
        "id": "GlZ_6fsl_yjp"
      },
      "source": [
        "# **Reading Data from Csv files**"
      ]
    },
    {
      "cell_type": "code",
      "execution_count": 31,
      "metadata": {
        "id": "XfvMKJjIXS5G"
      },
      "outputs": [],
      "source": [
        "train_dataset = pd.read_csv(\"/content/train.csv\")\n",
        "test_dataset = pd.read_csv(\"/content/test.csv\")\n"
      ]
    },
    {
      "cell_type": "markdown",
      "metadata": {
        "id": "aHh5id30_6LU"
      },
      "source": [
        "# **Getting statistics of the training data**"
      ]
    },
    {
      "cell_type": "code",
      "execution_count": 32,
      "metadata": {
        "id": "EL0fAYUAJTpY",
        "colab": {
          "base_uri": "https://localhost:8080/",
          "height": 350
        },
        "outputId": "db167c60-04e4-430c-92eb-2572dd2837bc"
      },
      "outputs": [
        {
          "output_type": "execute_result",
          "data": {
            "text/plain": [
              "                Id   MSSubClass  LotFrontage        LotArea  OverallQual  \\\n",
              "count  1460.000000  1460.000000  1201.000000    1460.000000  1460.000000   \n",
              "mean    730.500000    56.897260    70.049958   10516.828082     6.099315   \n",
              "std     421.610009    42.300571    24.284752    9981.264932     1.382997   \n",
              "min       1.000000    20.000000    21.000000    1300.000000     1.000000   \n",
              "25%     365.750000    20.000000    59.000000    7553.500000     5.000000   \n",
              "50%     730.500000    50.000000    69.000000    9478.500000     6.000000   \n",
              "75%    1095.250000    70.000000    80.000000   11601.500000     7.000000   \n",
              "max    1460.000000   190.000000   313.000000  215245.000000    10.000000   \n",
              "\n",
              "       OverallCond    YearBuilt  YearRemodAdd   MasVnrArea   BsmtFinSF1  ...  \\\n",
              "count  1460.000000  1460.000000   1460.000000  1452.000000  1460.000000  ...   \n",
              "mean      5.575342  1971.267808   1984.865753   103.685262   443.639726  ...   \n",
              "std       1.112799    30.202904     20.645407   181.066207   456.098091  ...   \n",
              "min       1.000000  1872.000000   1950.000000     0.000000     0.000000  ...   \n",
              "25%       5.000000  1954.000000   1967.000000     0.000000     0.000000  ...   \n",
              "50%       5.000000  1973.000000   1994.000000     0.000000   383.500000  ...   \n",
              "75%       6.000000  2000.000000   2004.000000   166.000000   712.250000  ...   \n",
              "max       9.000000  2010.000000   2010.000000  1600.000000  5644.000000  ...   \n",
              "\n",
              "        WoodDeckSF  OpenPorchSF  EnclosedPorch    3SsnPorch  ScreenPorch  \\\n",
              "count  1460.000000  1460.000000    1460.000000  1460.000000  1460.000000   \n",
              "mean     94.244521    46.660274      21.954110     3.409589    15.060959   \n",
              "std     125.338794    66.256028      61.119149    29.317331    55.757415   \n",
              "min       0.000000     0.000000       0.000000     0.000000     0.000000   \n",
              "25%       0.000000     0.000000       0.000000     0.000000     0.000000   \n",
              "50%       0.000000    25.000000       0.000000     0.000000     0.000000   \n",
              "75%     168.000000    68.000000       0.000000     0.000000     0.000000   \n",
              "max     857.000000   547.000000     552.000000   508.000000   480.000000   \n",
              "\n",
              "          PoolArea       MiscVal       MoSold       YrSold      SalePrice  \n",
              "count  1460.000000   1460.000000  1460.000000  1460.000000    1460.000000  \n",
              "mean      2.758904     43.489041     6.321918  2007.815753  180921.195890  \n",
              "std      40.177307    496.123024     2.703626     1.328095   79442.502883  \n",
              "min       0.000000      0.000000     1.000000  2006.000000   34900.000000  \n",
              "25%       0.000000      0.000000     5.000000  2007.000000  129975.000000  \n",
              "50%       0.000000      0.000000     6.000000  2008.000000  163000.000000  \n",
              "75%       0.000000      0.000000     8.000000  2009.000000  214000.000000  \n",
              "max     738.000000  15500.000000    12.000000  2010.000000  755000.000000  \n",
              "\n",
              "[8 rows x 38 columns]"
            ],
            "text/html": [
              "<div>\n",
              "<style scoped>\n",
              "    .dataframe tbody tr th:only-of-type {\n",
              "        vertical-align: middle;\n",
              "    }\n",
              "\n",
              "    .dataframe tbody tr th {\n",
              "        vertical-align: top;\n",
              "    }\n",
              "\n",
              "    .dataframe thead th {\n",
              "        text-align: right;\n",
              "    }\n",
              "</style>\n",
              "<table border=\"1\" class=\"dataframe\">\n",
              "  <thead>\n",
              "    <tr style=\"text-align: right;\">\n",
              "      <th></th>\n",
              "      <th>Id</th>\n",
              "      <th>MSSubClass</th>\n",
              "      <th>LotFrontage</th>\n",
              "      <th>LotArea</th>\n",
              "      <th>OverallQual</th>\n",
              "      <th>OverallCond</th>\n",
              "      <th>YearBuilt</th>\n",
              "      <th>YearRemodAdd</th>\n",
              "      <th>MasVnrArea</th>\n",
              "      <th>BsmtFinSF1</th>\n",
              "      <th>...</th>\n",
              "      <th>WoodDeckSF</th>\n",
              "      <th>OpenPorchSF</th>\n",
              "      <th>EnclosedPorch</th>\n",
              "      <th>3SsnPorch</th>\n",
              "      <th>ScreenPorch</th>\n",
              "      <th>PoolArea</th>\n",
              "      <th>MiscVal</th>\n",
              "      <th>MoSold</th>\n",
              "      <th>YrSold</th>\n",
              "      <th>SalePrice</th>\n",
              "    </tr>\n",
              "  </thead>\n",
              "  <tbody>\n",
              "    <tr>\n",
              "      <th>count</th>\n",
              "      <td>1460.000000</td>\n",
              "      <td>1460.000000</td>\n",
              "      <td>1201.000000</td>\n",
              "      <td>1460.000000</td>\n",
              "      <td>1460.000000</td>\n",
              "      <td>1460.000000</td>\n",
              "      <td>1460.000000</td>\n",
              "      <td>1460.000000</td>\n",
              "      <td>1452.000000</td>\n",
              "      <td>1460.000000</td>\n",
              "      <td>...</td>\n",
              "      <td>1460.000000</td>\n",
              "      <td>1460.000000</td>\n",
              "      <td>1460.000000</td>\n",
              "      <td>1460.000000</td>\n",
              "      <td>1460.000000</td>\n",
              "      <td>1460.000000</td>\n",
              "      <td>1460.000000</td>\n",
              "      <td>1460.000000</td>\n",
              "      <td>1460.000000</td>\n",
              "      <td>1460.000000</td>\n",
              "    </tr>\n",
              "    <tr>\n",
              "      <th>mean</th>\n",
              "      <td>730.500000</td>\n",
              "      <td>56.897260</td>\n",
              "      <td>70.049958</td>\n",
              "      <td>10516.828082</td>\n",
              "      <td>6.099315</td>\n",
              "      <td>5.575342</td>\n",
              "      <td>1971.267808</td>\n",
              "      <td>1984.865753</td>\n",
              "      <td>103.685262</td>\n",
              "      <td>443.639726</td>\n",
              "      <td>...</td>\n",
              "      <td>94.244521</td>\n",
              "      <td>46.660274</td>\n",
              "      <td>21.954110</td>\n",
              "      <td>3.409589</td>\n",
              "      <td>15.060959</td>\n",
              "      <td>2.758904</td>\n",
              "      <td>43.489041</td>\n",
              "      <td>6.321918</td>\n",
              "      <td>2007.815753</td>\n",
              "      <td>180921.195890</td>\n",
              "    </tr>\n",
              "    <tr>\n",
              "      <th>std</th>\n",
              "      <td>421.610009</td>\n",
              "      <td>42.300571</td>\n",
              "      <td>24.284752</td>\n",
              "      <td>9981.264932</td>\n",
              "      <td>1.382997</td>\n",
              "      <td>1.112799</td>\n",
              "      <td>30.202904</td>\n",
              "      <td>20.645407</td>\n",
              "      <td>181.066207</td>\n",
              "      <td>456.098091</td>\n",
              "      <td>...</td>\n",
              "      <td>125.338794</td>\n",
              "      <td>66.256028</td>\n",
              "      <td>61.119149</td>\n",
              "      <td>29.317331</td>\n",
              "      <td>55.757415</td>\n",
              "      <td>40.177307</td>\n",
              "      <td>496.123024</td>\n",
              "      <td>2.703626</td>\n",
              "      <td>1.328095</td>\n",
              "      <td>79442.502883</td>\n",
              "    </tr>\n",
              "    <tr>\n",
              "      <th>min</th>\n",
              "      <td>1.000000</td>\n",
              "      <td>20.000000</td>\n",
              "      <td>21.000000</td>\n",
              "      <td>1300.000000</td>\n",
              "      <td>1.000000</td>\n",
              "      <td>1.000000</td>\n",
              "      <td>1872.000000</td>\n",
              "      <td>1950.000000</td>\n",
              "      <td>0.000000</td>\n",
              "      <td>0.000000</td>\n",
              "      <td>...</td>\n",
              "      <td>0.000000</td>\n",
              "      <td>0.000000</td>\n",
              "      <td>0.000000</td>\n",
              "      <td>0.000000</td>\n",
              "      <td>0.000000</td>\n",
              "      <td>0.000000</td>\n",
              "      <td>0.000000</td>\n",
              "      <td>1.000000</td>\n",
              "      <td>2006.000000</td>\n",
              "      <td>34900.000000</td>\n",
              "    </tr>\n",
              "    <tr>\n",
              "      <th>25%</th>\n",
              "      <td>365.750000</td>\n",
              "      <td>20.000000</td>\n",
              "      <td>59.000000</td>\n",
              "      <td>7553.500000</td>\n",
              "      <td>5.000000</td>\n",
              "      <td>5.000000</td>\n",
              "      <td>1954.000000</td>\n",
              "      <td>1967.000000</td>\n",
              "      <td>0.000000</td>\n",
              "      <td>0.000000</td>\n",
              "      <td>...</td>\n",
              "      <td>0.000000</td>\n",
              "      <td>0.000000</td>\n",
              "      <td>0.000000</td>\n",
              "      <td>0.000000</td>\n",
              "      <td>0.000000</td>\n",
              "      <td>0.000000</td>\n",
              "      <td>0.000000</td>\n",
              "      <td>5.000000</td>\n",
              "      <td>2007.000000</td>\n",
              "      <td>129975.000000</td>\n",
              "    </tr>\n",
              "    <tr>\n",
              "      <th>50%</th>\n",
              "      <td>730.500000</td>\n",
              "      <td>50.000000</td>\n",
              "      <td>69.000000</td>\n",
              "      <td>9478.500000</td>\n",
              "      <td>6.000000</td>\n",
              "      <td>5.000000</td>\n",
              "      <td>1973.000000</td>\n",
              "      <td>1994.000000</td>\n",
              "      <td>0.000000</td>\n",
              "      <td>383.500000</td>\n",
              "      <td>...</td>\n",
              "      <td>0.000000</td>\n",
              "      <td>25.000000</td>\n",
              "      <td>0.000000</td>\n",
              "      <td>0.000000</td>\n",
              "      <td>0.000000</td>\n",
              "      <td>0.000000</td>\n",
              "      <td>0.000000</td>\n",
              "      <td>6.000000</td>\n",
              "      <td>2008.000000</td>\n",
              "      <td>163000.000000</td>\n",
              "    </tr>\n",
              "    <tr>\n",
              "      <th>75%</th>\n",
              "      <td>1095.250000</td>\n",
              "      <td>70.000000</td>\n",
              "      <td>80.000000</td>\n",
              "      <td>11601.500000</td>\n",
              "      <td>7.000000</td>\n",
              "      <td>6.000000</td>\n",
              "      <td>2000.000000</td>\n",
              "      <td>2004.000000</td>\n",
              "      <td>166.000000</td>\n",
              "      <td>712.250000</td>\n",
              "      <td>...</td>\n",
              "      <td>168.000000</td>\n",
              "      <td>68.000000</td>\n",
              "      <td>0.000000</td>\n",
              "      <td>0.000000</td>\n",
              "      <td>0.000000</td>\n",
              "      <td>0.000000</td>\n",
              "      <td>0.000000</td>\n",
              "      <td>8.000000</td>\n",
              "      <td>2009.000000</td>\n",
              "      <td>214000.000000</td>\n",
              "    </tr>\n",
              "    <tr>\n",
              "      <th>max</th>\n",
              "      <td>1460.000000</td>\n",
              "      <td>190.000000</td>\n",
              "      <td>313.000000</td>\n",
              "      <td>215245.000000</td>\n",
              "      <td>10.000000</td>\n",
              "      <td>9.000000</td>\n",
              "      <td>2010.000000</td>\n",
              "      <td>2010.000000</td>\n",
              "      <td>1600.000000</td>\n",
              "      <td>5644.000000</td>\n",
              "      <td>...</td>\n",
              "      <td>857.000000</td>\n",
              "      <td>547.000000</td>\n",
              "      <td>552.000000</td>\n",
              "      <td>508.000000</td>\n",
              "      <td>480.000000</td>\n",
              "      <td>738.000000</td>\n",
              "      <td>15500.000000</td>\n",
              "      <td>12.000000</td>\n",
              "      <td>2010.000000</td>\n",
              "      <td>755000.000000</td>\n",
              "    </tr>\n",
              "  </tbody>\n",
              "</table>\n",
              "<p>8 rows × 38 columns</p>\n",
              "</div>"
            ]
          },
          "metadata": {},
          "execution_count": 32
        }
      ],
      "source": [
        "train_dataset.describe()\n"
      ]
    },
    {
      "cell_type": "markdown",
      "metadata": {
        "id": "sduYsVP8ACi0"
      },
      "source": [
        "# **Checking for Null values**"
      ]
    },
    {
      "cell_type": "code",
      "execution_count": 33,
      "metadata": {
        "id": "Z7HRVrpTKyyU",
        "colab": {
          "base_uri": "https://localhost:8080/"
        },
        "outputId": "a01a2220-ddf2-43d5-b66d-0e6c31c8d546"
      },
      "outputs": [
        {
          "output_type": "stream",
          "name": "stdout",
          "text": [
            "Id                 0\n",
            "MSSubClass         0\n",
            "MSZoning           0\n",
            "LotFrontage      259\n",
            "LotArea            0\n",
            "                ... \n",
            "MoSold             0\n",
            "YrSold             0\n",
            "SaleType           0\n",
            "SaleCondition      0\n",
            "SalePrice          0\n",
            "Length: 81, dtype: int64\n"
          ]
        }
      ],
      "source": [
        "print(train_dataset.isnull().sum())\n"
      ]
    },
    {
      "cell_type": "code",
      "execution_count": 34,
      "metadata": {
        "id": "y2NP3tpRcFuj",
        "colab": {
          "base_uri": "https://localhost:8080/"
        },
        "outputId": "19fcbd70-30c4-4690-e740-3c8838f0cebd"
      },
      "outputs": [
        {
          "output_type": "stream",
          "name": "stdout",
          "text": [
            "Id                 0\n",
            "MSSubClass         0\n",
            "MSZoning           4\n",
            "LotFrontage      227\n",
            "LotArea            0\n",
            "                ... \n",
            "MiscVal            0\n",
            "MoSold             0\n",
            "YrSold             0\n",
            "SaleType           1\n",
            "SaleCondition      0\n",
            "Length: 80, dtype: int64\n"
          ]
        }
      ],
      "source": [
        "print(test_dataset.isnull().sum())\n"
      ]
    },
    {
      "cell_type": "markdown",
      "metadata": {
        "id": "JFVvJdQVAHFU"
      },
      "source": [
        "# **Exploratory Data Analysis**"
      ]
    },
    {
      "cell_type": "code",
      "execution_count": 35,
      "metadata": {
        "id": "Lkd7ArLZJWHS",
        "colab": {
          "base_uri": "https://localhost:8080/",
          "height": 843
        },
        "outputId": "8c446760-c773-4171-b91b-9442206b7511"
      },
      "outputs": [
        {
          "output_type": "display_data",
          "data": {
            "text/plain": [
              "<Figure size 1440x1080 with 42 Axes>"
            ],
            "image/png": "[encoded data removed]"
          },
          "metadata": {
            "needs_background": "light"
          }
        }
      ],
      "source": [
        "import matplotlib.pyplot as plt\n",
        "%matplotlib inline\n",
        "train_dataset.hist(bins=50, figsize=(20, 15))\n",
        "plt.savefig(\"attribute_histogram_plots\")\n",
        "plt.show()\n"
      ]
    },
    {
      "cell_type": "code",
      "execution_count": 36,
      "metadata": {
        "id": "mQaMF4QjJzKm",
        "colab": {
          "base_uri": "https://localhost:8080/"
        },
        "outputId": "4332be84-ad42-4aa8-cbf6-c88b286c4bac"
      },
      "outputs": [
        {
          "output_type": "execute_result",
          "data": {
            "text/plain": [
              "SalePrice        1.000000\n",
              "OverallQual      0.790982\n",
              "GrLivArea        0.708624\n",
              "GarageCars       0.640409\n",
              "GarageArea       0.623431\n",
              "TotalBsmtSF      0.613581\n",
              "1stFlrSF         0.605852\n",
              "FullBath         0.560664\n",
              "TotRmsAbvGrd     0.533723\n",
              "YearBuilt        0.522897\n",
              "YearRemodAdd     0.507101\n",
              "GarageYrBlt      0.486362\n",
              "MasVnrArea       0.477493\n",
              "Fireplaces       0.466929\n",
              "BsmtFinSF1       0.386420\n",
              "LotFrontage      0.351799\n",
              "WoodDeckSF       0.324413\n",
              "2ndFlrSF         0.319334\n",
              "OpenPorchSF      0.315856\n",
              "HalfBath         0.284108\n",
              "LotArea          0.263843\n",
              "BsmtFullBath     0.227122\n",
              "BsmtUnfSF        0.214479\n",
              "BedroomAbvGr     0.168213\n",
              "ScreenPorch      0.111447\n",
              "PoolArea         0.092404\n",
              "MoSold           0.046432\n",
              "3SsnPorch        0.044584\n",
              "BsmtFinSF2      -0.011378\n",
              "BsmtHalfBath    -0.016844\n",
              "MiscVal         -0.021190\n",
              "Id              -0.021917\n",
              "LowQualFinSF    -0.025606\n",
              "YrSold          -0.028923\n",
              "OverallCond     -0.077856\n",
              "MSSubClass      -0.084284\n",
              "EnclosedPorch   -0.128578\n",
              "KitchenAbvGr    -0.135907\n",
              "Name: SalePrice, dtype: float64"
            ]
          },
          "metadata": {},
          "execution_count": 36
        }
      ],
      "source": [
        "corr_matrix = train_dataset.corr()\n",
        "corr_matrix[\"SalePrice\"].sort_values(ascending=False)\n"
      ]
    },
    {
      "cell_type": "code",
      "execution_count": 37,
      "metadata": {
        "id": "My8okJP_LBcQ",
        "colab": {
          "base_uri": "https://localhost:8080/",
          "height": 296
        },
        "outputId": "cd824409-2af7-448d-8e33-8e06f8bfdb5b"
      },
      "outputs": [
        {
          "output_type": "execute_result",
          "data": {
            "text/plain": [
              "<matplotlib.axes._subplots.AxesSubplot at 0x7fb9d947af10>"
            ]
          },
          "metadata": {},
          "execution_count": 37
        },
        {
          "output_type": "display_data",
          "data": {
            "text/plain": [
              "<Figure size 432x288 with 1 Axes>"
            ],
            "image/png": "[encoded data removed]"
          },
          "metadata": {
            "needs_background": "light"
          }
        }
      ],
      "source": [
        "train_dataset.plot(kind=\"scatter\", x=\"OverallQual\", y=\"SalePrice\", alpha=0.5)\n"
      ]
    },
    {
      "cell_type": "code",
      "execution_count": 38,
      "metadata": {
        "id": "zk5Gwsd5LtPM",
        "colab": {
          "base_uri": "https://localhost:8080/",
          "height": 296
        },
        "outputId": "e49da709-5b07-40c3-a695-19ac37f4247c"
      },
      "outputs": [
        {
          "output_type": "execute_result",
          "data": {
            "text/plain": [
              "<matplotlib.axes._subplots.AxesSubplot at 0x7fb9d84a0ad0>"
            ]
          },
          "metadata": {},
          "execution_count": 38
        },
        {
          "output_type": "display_data",
          "data": {
            "text/plain": [
              "<Figure size 432x288 with 1 Axes>"
            ],
            "image/png": "[encoded data removed]"
          },
          "metadata": {
            "needs_background": "light"
          }
        }
      ],
      "source": [
        "train_dataset.plot(kind=\"scatter\", x=\"GrLivArea\", y=\"SalePrice\", alpha=0.5)\n"
      ]
    },
    {
      "cell_type": "code",
      "execution_count": 39,
      "metadata": {
        "id": "wEoUxS2nMulu",
        "colab": {
          "base_uri": "https://localhost:8080/",
          "height": 296
        },
        "outputId": "23ddb450-385a-4b66-b537-72e30f495171"
      },
      "outputs": [
        {
          "output_type": "execute_result",
          "data": {
            "text/plain": [
              "<matplotlib.axes._subplots.AxesSubplot at 0x7fb9d850a710>"
            ]
          },
          "metadata": {},
          "execution_count": 39
        },
        {
          "output_type": "display_data",
          "data": {
            "text/plain": [
              "<Figure size 432x288 with 1 Axes>"
            ],
            "image/png": "[encoded data removed]"
          },
          "metadata": {
            "needs_background": "light"
          }
        }
      ],
      "source": [
        "train_dataset.plot(kind=\"scatter\", x=\"GarageCars\", y=\"SalePrice\", alpha=0.5)\n"
      ]
    },
    {
      "cell_type": "code",
      "execution_count": 40,
      "metadata": {
        "id": "sRkhhQMPM9oR",
        "colab": {
          "base_uri": "https://localhost:8080/",
          "height": 282
        },
        "outputId": "8a411fd8-997a-4dd8-8d30-77a37292d009"
      },
      "outputs": [
        {
          "output_type": "execute_result",
          "data": {
            "text/plain": [
              "<matplotlib.axes._subplots.AxesSubplot at 0x7fb9e26ccb90>"
            ]
          },
          "metadata": {},
          "execution_count": 40
        },
        {
          "output_type": "display_data",
          "data": {
            "text/plain": [
              "<Figure size 432x288 with 1 Axes>"
            ],
            "image/png": "[encoded data removed]"
          },
          "metadata": {
            "needs_background": "light"
          }
        }
      ],
      "source": [
        "train_dataset.boxplot(\n",
        "    column=['OverallQual', 'GrLivArea', 'GarageCars', 'GarageArea'])\n"
      ]
    },
    {
      "cell_type": "code",
      "execution_count": 41,
      "metadata": {
        "id": "B7-u_lUPPPhi",
        "colab": {
          "base_uri": "https://localhost:8080/",
          "height": 282
        },
        "outputId": "4329c5b9-e0c1-4987-8b81-1a7867566d6a"
      },
      "outputs": [
        {
          "output_type": "execute_result",
          "data": {
            "text/plain": [
              "<matplotlib.axes._subplots.AxesSubplot at 0x7fb9d9129310>"
            ]
          },
          "metadata": {},
          "execution_count": 41
        },
        {
          "output_type": "display_data",
          "data": {
            "text/plain": [
              "<Figure size 432x288 with 1 Axes>"
            ],
            "image/png": "[encoded data removed]"
          },
          "metadata": {
            "needs_background": "light"
          }
        }
      ],
      "source": [
        "train_dataset.boxplot(\n",
        "    column=['TotalBsmtSF', '1stFlrSF', 'FullBath', 'SalePrice'])\n"
      ]
    },
    {
      "cell_type": "code",
      "execution_count": 42,
      "metadata": {
        "id": "FopLo6RnPazl",
        "colab": {
          "base_uri": "https://localhost:8080/"
        },
        "outputId": "9a6249e8-389e-4ca3-b996-e08d84baebd3"
      },
      "outputs": [
        {
          "output_type": "stream",
          "name": "stderr",
          "text": [
            "/usr/local/lib/python3.7/dist-packages/ipykernel_launcher.py:1: FutureWarning: Dropping of nuisance columns in DataFrame reductions (with 'numeric_only=None') is deprecated; in a future version this will raise TypeError.  Select only valid columns before calling the reduction.\n",
            "  \"\"\"Entry point for launching an IPython kernel.\n",
            "/usr/local/lib/python3.7/dist-packages/ipykernel_launcher.py:2: FutureWarning: Dropping of nuisance columns in DataFrame reductions (with 'numeric_only=None') is deprecated; in a future version this will raise TypeError.  Select only valid columns before calling the reduction.\n",
            "  \n"
          ]
        }
      ],
      "source": [
        "train_dataset.fillna(train_dataset.mean(), inplace=True)\n",
        "test_dataset.fillna(test_dataset.mean(), inplace=True)\n"
      ]
    },
    {
      "cell_type": "code",
      "execution_count": 43,
      "metadata": {
        "id": "WT_VSUJKPwbX",
        "colab": {
          "base_uri": "https://localhost:8080/"
        },
        "outputId": "20ea9720-1aa4-40bf-b474-344a279178af"
      },
      "outputs": [
        {
          "output_type": "stream",
          "name": "stdout",
          "text": [
            "Id               0\n",
            "MSSubClass       0\n",
            "MSZoning         0\n",
            "LotFrontage      0\n",
            "LotArea          0\n",
            "                ..\n",
            "MoSold           0\n",
            "YrSold           0\n",
            "SaleType         0\n",
            "SaleCondition    0\n",
            "SalePrice        0\n",
            "Length: 81, dtype: int64\n"
          ]
        }
      ],
      "source": [
        "print(train_dataset.isnull().sum())\n"
      ]
    },
    {
      "cell_type": "code",
      "execution_count": 44,
      "metadata": {
        "id": "3W7fkQIWcrgv",
        "colab": {
          "base_uri": "https://localhost:8080/"
        },
        "outputId": "b87d5160-33c5-4923-8f37-c1ff85d96f6d"
      },
      "outputs": [
        {
          "output_type": "stream",
          "name": "stdout",
          "text": [
            "Id               0\n",
            "MSSubClass       0\n",
            "MSZoning         4\n",
            "LotFrontage      0\n",
            "LotArea          0\n",
            "                ..\n",
            "MiscVal          0\n",
            "MoSold           0\n",
            "YrSold           0\n",
            "SaleType         1\n",
            "SaleCondition    0\n",
            "Length: 80, dtype: int64\n"
          ]
        }
      ],
      "source": [
        "print(test_dataset.isnull().sum())\n"
      ]
    },
    {
      "cell_type": "markdown",
      "metadata": {
        "id": "PtvTgf1GAo-V"
      },
      "source": [
        "# **Data Encoding**"
      ]
    },
    {
      "cell_type": "code",
      "execution_count": 45,
      "metadata": {
        "id": "b7J80BgsP2MH"
      },
      "outputs": [],
      "source": [
        "from sklearn.preprocessing import LabelEncoder\n",
        "columns = ('GarageCond', 'LandContour', 'RoofStyle', 'RoofMatl', 'Heating', 'MiscFeature', 'SaleType', 'GarageType', 'Electrical', 'SaleCondition', 'Foundation', 'Exterior1st', 'Exterior2nd', 'MasVnrType', 'FireplaceQu', 'LotConfig', 'Neighborhood', 'Condition1', 'Condition2', 'Utilities', 'BldgType', 'HouseStyle',\n",
        "           'PoolQC', 'BsmtQual', 'BsmtCond', 'GarageQual', 'BsmtExposure', 'ExterQual', 'ExterCond', 'HeatingQC', 'KitchenQual', 'BsmtFinType1', 'BsmtFinType2', 'Functional', 'Fence', 'GarageFinish', 'LandSlope', 'LotShape', 'PavedDrive', 'Street', 'Alley', 'CentralAir', 'MSSubClass', 'OverallCond', 'YrSold', 'MoSold', 'MSZoning')\n",
        "for column in columns:\n",
        "    encoder = LabelEncoder()\n",
        "    encoder.fit(list(train_dataset[column].values))\n",
        "    train_dataset[column] = encoder.transform(\n",
        "        list(train_dataset[column].values))\n"
      ]
    },
    {
      "cell_type": "code",
      "execution_count": 46,
      "metadata": {
        "id": "YeQzXF1Mc8N5"
      },
      "outputs": [],
      "source": [
        "for column in columns:\n",
        "    encoder_test = LabelEncoder()\n",
        "    encoder_test.fit(list(test_dataset[column].values))\n",
        "    test_dataset[column] = encoder_test.transform(\n",
        "        list(test_dataset[column].values))\n"
      ]
    },
    {
      "cell_type": "code",
      "execution_count": 47,
      "metadata": {
        "id": "ZrmFERpmQOII"
      },
      "outputs": [],
      "source": [
        "x_values = train_dataset[train_dataset.columns[:80]]\n"
      ]
    },
    {
      "cell_type": "code",
      "execution_count": 48,
      "metadata": {
        "id": "RXAGLfHedjiG"
      },
      "outputs": [],
      "source": [
        "x_test_values = test_dataset[test_dataset.columns[:80]]\n"
      ]
    },
    {
      "cell_type": "code",
      "execution_count": 49,
      "metadata": {
        "id": "wfM8HoMGRf0P"
      },
      "outputs": [],
      "source": [
        "y_values = train_dataset['SalePrice']\n"
      ]
    },
    {
      "cell_type": "markdown",
      "metadata": {
        "id": "qw3TX03QANUM"
      },
      "source": [
        "# **Training the Regression Model**"
      ]
    },
    {
      "cell_type": "code",
      "execution_count": 50,
      "metadata": {
        "id": "PXGXPNgVRipY",
        "colab": {
          "base_uri": "https://localhost:8080/"
        },
        "outputId": "6bb6ac42-52b2-4ad6-a4cc-7b5f53e156d8"
      },
      "outputs": [
        {
          "output_type": "execute_result",
          "data": {
            "text/plain": [
              "0.8548395143943592"
            ]
          },
          "metadata": {},
          "execution_count": 50
        }
      ],
      "source": [
        "from sklearn.linear_model import LinearRegression\n",
        "reg_model = LinearRegression()\n",
        "reg_model.fit(x_values, y_values)\n",
        "reg_model.score(x_values, y_values)\n"
      ]
    },
    {
      "cell_type": "markdown",
      "metadata": {
        "id": "MItRRng7ASW-"
      },
      "source": [
        "# **Predicting the House Sale Price**"
      ]
    },
    {
      "cell_type": "code",
      "execution_count": 51,
      "metadata": {
        "id": "eN0oOAvqTQkJ"
      },
      "outputs": [],
      "source": [
        "predicted = reg_model.predict(x_test_values)\n"
      ]
    },
    {
      "cell_type": "code",
      "execution_count": 52,
      "metadata": {
        "id": "wDYIu4FCdxEG",
        "colab": {
          "base_uri": "https://localhost:8080/",
          "height": 424
        },
        "outputId": "5e1f41ab-c04a-4394-dc22-632ed261f71c"
      },
      "outputs": [
        {
          "output_type": "execute_result",
          "data": {
            "text/plain": [
              "      Predicted House Price Values\n",
              "0                    184936.609022\n",
              "1                    239791.092108\n",
              "2                    245071.890618\n",
              "3                    263617.412688\n",
              "4                    263185.252850\n",
              "...                            ...\n",
              "1454                 152148.218848\n",
              "1455                 138020.527442\n",
              "1456                 225624.228917\n",
              "1457                 196336.422912\n",
              "1458                 318680.747439\n",
              "\n",
              "[1459 rows x 1 columns]"
            ],
            "text/html": [
              "<div>\n",
              "<style scoped>\n",
              "    .dataframe tbody tr th:only-of-type {\n",
              "        vertical-align: middle;\n",
              "    }\n",
              "\n",
              "    .dataframe tbody tr th {\n",
              "        vertical-align: top;\n",
              "    }\n",
              "\n",
              "    .dataframe thead th {\n",
              "        text-align: right;\n",
              "    }\n",
              "</style>\n",
              "<table border=\"1\" class=\"dataframe\">\n",
              "  <thead>\n",
              "    <tr style=\"text-align: right;\">\n",
              "      <th></th>\n",
              "      <th>Predicted House Price Values</th>\n",
              "    </tr>\n",
              "  </thead>\n",
              "  <tbody>\n",
              "    <tr>\n",
              "      <th>0</th>\n",
              "      <td>184936.609022</td>\n",
              "    </tr>\n",
              "    <tr>\n",
              "      <th>1</th>\n",
              "      <td>239791.092108</td>\n",
              "    </tr>\n",
              "    <tr>\n",
              "      <th>2</th>\n",
              "      <td>245071.890618</td>\n",
              "    </tr>\n",
              "    <tr>\n",
              "      <th>3</th>\n",
              "      <td>263617.412688</td>\n",
              "    </tr>\n",
              "    <tr>\n",
              "      <th>4</th>\n",
              "      <td>263185.252850</td>\n",
              "    </tr>\n",
              "    <tr>\n",
              "      <th>...</th>\n",
              "      <td>...</td>\n",
              "    </tr>\n",
              "    <tr>\n",
              "      <th>1454</th>\n",
              "      <td>152148.218848</td>\n",
              "    </tr>\n",
              "    <tr>\n",
              "      <th>1455</th>\n",
              "      <td>138020.527442</td>\n",
              "    </tr>\n",
              "    <tr>\n",
              "      <th>1456</th>\n",
              "      <td>225624.228917</td>\n",
              "    </tr>\n",
              "    <tr>\n",
              "      <th>1457</th>\n",
              "      <td>196336.422912</td>\n",
              "    </tr>\n",
              "    <tr>\n",
              "      <th>1458</th>\n",
              "      <td>318680.747439</td>\n",
              "    </tr>\n",
              "  </tbody>\n",
              "</table>\n",
              "<p>1459 rows × 1 columns</p>\n",
              "</div>"
            ]
          },
          "metadata": {},
          "execution_count": 52
        }
      ],
      "source": [
        "pd.DataFrame({'Predicted House Price Values': predicted})\n"
      ]
    },
    {
      "cell_type": "code",
      "source": [
        ""
      ],
      "metadata": {
        "id": "ZCeFfrzjc3MD"
      },
      "execution_count": 52,
      "outputs": []
    }
  ],
  "metadata": {
    "colab": {
      "collapsed_sections": [],
      "name": "INFO5731_Assignment_Four.ipynb",
      "provenance": []
    },
    "kernelspec": {
      "display_name": "Python 3",
      "language": "python",
      "name": "python3"
    },
    "language_info": {
      "codemirror_mode": {
        "name": "ipython",
        "version": 3
      },
      "file_extension": ".py",
      "mimetype": "text/x-python",
      "name": "python",
      "nbconvert_exporter": "python",
      "pygments_lexer": "ipython3",
      "version": "3.7.4"
    }
  },
  "nbformat": 4,
  "nbformat_minor": 0
}