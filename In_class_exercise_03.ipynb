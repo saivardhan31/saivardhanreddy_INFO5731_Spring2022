{
  "cells": [
    {
      "cell_type": "markdown",
      "metadata": {
        "id": "TArnKtuWEHwZ"
      },
      "source": [
        "## The third In-class-exercise (2/22/2022, 40 points in total)"
      ]
    },
    {
      "cell_type": "markdown",
      "metadata": {
        "id": "oMRWQRY6EHwa"
      },
      "source": [
        "The purpose of this exercise is to understand text representation."
      ]
    },
    {
      "cell_type": "markdown",
      "metadata": {
        "id": "RGaLG9qoEHwa"
      },
      "source": [
        "Question 1 (10 points): Describe an interesting text classification or text mining task and explain what kind of features might be useful for you to build the machine learning model. List your features and explain why these features might be helpful. You need to list at least five different types of features."
      ]
    },
    {
      "cell_type": "code",
      "execution_count": 1,
      "metadata": {
        "colab": {
          "base_uri": "https://localhost:8080/",
          "height": 35
        },
        "id": "ywaWylMCEHwa",
        "outputId": "ca6a88c6-97bc-45a7-bcbb-58cccba0783d"
      },
      "outputs": [
        {
          "data": {
            "application/vnd.google.colaboratory.intrinsic+json": {
              "type": "string"
            },
            "text/plain": [
              "'\\nPlease write you answer here:\\n\\n\\n\\n\\n\\n'"
            ]
          },
          "execution_count": 1,
          "metadata": {},
          "output_type": "execute_result"
        }
      ],
      "source": [
        "# Your answer here (no code for this question, write down your answer as detail as possible for the above questions):\n",
        "\n",
        "'''\n",
        "Please write you answer here:\n",
        "\n",
        "One of the most popular text classification applications is sentiment analysis, a type of classifier used for \n",
        "understanding if a given text is talking positively or negatively about a given subject.\n",
        "\n",
        "Converting any website data or material into a usable format is one of the more exciting text mining chores.\n",
        "deleting stopwords helps to eliminate unnecessary words; word frequency - the TF-IDF method is used to determine word \n",
        "frequency; it basically specifies which word is most frequently used in that set of data; number of sentences - this \n",
        "determines the number of sentences delivered; split - split is one of the most important features in \n",
        "machine learning models; it is the first stage in the data processing process. \n",
        "The numeric attributes are called features, and this process of extracting numeric attributes from text is called \n",
        "feature extraction. There are multiple ways in which you can perform feature extraction for text. Here are two methods\n",
        "Term frequency \n",
        "TF-IDF.\n",
        "If your task is to take a piece of text and represent it using numeric attributes \n",
        "You create a list representing the universe of all words that can appear in any text.\n",
        "If n is the number of such words, then this list would have n elements, each representing one word.\n",
        "the method of representation, where we have the frequencies of the words in the text as the features is called \n",
        "the term frequency representation. In this method, information about the order in which the words occur in the text \n",
        "is completely lost. Basically it treats each text as a bag of words regardless of the order in which those words appear \n",
        "in the text. That's why this type of representation is said to use the Bag of Words Model.\n",
        "Sometimes within a sentence, some words are more important than other words.\n",
        "Words which occur more rarely in general have a bigger impact on the sentence itself than words which occur \n",
        "in common across all sentences. The rarer a word is the more clearly that word can help differentiate a piece of text from other texts. \n",
        "We basically want to weight the term frequencies to take into account the rarity of a word.\n",
        "From a large body of articles or documents, if We have a tuple of word frequencies, weight each word's \n",
        "frequency by the inverse of the number of documents the word appears in.\n",
        "\n",
        "Other methods I can think of is\n",
        "N-grams - This term refers to a group of words that are used together to help understand the context and comparable \n",
        "concepts in a document. and\n",
        "\n",
        "Named entity recognition - This technique is used to classify data into pre-defined categories, and it may be used\n",
        "to solve a variety of real-world issues, such as extracting a specific category from a document.\n",
        "\n",
        "\n",
        "\n",
        "\n",
        "'''"
      ]
    },
    {
      "cell_type": "markdown",
      "metadata": {
        "id": "wRpK3jYXEHwb"
      },
      "source": [
        "Question 2 (20 points): Write python code to extract these features you discussed above. You can collect a few sample text data for the feature extraction. "
      ]
    },
    {
      "cell_type": "code",
      "execution_count": null,
      "metadata": {},
      "outputs": [
        {
          "data": {
            "text/html": [
              "<div>\n",
              "<style scoped>\n",
              "    .dataframe tbody tr th:only-of-type {\n",
              "        vertical-align: middle;\n",
              "    }\n",
              "\n",
              "    .dataframe tbody tr th {\n",
              "        vertical-align: top;\n",
              "    }\n",
              "\n",
              "    .dataframe thead th {\n",
              "        text-align: right;\n",
              "    }\n",
              "</style>\n",
              "<table border=\"1\" class=\"dataframe\">\n",
              "  <thead>\n",
              "    <tr style=\"text-align: right;\">\n",
              "      <th></th>\n",
              "      <th>col</th>\n",
              "    </tr>\n",
              "  </thead>\n",
              "  <tbody>\n",
              "    <tr>\n",
              "      <th>0</th>\n",
              "      <td>Together with her husband Pierre, she was awar...</td>\n",
              "    </tr>\n",
              "    <tr>\n",
              "      <th>1</th>\n",
              "      <td>Marie Sklodowska was born in Warsaw on 7 Novem...</td>\n",
              "    </tr>\n",
              "    <tr>\n",
              "      <th>2</th>\n",
              "      <td>In 1891, she went to Paris to study physics an...</td>\n",
              "    </tr>\n",
              "    <tr>\n",
              "      <th>3</th>\n",
              "      <td>They were married in 1895.</td>\n",
              "    </tr>\n",
              "    <tr>\n",
              "      <th>4</th>\n",
              "      <td>The Curies worked together investigating radio...</td>\n",
              "    </tr>\n",
              "    <tr>\n",
              "      <th>5</th>\n",
              "      <td>In July 1898, the Curies announced the discove...</td>\n",
              "    </tr>\n",
              "    <tr>\n",
              "      <th>6</th>\n",
              "      <td>At the end of the year, they announced the dis...</td>\n",
              "    </tr>\n",
              "    <tr>\n",
              "      <th>7</th>\n",
              "      <td>The Curies, along with Becquerel, were awarded...</td>\n",
              "    </tr>\n",
              "    <tr>\n",
              "      <th>8</th>\n",
              "      <td>Pierre's life was cut short in 1906 when he wa...</td>\n",
              "    </tr>\n",
              "    <tr>\n",
              "      <th>9</th>\n",
              "      <td>Marie took over his teaching post, becoming th...</td>\n",
              "    </tr>\n",
              "    <tr>\n",
              "      <th>10</th>\n",
              "      <td>She received a second Nobel Prize, for Chemist...</td>\n",
              "    </tr>\n",
              "    <tr>\n",
              "      <th>11</th>\n",
              "      <td>The Curie's research was crucial in the develo...</td>\n",
              "    </tr>\n",
              "    <tr>\n",
              "      <th>12</th>\n",
              "      <td>During World War One Curie helped to equip amb...</td>\n",
              "    </tr>\n",
              "    <tr>\n",
              "      <th>13</th>\n",
              "      <td>The International Red Cross made her head of i...</td>\n",
              "    </tr>\n",
              "    <tr>\n",
              "      <th>14</th>\n",
              "      <td>Despite her success, Marie continued to face g...</td>\n",
              "    </tr>\n",
              "    <tr>\n",
              "      <th>15</th>\n",
              "      <td>By the late 1920s her health was beginning to ...</td>\n",
              "    </tr>\n",
              "    <tr>\n",
              "      <th>16</th>\n",
              "      <td>She died on 4 July 1934 from leukaemia, caused...</td>\n",
              "    </tr>\n",
              "    <tr>\n",
              "      <th>17</th>\n",
              "      <td>The Curies' eldest daughter Irene was herself ...</td>\n",
              "    </tr>\n",
              "  </tbody>\n",
              "</table>\n",
              "</div>"
            ],
            "text/plain": [
              "                                                  col\n",
              "0   Together with her husband Pierre, she was awar...\n",
              "1   Marie Sklodowska was born in Warsaw on 7 Novem...\n",
              "2   In 1891, she went to Paris to study physics an...\n",
              "3                          They were married in 1895.\n",
              "4   The Curies worked together investigating radio...\n",
              "5   In July 1898, the Curies announced the discove...\n",
              "6   At the end of the year, they announced the dis...\n",
              "7   The Curies, along with Becquerel, were awarded...\n",
              "8   Pierre's life was cut short in 1906 when he wa...\n",
              "9   Marie took over his teaching post, becoming th...\n",
              "10  She received a second Nobel Prize, for Chemist...\n",
              "11  The Curie's research was crucial in the develo...\n",
              "12  During World War One Curie helped to equip amb...\n",
              "13  The International Red Cross made her head of i...\n",
              "14  Despite her success, Marie continued to face g...\n",
              "15  By the late 1920s her health was beginning to ...\n",
              "16  She died on 4 July 1934 from leukaemia, caused...\n",
              "17  The Curies' eldest daughter Irene was herself ..."
            ]
          },
          "metadata": {},
          "output_type": "display_data"
        }
      ],
      "source": [
        "# You code here (Please add comments in the code):\n",
        "import numpy as np\n",
        "import pandas as pd\n",
        "import warnings\n",
        "warnings.filterwarnings(\"ignore\")\n",
        "biographytext = pd.read_csv('biography.txt',sep='\\t\\n')\n",
        "biographytext.columns=['col']\n",
        "data=biographytext\n",
        "data\n"
      ]
    },
    {
      "cell_type": "code",
      "execution_count": null,
      "metadata": {},
      "outputs": [
        {
          "data": {
            "text/html": [
              "<div>\n",
              "<style scoped>\n",
              "    .dataframe tbody tr th:only-of-type {\n",
              "        vertical-align: middle;\n",
              "    }\n",
              "\n",
              "    .dataframe tbody tr th {\n",
              "        vertical-align: top;\n",
              "    }\n",
              "\n",
              "    .dataframe thead th {\n",
              "        text-align: right;\n",
              "    }\n",
              "</style>\n",
              "<table border=\"1\" class=\"dataframe\">\n",
              "  <thead>\n",
              "    <tr style=\"text-align: right;\">\n",
              "      <th></th>\n",
              "      <th>words</th>\n",
              "      <th>termfrequency</th>\n",
              "      <th>inversedocfreq</th>\n",
              "      <th>tfidf</th>\n",
              "    </tr>\n",
              "  </thead>\n",
              "  <tbody>\n",
              "    <tr>\n",
              "      <th>0</th>\n",
              "      <td>in</td>\n",
              "      <td>6.0</td>\n",
              "      <td>0.251314</td>\n",
              "      <td>1.507887</td>\n",
              "    </tr>\n",
              "    <tr>\n",
              "      <th>1</th>\n",
              "      <td>she</td>\n",
              "      <td>4.0</td>\n",
              "      <td>1.280934</td>\n",
              "      <td>5.123735</td>\n",
              "    </tr>\n",
              "    <tr>\n",
              "      <th>2</th>\n",
              "      <td>with</td>\n",
              "      <td>2.0</td>\n",
              "      <td>1.791759</td>\n",
              "      <td>3.583519</td>\n",
              "    </tr>\n",
              "    <tr>\n",
              "      <th>3</th>\n",
              "      <td>was</td>\n",
              "      <td>4.0</td>\n",
              "      <td>1.098612</td>\n",
              "      <td>4.394449</td>\n",
              "    </tr>\n",
              "    <tr>\n",
              "      <th>4</th>\n",
              "      <td>her</td>\n",
              "      <td>1.0</td>\n",
              "      <td>0.405465</td>\n",
              "      <td>0.405465</td>\n",
              "    </tr>\n",
              "    <tr>\n",
              "      <th>...</th>\n",
              "      <td>...</td>\n",
              "      <td>...</td>\n",
              "      <td>...</td>\n",
              "      <td>...</td>\n",
              "    </tr>\n",
              "    <tr>\n",
              "      <th>107</th>\n",
              "      <td>devoted</td>\n",
              "      <td>1.0</td>\n",
              "      <td>2.890372</td>\n",
              "      <td>2.890372</td>\n",
              "    </tr>\n",
              "    <tr>\n",
              "      <th>108</th>\n",
              "      <td>took</td>\n",
              "      <td>1.0</td>\n",
              "      <td>2.890372</td>\n",
              "      <td>2.890372</td>\n",
              "    </tr>\n",
              "    <tr>\n",
              "      <th>109</th>\n",
              "      <td>begun</td>\n",
              "      <td>1.0</td>\n",
              "      <td>2.890372</td>\n",
              "      <td>2.890372</td>\n",
              "    </tr>\n",
              "    <tr>\n",
              "      <th>110</th>\n",
              "      <td>teach</td>\n",
              "      <td>1.0</td>\n",
              "      <td>2.197225</td>\n",
              "      <td>2.197225</td>\n",
              "    </tr>\n",
              "    <tr>\n",
              "      <th>111</th>\n",
              "      <td>herself</td>\n",
              "      <td>1.0</td>\n",
              "      <td>1.791759</td>\n",
              "      <td>1.791759</td>\n",
              "    </tr>\n",
              "  </tbody>\n",
              "</table>\n",
              "<p>112 rows × 4 columns</p>\n",
              "</div>"
            ],
            "text/plain": [
              "       words  termfrequency  inversedocfreq     tfidf\n",
              "0         in            6.0        0.251314  1.507887\n",
              "1        she            4.0        1.280934  5.123735\n",
              "2       with            2.0        1.791759  3.583519\n",
              "3        was            4.0        1.098612  4.394449\n",
              "4        her            1.0        0.405465  0.405465\n",
              "..       ...            ...             ...       ...\n",
              "107  devoted            1.0        2.890372  2.890372\n",
              "108     took            1.0        2.890372  2.890372\n",
              "109    begun            1.0        2.890372  2.890372\n",
              "110    teach            1.0        2.197225  2.197225\n",
              "111  herself            1.0        1.791759  1.791759\n",
              "\n",
              "[112 rows x 4 columns]"
            ]
          },
          "metadata": {},
          "output_type": "display_data"
        }
      ],
      "source": [
        "# 1.Term Freqency\n",
        "\n",
        "termfrequency = (biographytext['col'][0:10]).apply(lambda x: pd.value_counts(x.split(\" \"))).sum(axis = 0).reset_index()\n",
        "termfrequency.columns = ['words','termfrequency']\n",
        "termfrequency\n",
        "\n",
        "# 2.Inverse Document Frequency\n",
        "# enumerating the term frequency of words from above to solve inverse document frequency\n",
        "for i,word in enumerate(termfrequency['words']):\n",
        "    termfrequency.loc[i,'inversedocfreq'] = np.log(biographytext.shape[0]/len(biographytext[biographytext['col'].str.contains(word)]))\n",
        "termfrequency\n",
        "\n",
        "# Term Frequency – Inverse Document Frequency (TF-IDF)\n",
        "termfrequency['tfidf'] = termfrequency['termfrequency'] * termfrequency['inversedocfreq']\n",
        "termfrequency"
      ]
    },
    {
      "cell_type": "code",
      "execution_count": null,
      "metadata": {},
      "outputs": [
        {
          "name": "stdout",
          "output_type": "stream",
          "text": [
            "Printing unigram(The Curies, along with Becquerel, were awarded the Nobel Prize for Physics in 1903.,)                                                                               1\n",
            "(During World War One Curie helped to equip ambulances with x-ray equipment, which she herself drove to the front lines.,)                                           1\n",
            "(In July 1898, the Curies announced the discovery of a new chemical element, polonium.,)                                                                             1\n",
            "(They were married in 1895.,)                                                                                                                                        1\n",
            "(The Curie's research was crucial in the development of x-rays in surgery.,)                                                                                         1\n",
            "(The Curies worked together investigating radioactivity, building on the work of the German physicist Roentgen and the French physicist Becquerel.,)                 1\n",
            "(Together with her husband Pierre, she was awarded the Nobel Prize in 1903, and she went on to win another in 1911.,)                                                1\n",
            "(Marie took over his teaching post, becoming the first woman to teach at the Sorbonne, and devoted herself to continuing the work that they had begun together.,)    1\n",
            "(The International Red Cross made her head of its radiological service and she held training courses for medical orderlies and doctors in the new techniques.,)      1\n",
            "(Marie Sklodowska was born in Warsaw on 7 November 1867, the daughter of a teacher.,)                                                                                1\n",
            "dtype: int64\n",
            "Printing bigram(The Curies worked together investigating radioactivity, building on the work of the German physicist Roentgen and the French physicist Becquerel., In July 1898, the Curies announced the discovery of a new chemical element, polonium.)                                                                                            1\n",
            "(The Curies, along with Becquerel, were awarded the Nobel Prize for Physics in 1903., Pierre's life was cut short in 1906 when he was knocked down and killed by a carriage.)                                                                                                                                                         1\n",
            "(She died on 4 July 1934 from leukaemia, caused by exposure to high-energy radiation from her research., The Curies' eldest daughter Irene was herself a scientist and winner of the Nobel Prize for Chemistry.)                                                                                                                      1\n",
            "(In 1891, she went to Paris to study physics and mathematics at the Sorbonne where she met Pierre Curie, professor of the School of Physics., They were married in 1895.)                                                                                                                                                             1\n",
            "(Despite her success, Marie continued to face great opposition from male scientists in France, and she never received significant financial benefits from her work., By the late 1920s her health was beginning to deteriorate.)                                                                                                      1\n",
            "(The International Red Cross made her head of its radiological service and she held training courses for medical orderlies and doctors in the new techniques., Despite her success, Marie continued to face great opposition from male scientists in France, and she never received significant financial benefits from her work.)    1\n",
            "(Marie Sklodowska was born in Warsaw on 7 November 1867, the daughter of a teacher., In 1891, she went to Paris to study physics and mathematics at the Sorbonne where she met Pierre Curie, professor of the School of Physics.)                                                                                                     1\n",
            "(Pierre's life was cut short in 1906 when he was knocked down and killed by a carriage., Marie took over his teaching post, becoming the first woman to teach at the Sorbonne, and devoted herself to continuing the work that they had begun together.)                                                                              1\n",
            "(During World War One Curie helped to equip ambulances with x-ray equipment, which she herself drove to the front lines., The International Red Cross made her head of its radiological service and she held training courses for medical orderlies and doctors in the new techniques.)                                               1\n",
            "(They were married in 1895., The Curies worked together investigating radioactivity, building on the work of the German physicist Roentgen and the French physicist Becquerel.)                                                                                                                                                       1\n",
            "dtype: int64\n"
          ]
        }
      ],
      "source": [
        "# 3.N-grams method \n",
        "\n",
        "import nltk\n",
        "unique_gram = (pd.Series(nltk.ngrams(biographytext['col'],1)).value_counts())[:10]\n",
        "print(\"Printing unigram\" + str(unique_gram))\n",
        "\n",
        "# bigrams\n",
        "bigram = (pd.Series(nltk.ngrams(biographytext['col'],2)).value_counts())[:10]\n",
        "print(\"Printing bigram\" + str(bigram))"
      ]
    },
    {
      "cell_type": "code",
      "execution_count": null,
      "metadata": {},
      "outputs": [
        {
          "data": {
            "text/plain": [
              "['and',\n",
              " 'and she',\n",
              " 'at',\n",
              " 'at the',\n",
              " 'awarded',\n",
              " 'awarded the',\n",
              " 'becquerel',\n",
              " 'by',\n",
              " 'curie',\n",
              " 'curies',\n",
              " 'daughter',\n",
              " 'discovery',\n",
              " 'discovery of',\n",
              " 'for',\n",
              " 'from',\n",
              " 'her',\n",
              " 'herself',\n",
              " 'in',\n",
              " 'in 1903',\n",
              " 'in 1911',\n",
              " 'marie',\n",
              " 'nobel',\n",
              " 'nobel prize',\n",
              " 'nobel prize for',\n",
              " 'of',\n",
              " 'of the',\n",
              " 'on',\n",
              " 'physicist',\n",
              " 'physics',\n",
              " 'pierre',\n",
              " 'prize',\n",
              " 'prize for',\n",
              " 'prize for chemistry',\n",
              " 'received',\n",
              " 'she',\n",
              " 'the',\n",
              " 'the curies',\n",
              " 'the discovery',\n",
              " 'the discovery of',\n",
              " 'the nobel',\n",
              " 'the nobel prize',\n",
              " 'the sorbonne',\n",
              " 'the work',\n",
              " 'they',\n",
              " 'to',\n",
              " 'together',\n",
              " 'was',\n",
              " 'went',\n",
              " 'with',\n",
              " 'work']"
            ]
          },
          "metadata": {},
          "output_type": "display_data"
        }
      ],
      "source": [
        "# 4.Bag-of-words\n",
        "# Importing count vectorizer to find the count\n",
        "from sklearn.feature_extraction.text import CountVectorizer\n",
        "coun = CountVectorizer(max_features=50, lowercase=True, ngram_range=(1,3), analyzer = \"word\")\n",
        "ex = coun.fit_transform(biographytext['col'])\n",
        "# get_feature_names() function is used to extract words\n",
        "coun.get_feature_names()"
      ]
    },
    {
      "cell_type": "code",
      "execution_count": null,
      "metadata": {},
      "outputs": [
        {
          "name": "stderr",
          "output_type": "stream",
          "text": [
            "[nltk_data] Downloading package averaged_perceptron_tagger to\n",
            "[nltk_data]     C:\\Users\\user\\AppData\\Roaming\\nltk_data...\n",
            "[nltk_data]   Package averaged_perceptron_tagger is already up-to-\n",
            "[nltk_data]       date!\n",
            "[nltk_data] Downloading package punkt to\n",
            "[nltk_data]     C:\\Users\\user\\AppData\\Roaming\\nltk_data...\n",
            "[nltk_data]   Package punkt is already up-to-date!\n"
          ]
        },
        {
          "data": {
            "text/plain": [
              "[[('Together', 'RB'),\n",
              "  ('with', 'IN'),\n",
              "  ('her', 'PRP$'),\n",
              "  ('husband', 'NN'),\n",
              "  ('Pierre', 'NNP'),\n",
              "  (',', ','),\n",
              "  ('she', 'PRP'),\n",
              "  ('was', 'VBD'),\n",
              "  ('awarded', 'VBN'),\n",
              "  ('the', 'DT'),\n",
              "  ('Nobel', 'NNP'),\n",
              "  ('Prize', 'NNP'),\n",
              "  ('in', 'IN'),\n",
              "  ('1903', 'CD'),\n",
              "  (',', ','),\n",
              "  ('and', 'CC'),\n",
              "  ('she', 'PRP'),\n",
              "  ('went', 'VBD'),\n",
              "  ('on', 'IN'),\n",
              "  ('to', 'TO'),\n",
              "  ('win', 'VB'),\n",
              "  ('another', 'DT'),\n",
              "  ('in', 'IN'),\n",
              "  ('1911', 'CD'),\n",
              "  ('.', '.')],\n",
              " [('Marie', 'NNP'),\n",
              "  ('Sklodowska', 'NNP'),\n",
              "  ('was', 'VBD'),\n",
              "  ('born', 'VBN'),\n",
              "  ('in', 'IN'),\n",
              "  ('Warsaw', 'NNP'),\n",
              "  ('on', 'IN'),\n",
              "  ('7', 'CD'),\n",
              "  ('November', 'NNP'),\n",
              "  ('1867', 'CD'),\n",
              "  (',', ','),\n",
              "  ('the', 'DT'),\n",
              "  ('daughter', 'NN'),\n",
              "  ('of', 'IN'),\n",
              "  ('a', 'DT'),\n",
              "  ('teacher', 'NN'),\n",
              "  ('.', '.')],\n",
              " [('In', 'IN'),\n",
              "  ('1891', 'CD'),\n",
              "  (',', ','),\n",
              "  ('she', 'PRP'),\n",
              "  ('went', 'VBD'),\n",
              "  ('to', 'TO'),\n",
              "  ('Paris', 'NNP'),\n",
              "  ('to', 'TO'),\n",
              "  ('study', 'VB'),\n",
              "  ('physics', 'NNS'),\n",
              "  ('and', 'CC'),\n",
              "  ('mathematics', 'NNS'),\n",
              "  ('at', 'IN'),\n",
              "  ('the', 'DT'),\n",
              "  ('Sorbonne', 'NNP'),\n",
              "  ('where', 'WRB'),\n",
              "  ('she', 'PRP'),\n",
              "  ('met', 'VBD'),\n",
              "  ('Pierre', 'NNP'),\n",
              "  ('Curie', 'NNP'),\n",
              "  (',', ','),\n",
              "  ('professor', 'NN'),\n",
              "  ('of', 'IN'),\n",
              "  ('the', 'DT'),\n",
              "  ('School', 'NNP'),\n",
              "  ('of', 'IN'),\n",
              "  ('Physics', 'NNPS'),\n",
              "  ('.', '.')],\n",
              " [('They', 'PRP'),\n",
              "  ('were', 'VBD'),\n",
              "  ('married', 'VBN'),\n",
              "  ('in', 'IN'),\n",
              "  ('1895', 'CD'),\n",
              "  ('.', '.')],\n",
              " [('The', 'DT'),\n",
              "  ('Curies', 'NNPS'),\n",
              "  ('worked', 'VBD'),\n",
              "  ('together', 'RB'),\n",
              "  ('investigating', 'VBG'),\n",
              "  ('radioactivity', 'NN'),\n",
              "  (',', ','),\n",
              "  ('building', 'NN'),\n",
              "  ('on', 'IN'),\n",
              "  ('the', 'DT'),\n",
              "  ('work', 'NN'),\n",
              "  ('of', 'IN'),\n",
              "  ('the', 'DT'),\n",
              "  ('German', 'JJ'),\n",
              "  ('physicist', 'NN'),\n",
              "  ('Roentgen', 'NNP'),\n",
              "  ('and', 'CC'),\n",
              "  ('the', 'DT'),\n",
              "  ('French', 'JJ'),\n",
              "  ('physicist', 'NN'),\n",
              "  ('Becquerel', 'NNP'),\n",
              "  ('.', '.')],\n",
              " [('In', 'IN'),\n",
              "  ('July', 'NNP'),\n",
              "  ('1898', 'CD'),\n",
              "  (',', ','),\n",
              "  ('the', 'DT'),\n",
              "  ('Curies', 'NNP'),\n",
              "  ('announced', 'VBD'),\n",
              "  ('the', 'DT'),\n",
              "  ('discovery', 'NN'),\n",
              "  ('of', 'IN'),\n",
              "  ('a', 'DT'),\n",
              "  ('new', 'JJ'),\n",
              "  ('chemical', 'NN'),\n",
              "  ('element', 'NN'),\n",
              "  (',', ','),\n",
              "  ('polonium', 'NN'),\n",
              "  ('.', '.')],\n",
              " [('At', 'IN'),\n",
              "  ('the', 'DT'),\n",
              "  ('end', 'NN'),\n",
              "  ('of', 'IN'),\n",
              "  ('the', 'DT'),\n",
              "  ('year', 'NN'),\n",
              "  (',', ','),\n",
              "  ('they', 'PRP'),\n",
              "  ('announced', 'VBD'),\n",
              "  ('the', 'DT'),\n",
              "  ('discovery', 'NN'),\n",
              "  ('of', 'IN'),\n",
              "  ('another', 'DT'),\n",
              "  (',', ','),\n",
              "  ('radium', 'NN'),\n",
              "  ('.', '.')],\n",
              " [('The', 'DT'),\n",
              "  ('Curies', 'NNPS'),\n",
              "  (',', ','),\n",
              "  ('along', 'IN'),\n",
              "  ('with', 'IN'),\n",
              "  ('Becquerel', 'NNP'),\n",
              "  (',', ','),\n",
              "  ('were', 'VBD'),\n",
              "  ('awarded', 'VBN'),\n",
              "  ('the', 'DT'),\n",
              "  ('Nobel', 'NNP'),\n",
              "  ('Prize', 'NNP'),\n",
              "  ('for', 'IN'),\n",
              "  ('Physics', 'NNPS'),\n",
              "  ('in', 'IN'),\n",
              "  ('1903', 'CD'),\n",
              "  ('.', '.')],\n",
              " [('Pierre', 'NNP'),\n",
              "  (\"'s\", 'POS'),\n",
              "  ('life', 'NN'),\n",
              "  ('was', 'VBD'),\n",
              "  ('cut', 'VBN'),\n",
              "  ('short', 'JJ'),\n",
              "  ('in', 'IN'),\n",
              "  ('1906', 'CD'),\n",
              "  ('when', 'WRB'),\n",
              "  ('he', 'PRP'),\n",
              "  ('was', 'VBD'),\n",
              "  ('knocked', 'VBN'),\n",
              "  ('down', 'RB'),\n",
              "  ('and', 'CC'),\n",
              "  ('killed', 'VBN'),\n",
              "  ('by', 'IN'),\n",
              "  ('a', 'DT'),\n",
              "  ('carriage', 'NN'),\n",
              "  ('.', '.')],\n",
              " [('Marie', 'NNP'),\n",
              "  ('took', 'VBD'),\n",
              "  ('over', 'RP'),\n",
              "  ('his', 'PRP$'),\n",
              "  ('teaching', 'VBG'),\n",
              "  ('post', 'NN'),\n",
              "  (',', ','),\n",
              "  ('becoming', 'VBG'),\n",
              "  ('the', 'DT'),\n",
              "  ('first', 'JJ'),\n",
              "  ('woman', 'NN'),\n",
              "  ('to', 'TO'),\n",
              "  ('teach', 'VB'),\n",
              "  ('at', 'IN'),\n",
              "  ('the', 'DT'),\n",
              "  ('Sorbonne', 'NNP'),\n",
              "  (',', ','),\n",
              "  ('and', 'CC'),\n",
              "  ('devoted', 'VBD'),\n",
              "  ('herself', 'PRP'),\n",
              "  ('to', 'TO'),\n",
              "  ('continuing', 'VBG'),\n",
              "  ('the', 'DT'),\n",
              "  ('work', 'NN'),\n",
              "  ('that', 'IN'),\n",
              "  ('they', 'PRP'),\n",
              "  ('had', 'VBD'),\n",
              "  ('begun', 'VBN'),\n",
              "  ('together', 'RB'),\n",
              "  ('.', '.')],\n",
              " [('She', 'PRP'),\n",
              "  ('received', 'VBD'),\n",
              "  ('a', 'DT'),\n",
              "  ('second', 'JJ'),\n",
              "  ('Nobel', 'NNP'),\n",
              "  ('Prize', 'NNP'),\n",
              "  (',', ','),\n",
              "  ('for', 'IN'),\n",
              "  ('Chemistry', 'NNP'),\n",
              "  (',', ','),\n",
              "  ('in', 'IN'),\n",
              "  ('1911', 'CD'),\n",
              "  ('.', '.')],\n",
              " [('The', 'DT'),\n",
              "  ('Curie', 'NNP'),\n",
              "  (\"'s\", 'POS'),\n",
              "  ('research', 'NN'),\n",
              "  ('was', 'VBD'),\n",
              "  ('crucial', 'JJ'),\n",
              "  ('in', 'IN'),\n",
              "  ('the', 'DT'),\n",
              "  ('development', 'NN'),\n",
              "  ('of', 'IN'),\n",
              "  ('x-rays', 'NNS'),\n",
              "  ('in', 'IN'),\n",
              "  ('surgery', 'NN'),\n",
              "  ('.', '.')],\n",
              " [('During', 'IN'),\n",
              "  ('World', 'NNP'),\n",
              "  ('War', 'NNP'),\n",
              "  ('One', 'NNP'),\n",
              "  ('Curie', 'NNP'),\n",
              "  ('helped', 'VBD'),\n",
              "  ('to', 'TO'),\n",
              "  ('equip', 'VB'),\n",
              "  ('ambulances', 'NNS'),\n",
              "  ('with', 'IN'),\n",
              "  ('x-ray', 'JJ'),\n",
              "  ('equipment', 'NN'),\n",
              "  (',', ','),\n",
              "  ('which', 'WDT'),\n",
              "  ('she', 'PRP'),\n",
              "  ('herself', 'PRP'),\n",
              "  ('drove', 'VBD'),\n",
              "  ('to', 'TO'),\n",
              "  ('the', 'DT'),\n",
              "  ('front', 'NN'),\n",
              "  ('lines', 'NNS'),\n",
              "  ('.', '.')],\n",
              " [('The', 'DT'),\n",
              "  ('International', 'NNP'),\n",
              "  ('Red', 'NNP'),\n",
              "  ('Cross', 'NNP'),\n",
              "  ('made', 'VBD'),\n",
              "  ('her', 'PRP$'),\n",
              "  ('head', 'NN'),\n",
              "  ('of', 'IN'),\n",
              "  ('its', 'PRP$'),\n",
              "  ('radiological', 'JJ'),\n",
              "  ('service', 'NN'),\n",
              "  ('and', 'CC'),\n",
              "  ('she', 'PRP'),\n",
              "  ('held', 'VBD'),\n",
              "  ('training', 'NN'),\n",
              "  ('courses', 'NNS'),\n",
              "  ('for', 'IN'),\n",
              "  ('medical', 'JJ'),\n",
              "  ('orderlies', 'NNS'),\n",
              "  ('and', 'CC'),\n",
              "  ('doctors', 'NNS'),\n",
              "  ('in', 'IN'),\n",
              "  ('the', 'DT'),\n",
              "  ('new', 'JJ'),\n",
              "  ('techniques', 'NNS'),\n",
              "  ('.', '.')],\n",
              " [('Despite', 'IN'),\n",
              "  ('her', 'PRP$'),\n",
              "  ('success', 'NN'),\n",
              "  (',', ','),\n",
              "  ('Marie', 'NNP'),\n",
              "  ('continued', 'VBD'),\n",
              "  ('to', 'TO'),\n",
              "  ('face', 'VB'),\n",
              "  ('great', 'JJ'),\n",
              "  ('opposition', 'NN'),\n",
              "  ('from', 'IN'),\n",
              "  ('male', 'JJ'),\n",
              "  ('scientists', 'NNS'),\n",
              "  ('in', 'IN'),\n",
              "  ('France', 'NNP'),\n",
              "  (',', ','),\n",
              "  ('and', 'CC'),\n",
              "  ('she', 'PRP'),\n",
              "  ('never', 'RB'),\n",
              "  ('received', 'VBD'),\n",
              "  ('significant', 'JJ'),\n",
              "  ('financial', 'JJ'),\n",
              "  ('benefits', 'NNS'),\n",
              "  ('from', 'IN'),\n",
              "  ('her', 'PRP$'),\n",
              "  ('work', 'NN'),\n",
              "  ('.', '.')],\n",
              " [('By', 'IN'),\n",
              "  ('the', 'DT'),\n",
              "  ('late', 'JJ'),\n",
              "  ('1920s', 'CD'),\n",
              "  ('her', 'PRP$'),\n",
              "  ('health', 'NN'),\n",
              "  ('was', 'VBD'),\n",
              "  ('beginning', 'VBG'),\n",
              "  ('to', 'TO'),\n",
              "  ('deteriorate', 'VB'),\n",
              "  ('.', '.')],\n",
              " [('She', 'PRP'),\n",
              "  ('died', 'VBD'),\n",
              "  ('on', 'IN'),\n",
              "  ('4', 'CD'),\n",
              "  ('July', 'NNP'),\n",
              "  ('1934', 'CD'),\n",
              "  ('from', 'IN'),\n",
              "  ('leukaemia', 'NN'),\n",
              "  (',', ','),\n",
              "  ('caused', 'VBN'),\n",
              "  ('by', 'IN'),\n",
              "  ('exposure', 'NN'),\n",
              "  ('to', 'TO'),\n",
              "  ('high-energy', 'JJ'),\n",
              "  ('radiation', 'NN'),\n",
              "  ('from', 'IN'),\n",
              "  ('her', 'PRP$'),\n",
              "  ('research', 'NN'),\n",
              "  ('.', '.')],\n",
              " [('The', 'DT'),\n",
              "  ('Curies', 'NNP'),\n",
              "  (\"'\", 'POS'),\n",
              "  ('eldest', 'JJS'),\n",
              "  ('daughter', 'NN'),\n",
              "  ('Irene', 'NNP'),\n",
              "  ('was', 'VBD'),\n",
              "  ('herself', 'PRP'),\n",
              "  ('a', 'DT'),\n",
              "  ('scientist', 'NN'),\n",
              "  ('and', 'CC'),\n",
              "  ('winner', 'NN'),\n",
              "  ('of', 'IN'),\n",
              "  ('the', 'DT'),\n",
              "  ('Nobel', 'NNP'),\n",
              "  ('Prize', 'NNP'),\n",
              "  ('for', 'IN'),\n",
              "  ('Chemistry', 'NNP'),\n",
              "  ('.', '.')]]"
            ]
          },
          "metadata": {},
          "output_type": "display_data"
        }
      ],
      "source": [
        "# 5.Named entity recognition\n",
        "from nltk.tokenize import word_tokenize\n",
        "import nltk\n",
        "nltk.download('averaged_perceptron_tagger')\n",
        "nltk.download('punkt')\n",
        "words = []\n",
        "#taking values from biographytext with column colmn\n",
        "for sent in biographytext['col']:\n",
        "  text = word_tokenize(str(sent))\n",
        "  words.append(nltk.pos_tag(text))\n",
        "words"
      ]
    },
    {
      "cell_type": "markdown",
      "metadata": {
        "id": "lQ8pQ-0hEHwb"
      },
      "source": [
        "Question 3 (10 points): Use any of the feature selection methods mentioned in this paper \"Deng, X., Li, Y., Weng, J., & Zhang, J. (2019). Feature selection for text classification: A review. Multimedia Tools & Applications, 78(3).\" Select the most important features you extracted above, rank the features based on their importance in the descending order. "
      ]
    },
    {
      "cell_type": "code",
      "execution_count": 3,
      "metadata": {
        "id": "Nx-2ez0PEHwb"
      },
      "outputs": [],
      "source": [
        "# You code here (Please add comments in the code):\n",
        "# Imports\n",
        "import numpy as np\n",
        "import matplotlib.pyplot as plt\n",
        "import tensorflow_datasets as tfds\n",
        "import tensorflow as tf\n",
        "\n",
        "tfds.disable_progress_bar()\n"
      ]
    },
    {
      "cell_type": "code",
      "execution_count": 5,
      "metadata": {
        "id": "XP8lF5oDEM7e"
      },
      "outputs": [],
      "source": [
        "# Graph plot utility\n",
        "def plot_graphs(history, metric):\n",
        "  plt.plot(history.history[metric])\n",
        "  plt.plot(history.history['val_'+metric], '')\n",
        "  plt.xlabel(\"Epochs\")\n",
        "  plt.ylabel(metric)\n",
        "  plt.legend([metric, 'val_'+metric])"
      ]
    },
    {
      "cell_type": "code",
      "execution_count": 6,
      "metadata": {
        "colab": {
          "base_uri": "https://localhost:8080/"
        },
        "id": "bGO1kp9eEPQD",
        "outputId": "538f5112-ab65-42ce-9739-d5b71a2f893c"
      },
      "outputs": [
        {
          "name": "stdout",
          "output_type": "stream",
          "text": [
            "\u001b[1mDownloading and preparing dataset imdb_reviews/plain_text/1.0.0 (download: 80.23 MiB, generated: Unknown size, total: 80.23 MiB) to /root/tensorflow_datasets/imdb_reviews/plain_text/1.0.0...\u001b[0m\n",
            "Shuffling and writing examples to /root/tensorflow_datasets/imdb_reviews/plain_text/1.0.0.incompleteEN4ULP/imdb_reviews-train.tfrecord\n",
            "Shuffling and writing examples to /root/tensorflow_datasets/imdb_reviews/plain_text/1.0.0.incompleteEN4ULP/imdb_reviews-test.tfrecord\n",
            "Shuffling and writing examples to /root/tensorflow_datasets/imdb_reviews/plain_text/1.0.0.incompleteEN4ULP/imdb_reviews-unsupervised.tfrecord\n"
          ]
        },
        {
          "name": "stderr",
          "output_type": "stream",
          "text": [
            "WARNING:absl:Dataset is using deprecated text encoder API which will be removed soon. Please use the plain_text version of the dataset and migrate to `tensorflow_text`.\n"
          ]
        },
        {
          "name": "stdout",
          "output_type": "stream",
          "text": [
            "\u001b[1mDataset imdb_reviews downloaded and prepared to /root/tensorflow_datasets/imdb_reviews/plain_text/1.0.0. Subsequent calls will reuse this data.\u001b[0m\n"
          ]
        },
        {
          "data": {
            "text/plain": [
              "(TensorSpec(shape=(), dtype=tf.string, name=None),\n",
              " TensorSpec(shape=(), dtype=tf.int64, name=None))"
            ]
          },
          "execution_count": 6,
          "metadata": {},
          "output_type": "execute_result"
        }
      ],
      "source": [
        "# Downlading data from tfds and performing test train split\n",
        "dataset, info = tfds.load('imdb_reviews', with_info=True,\n",
        "                          as_supervised=True)\n",
        "train_dataset, test_dataset = dataset['train'], dataset['test']\n",
        "\n",
        "train_dataset.element_spec"
      ]
    },
    {
      "cell_type": "code",
      "execution_count": 7,
      "metadata": {
        "colab": {
          "base_uri": "https://localhost:8080/"
        },
        "id": "vMZN6xOLERxj",
        "outputId": "08bb5332-6c61-46ed-bb0b-482b7070cefe"
      },
      "outputs": [
        {
          "name": "stdout",
          "output_type": "stream",
          "text": [
            "text:  b\"This was an absolutely terrible movie. Don't be lured in by Christopher Walken or Michael Ironside. Both are great actors, but this must simply be their worst role in history. Even their great acting could not redeem this movie's ridiculous storyline. This movie is an early nineties US propaganda piece. The most pathetic scenes were those when the Columbian rebels were making their cases for revolutions. Maria Conchita Alonso appeared phony, and her pseudo-love affair with Walken was nothing but a pathetic emotional plug in a movie that was devoid of any real meaning. I am disappointed that there are movies like this, ruining actor's like Christopher Walken's good name. I could barely sit through it.\"\n",
            "label:  0\n"
          ]
        }
      ],
      "source": [
        "# Sample data point\n",
        "for example, label in train_dataset.take(1):\n",
        "  print('text: ', example.numpy())\n",
        "  print('label: ', label.numpy())"
      ]
    },
    {
      "cell_type": "code",
      "execution_count": 8,
      "metadata": {
        "id": "hB9XwAiWEUtf"
      },
      "outputs": [],
      "source": [
        "# Setting buffer and batch sizes\n",
        "BUFFER_SIZE = 10000\n",
        "BATCH_SIZE = 64"
      ]
    },
    {
      "cell_type": "code",
      "execution_count": 9,
      "metadata": {
        "id": "RR7KMDnqEWqU"
      },
      "outputs": [],
      "source": [
        "# Shuffling and autotuning data\n",
        "train_dataset = train_dataset.shuffle(BUFFER_SIZE).batch(BATCH_SIZE).prefetch(tf.data.AUTOTUNE)\n",
        "test_dataset = test_dataset.batch(BATCH_SIZE).prefetch(tf.data.AUTOTUNE)"
      ]
    },
    {
      "cell_type": "code",
      "execution_count": 10,
      "metadata": {
        "colab": {
          "base_uri": "https://localhost:8080/"
        },
        "id": "iaYo7rB0EZRa",
        "outputId": "8b4807e7-b825-4b27-9a26-8fa362e60fa1"
      },
      "outputs": [
        {
          "name": "stdout",
          "output_type": "stream",
          "text": [
            "texts:  [b\"I just don't get some of the big premises of this episode - that Miranda is so remarkable, and that there's anything so ugly it would make you insane. Someone here made the remark that maybe it's the frequency of the light waves or something rather than it being ugliness. Miranda is just a jerk. The episode is slow, inconsistent and way too talky. I also don't quite understand why Kolos is an ambassador - why doesn't the Federation just leave the damn Medusans be? There's one part I do like, when Kolos is speaking through Spock about the loneliness of the human experience. Overall, I love TOS and even at its lamest, I'll always tune in. This episode though - mmm, I wouldn't purchase it except for a used copy under $3.\"\n",
            " b'Romantic comedy is not the correct way to describe \"How to lose friends & alienate people\". The underlying romance in the plot is, for the most part, displaced by a far more interesting \"rags to riches\" tale. Although the central line of the story is somewhat rushed passed, in several screen shots, it does have a sense of; getting the \"nitty gritty\" out of the way, focusing on those key relationships which make \"office politics\" and using those almost irrelevant scenes, used purely for comic effect. Yet it works so well, especially with Pegg in the front seat. The film is ultimately very clever, playing well on the trans-Atlantic relationship Pegg shares with his co-stars and merging the cross between the high and low -life society quite well and quite refreshingly in a storyline that despite predictability is somewhat of a unique journey. The different characters in the film are presented well and casting is definitely a plus point on the film. Both the \"trading places\" relationship between Pegg and Huston and the \"love, hate\" relationship between Pegg and Dunst do work so well in a story that is, for want of a better word, charming. Even Fox, whose main asset is of course sex appeal, shocks with what turns out to be quite a dark character and acts that \"bimbo\" role all to well. Its one of these films where every little detail does pay tribute to a great piece of work. From transsexual strippers to an amazing soundtrack it all meshes nicely into what can only be described as clever comedy.'\n",
            " b\"This movie is a vehicle for Schwarzenegger-clone Alexander Nevsky. His charisma however is insufficient to lift this movie above the level of its poor script. He has little to add to his Arnie-act.<br /><br />Michael York is quite pathetic as the begging diplomat. Watching him revisit his D'Artagnan-act from the time that he was a better actor made me feel uneasy. Come on, you can do better than that!<br /><br />The story is full of holes and unexplained relations; top of this bill is the informer of Vlad, who sounds like an American woman, but from the context appears to be working for a Russian government-department.<br /><br />Although the story takes place well after the end of the Communist-regime, all the Russian characters are still very communist-like. In contradiction to that, Vlad is allowed to drive a pimped up all utility vehicle as police-car. The action scenes are poorly shot and therefore lack dynamics.<br /><br />Not a must see movie...\"]\n",
            "\n",
            "labels:  [0 1 0]\n"
          ]
        }
      ],
      "source": [
        "# Sample data points after above operations\n",
        "for example, label in train_dataset.take(1):\n",
        "  print('texts: ', example.numpy()[:3])\n",
        "  print()\n",
        "  print('labels: ', label.numpy()[:3])"
      ]
    },
    {
      "cell_type": "code",
      "execution_count": 11,
      "metadata": {
        "id": "b7oLOj1CEZ4K"
      },
      "outputs": [],
      "source": [
        "# Defining vocab size and encoding\n",
        "VOCAB_SIZE = 1000\n",
        "encoder = tf.keras.layers.TextVectorization(\n",
        "    max_tokens=VOCAB_SIZE)\n",
        "encoder.adapt(train_dataset.map(lambda text, label: text))"
      ]
    },
    {
      "cell_type": "code",
      "execution_count": 12,
      "metadata": {
        "colab": {
          "base_uri": "https://localhost:8080/"
        },
        "id": "vvVJn9LNEcNS",
        "outputId": "ff602488-c486-4bbf-e7c6-a0a9096cfbd2"
      },
      "outputs": [
        {
          "data": {
            "text/plain": [
              "array(['', '[UNK]', 'the', 'and', 'a', 'of', 'to', 'is', 'in', 'it', 'i',\n",
              "       'this', 'that', 'br', 'was', 'as', 'for', 'with', 'movie', 'but'],\n",
              "      dtype='<U14')"
            ]
          },
          "execution_count": 12,
          "metadata": {},
          "output_type": "execute_result"
        }
      ],
      "source": [
        "# Vocab and smaples\n",
        "vocab = np.array(encoder.get_vocabulary())\n",
        "vocab[:20]"
      ]
    },
    {
      "cell_type": "code",
      "execution_count": 13,
      "metadata": {
        "colab": {
          "base_uri": "https://localhost:8080/"
        },
        "id": "e24AzF8MEfjU",
        "outputId": "12d3330a-c245-4a0a-8218-ef65756e20e9"
      },
      "outputs": [
        {
          "data": {
            "text/plain": [
              "array([[ 10,  41,  90, ...,   0,   0,   0],\n",
              "       [718, 220,   7, ...,   0,   0,   0],\n",
              "       [ 11,  18,   7, ...,   0,   0,   0]])"
            ]
          },
          "execution_count": 13,
          "metadata": {},
          "output_type": "execute_result"
        }
      ],
      "source": [
        "encoded_example = encoder(example)[:3].numpy()\n",
        "encoded_example"
      ]
    },
    {
      "cell_type": "code",
      "execution_count": 14,
      "metadata": {
        "colab": {
          "base_uri": "https://localhost:8080/"
        },
        "id": "UaA_E-8sEgVD",
        "outputId": "71e66293-81de-4dba-ec2f-049ec0de8042"
      },
      "outputs": [
        {
          "name": "stdout",
          "output_type": "stream",
          "text": [
            "Original:  b\"I just don't get some of the big premises of this episode - that Miranda is so remarkable, and that there's anything so ugly it would make you insane. Someone here made the remark that maybe it's the frequency of the light waves or something rather than it being ugliness. Miranda is just a jerk. The episode is slow, inconsistent and way too talky. I also don't quite understand why Kolos is an ambassador - why doesn't the Federation just leave the damn Medusans be? There's one part I do like, when Kolos is speaking through Spock about the loneliness of the human experience. Overall, I love TOS and even at its lamest, I'll always tune in. This episode though - mmm, I wouldn't purchase it except for a used copy under $3.\"\n",
            "Round-trip:  i just dont get some of the big [UNK] of this episode that [UNK] is so [UNK] and that theres anything so [UNK] it would make you [UNK] someone here made the [UNK] that maybe its the [UNK] of the light [UNK] or something rather than it being [UNK] [UNK] is just a [UNK] the episode is slow [UNK] and way too [UNK] i also dont quite understand why [UNK] is an [UNK] why doesnt the [UNK] just leave the [UNK] [UNK] be theres one part i do like when [UNK] is [UNK] through [UNK] about the [UNK] of the human experience overall i love [UNK] and even at its [UNK] ill always [UNK] in this episode though [UNK] i wouldnt [UNK] it except for a used [UNK] under 3                                                                                                                                                                                                                                                                                                                                                                                                                                                                                                                                                                                                                                                                                                                                                                                                \n",
            "\n",
            "Original:  b'Romantic comedy is not the correct way to describe \"How to lose friends & alienate people\". The underlying romance in the plot is, for the most part, displaced by a far more interesting \"rags to riches\" tale. Although the central line of the story is somewhat rushed passed, in several screen shots, it does have a sense of; getting the \"nitty gritty\" out of the way, focusing on those key relationships which make \"office politics\" and using those almost irrelevant scenes, used purely for comic effect. Yet it works so well, especially with Pegg in the front seat. The film is ultimately very clever, playing well on the trans-Atlantic relationship Pegg shares with his co-stars and merging the cross between the high and low -life society quite well and quite refreshingly in a storyline that despite predictability is somewhat of a unique journey. The different characters in the film are presented well and casting is definitely a plus point on the film. Both the \"trading places\" relationship between Pegg and Huston and the \"love, hate\" relationship between Pegg and Dunst do work so well in a story that is, for want of a better word, charming. Even Fox, whose main asset is of course sex appeal, shocks with what turns out to be quite a dark character and acts that \"bimbo\" role all to well. Its one of these films where every little detail does pay tribute to a great piece of work. From transsexual strippers to an amazing soundtrack it all meshes nicely into what can only be described as clever comedy.'\n",
            "Round-trip:  romantic comedy is not the [UNK] way to [UNK] how to [UNK] friends [UNK] people the [UNK] romance in the plot is for the most part [UNK] by a far more interesting [UNK] to [UNK] tale although the [UNK] line of the story is somewhat [UNK] [UNK] in several screen shots it does have a sense of getting the [UNK] [UNK] out of the way [UNK] on those [UNK] [UNK] which make [UNK] [UNK] and using those almost [UNK] scenes used [UNK] for comic effect yet it works so well especially with [UNK] in the [UNK] [UNK] the film is [UNK] very [UNK] playing well on the [UNK] relationship [UNK] [UNK] with his [UNK] and [UNK] the [UNK] between the high and low life society quite well and quite [UNK] in a storyline that despite [UNK] is somewhat of a unique [UNK] the different characters in the film are [UNK] well and casting is definitely a plus point on the film both the [UNK] [UNK] relationship between [UNK] and [UNK] and the love hate relationship between [UNK] and [UNK] do work so well in a story that is for want of a better word [UNK] even [UNK] whose main [UNK] is of course sex [UNK] [UNK] with what turns out to be quite a dark character and [UNK] that [UNK] role all to well its one of these films where every little [UNK] does pay [UNK] to a great piece of work from [UNK] [UNK] to an amazing soundtrack it all [UNK] [UNK] into what can only be [UNK] as [UNK] comedy                                                                                                                                                                                                                                                                                                                                                                                                                                                                                                                                                                                                                                                            \n",
            "\n",
            "Original:  b\"This movie is a vehicle for Schwarzenegger-clone Alexander Nevsky. His charisma however is insufficient to lift this movie above the level of its poor script. He has little to add to his Arnie-act.<br /><br />Michael York is quite pathetic as the begging diplomat. Watching him revisit his D'Artagnan-act from the time that he was a better actor made me feel uneasy. Come on, you can do better than that!<br /><br />The story is full of holes and unexplained relations; top of this bill is the informer of Vlad, who sounds like an American woman, but from the context appears to be working for a Russian government-department.<br /><br />Although the story takes place well after the end of the Communist-regime, all the Russian characters are still very communist-like. In contradiction to that, Vlad is allowed to drive a pimped up all utility vehicle as police-car. The action scenes are poorly shot and therefore lack dynamics.<br /><br />Not a must see movie...\"\n",
            "Round-trip:  this movie is a [UNK] for [UNK] [UNK] [UNK] his [UNK] however is [UNK] to [UNK] this movie above the level of its poor script he has little to add to his [UNK] br michael york is quite [UNK] as the [UNK] [UNK] watching him [UNK] his [UNK] from the time that he was a better actor made me feel [UNK] come on you can do better than [UNK] br the story is full of [UNK] and [UNK] [UNK] top of this bill is the [UNK] of [UNK] who sounds like an american woman but from the [UNK] appears to be working for a [UNK] [UNK] br although the story takes place well after the end of the [UNK] all the [UNK] characters are still very [UNK] in [UNK] to that [UNK] is [UNK] to [UNK] a [UNK] up all [UNK] [UNK] as [UNK] the action scenes are poorly shot and [UNK] lack [UNK] br not a must see movie                                                                                                                                                                                                                                                                                                                                                                                                                                                                                                                                                                                                                                                                                                                                                                  \n",
            "\n"
          ]
        }
      ],
      "source": [
        "for n in range(3):\n",
        "  print(\"Original: \", example[n].numpy())\n",
        "  print(\"Round-trip: \", \" \".join(vocab[encoded_example[n]]))\n",
        "  print()"
      ]
    },
    {
      "cell_type": "code",
      "execution_count": 15,
      "metadata": {
        "id": "ap-qo6YZEioi"
      },
      "outputs": [],
      "source": [
        "# Building model\n",
        "model = tf.keras.Sequential([\n",
        "    encoder,\n",
        "    tf.keras.layers.Embedding(\n",
        "        input_dim=len(encoder.get_vocabulary()),\n",
        "        output_dim=64,\n",
        "        # Use masking to handle the variable sequence lengths\n",
        "        mask_zero=True),\n",
        "    tf.keras.layers.Bidirectional(tf.keras.layers.LSTM(64)),\n",
        "    tf.keras.layers.Dense(64, activation='relu'),\n",
        "    tf.keras.layers.Dense(1)\n",
        "])"
      ]
    },
    {
      "cell_type": "code",
      "execution_count": 16,
      "metadata": {
        "colab": {
          "base_uri": "https://localhost:8080/"
        },
        "id": "KlIdLCtJEllF",
        "outputId": "4009bfd7-9941-48df-9192-3b3b27292fc5"
      },
      "outputs": [
        {
          "name": "stdout",
          "output_type": "stream",
          "text": [
            "[False, True, True, True, True]\n"
          ]
        }
      ],
      "source": [
        "# shwing masked layers\n",
        "print([layer.supports_masking for layer in model.layers])"
      ]
    },
    {
      "cell_type": "code",
      "execution_count": 17,
      "metadata": {
        "colab": {
          "base_uri": "https://localhost:8080/"
        },
        "id": "cps3xThNEn2A",
        "outputId": "dbd7468f-0540-4b37-fe39-9f4a8aee1334"
      },
      "outputs": [
        {
          "name": "stdout",
          "output_type": "stream",
          "text": [
            "[-0.01411388]\n"
          ]
        }
      ],
      "source": [
        "# predict on a sample text without padding.\n",
        "\n",
        "sample_text = ('The movie was cool. The animation and the graphics '\n",
        "               'were out of this world. I would recommend this movie.')\n",
        "predictions = model.predict(np.array([sample_text]))\n",
        "print(predictions[0])"
      ]
    },
    {
      "cell_type": "code",
      "execution_count": 18,
      "metadata": {
        "colab": {
          "base_uri": "https://localhost:8080/"
        },
        "id": "QxFe9X10EplE",
        "outputId": "f721308b-5f24-4c57-b030-2becdc5ec41f"
      },
      "outputs": [
        {
          "name": "stdout",
          "output_type": "stream",
          "text": [
            "[-0.01411388]\n"
          ]
        }
      ],
      "source": [
        "# predict on a sample text with padding\n",
        "\n",
        "padding = \"the \" * 2000\n",
        "predictions = model.predict(np.array([sample_text, padding]))\n",
        "print(predictions[0])"
      ]
    },
    {
      "cell_type": "code",
      "execution_count": 19,
      "metadata": {
        "id": "Y8-a8LalErY3"
      },
      "outputs": [],
      "source": [
        "# Compile Model\n",
        "model.compile(loss=tf.keras.losses.BinaryCrossentropy(from_logits=True),\n",
        "              optimizer=tf.keras.optimizers.Adam(1e-4),\n",
        "              metrics=['accuracy'])"
      ]
    },
    {
      "cell_type": "code",
      "execution_count": 20,
      "metadata": {
        "colab": {
          "base_uri": "https://localhost:8080/"
        },
        "id": "AY5zQiawEtVi",
        "outputId": "f9e6e094-999e-4d33-ada8-292818fe6090"
      },
      "outputs": [
        {
          "name": "stdout",
          "output_type": "stream",
          "text": [
            "Epoch 1/10\n",
            "391/391 [==============================] - 44s 89ms/step - loss: 0.6459 - accuracy: 0.5650 - val_loss: 0.5395 - val_accuracy: 0.7323\n",
            "Epoch 2/10\n",
            "391/391 [==============================] - 33s 82ms/step - loss: 0.4450 - accuracy: 0.7942 - val_loss: 0.4073 - val_accuracy: 0.8177\n",
            "Epoch 3/10\n",
            "391/391 [==============================] - 33s 83ms/step - loss: 0.3645 - accuracy: 0.8405 - val_loss: 0.3600 - val_accuracy: 0.8276\n",
            "Epoch 4/10\n",
            "391/391 [==============================] - 32s 82ms/step - loss: 0.3297 - accuracy: 0.8586 - val_loss: 0.3394 - val_accuracy: 0.8417\n",
            "Epoch 5/10\n",
            "391/391 [==============================] - 33s 82ms/step - loss: 0.3158 - accuracy: 0.8648 - val_loss: 0.3306 - val_accuracy: 0.8526\n",
            "Epoch 6/10\n",
            "391/391 [==============================] - 33s 82ms/step - loss: 0.3080 - accuracy: 0.8689 - val_loss: 0.3312 - val_accuracy: 0.8536\n",
            "Epoch 7/10\n",
            "391/391 [==============================] - 33s 83ms/step - loss: 0.3045 - accuracy: 0.8712 - val_loss: 0.3255 - val_accuracy: 0.8536\n",
            "Epoch 8/10\n",
            "391/391 [==============================] - 33s 82ms/step - loss: 0.3011 - accuracy: 0.8722 - val_loss: 0.3222 - val_accuracy: 0.8547\n",
            "Epoch 9/10\n",
            "391/391 [==============================] - 33s 83ms/step - loss: 0.2978 - accuracy: 0.8727 - val_loss: 0.3273 - val_accuracy: 0.8630\n",
            "Epoch 10/10\n",
            "391/391 [==============================] - 33s 83ms/step - loss: 0.2951 - accuracy: 0.8745 - val_loss: 0.3399 - val_accuracy: 0.8380\n"
          ]
        }
      ],
      "source": [
        "# Training Model\n",
        "history = model.fit(train_dataset, epochs=10,\n",
        "                    validation_data=test_dataset,\n",
        "                    validation_steps=30)"
      ]
    },
    {
      "cell_type": "code",
      "execution_count": 21,
      "metadata": {
        "colab": {
          "base_uri": "https://localhost:8080/"
        },
        "id": "XO6baytOExhU",
        "outputId": "ae540b23-96c1-4254-95fd-ec1e98f0f065"
      },
      "outputs": [
        {
          "name": "stdout",
          "output_type": "stream",
          "text": [
            "391/391 [==============================] - 19s 47ms/step - loss: 0.3341 - accuracy: 0.8405\n",
            "Test Loss: 0.3340848684310913\n",
            "Test Accuracy: 0.8404800295829773\n"
          ]
        }
      ],
      "source": [
        "# Plots of accuracy and loss\n",
        "test_loss, test_acc = model.evaluate(test_dataset)\n",
        "\n",
        "print('Test Loss:', test_loss)\n",
        "print('Test Accuracy:', test_acc)"
      ]
    },
    {
      "cell_type": "code",
      "execution_count": 22,
      "metadata": {
        "colab": {
          "base_uri": "https://localhost:8080/",
          "height": 518
        },
        "id": "sk4WgsfkE1WY",
        "outputId": "9af4bea8-bbc2-4102-acf4-54fd75d5b174"
      },
      "outputs": [
        {
          "data": {
            "text/plain": [
              "(0.0, 0.6634338289499283)"
            ]
          },
          "execution_count": 22,
          "metadata": {},
          "output_type": "execute_result"
        },
        {
          "data": {
            "image/png": "[encoded data removed]",
            "text/plain": [
              "<Figure size 1152x576 with 2 Axes>"
            ]
          },
          "metadata": {
            "needs_background": "light"
          },
          "output_type": "display_data"
        }
      ],
      "source": [
        "plt.figure(figsize=(16, 8))\n",
        "plt.subplot(1, 2, 1)\n",
        "plot_graphs(history, 'accuracy')\n",
        "plt.ylim(None, 1)\n",
        "plt.subplot(1, 2, 2)\n",
        "plot_graphs(history, 'loss')\n",
        "plt.ylim(0, None)"
      ]
    },
    {
      "cell_type": "code",
      "execution_count": 23,
      "metadata": {
        "colab": {
          "base_uri": "https://localhost:8080/"
        },
        "id": "zr7agP9gE2Fm",
        "outputId": "93585717-1d84-4da6-eaa4-9452f3ac234e"
      },
      "outputs": [
        {
          "name": "stdout",
          "output_type": "stream",
          "text": [
            "[[0.7950769]]\n"
          ]
        }
      ],
      "source": [
        "# Sample predictions\n",
        "sample_text = ('The movie was cool. The animation and the graphics '\n",
        "               'were out of this world. I would recommend this movie.')\n",
        "predictions = model.predict(np.array([sample_text]))\n",
        "print(predictions)"
      ]
    },
    {
      "cell_type": "code",
      "execution_count": 23,
      "metadata": {
        "id": "GG9LkneunfeM"
      },
      "outputs": [],
      "source": []
    }
  ],
  "metadata": {
    "accelerator": "GPU",
    "colab": {
      "name": "In-class-exercise-03.ipynb",
      "provenance": []
    },
    "kernelspec": {
      "display_name": "Python 3",
      "language": "python",
      "name": "python3"
    },
    "language_info": {
      "codemirror_mode": {
        "name": "ipython",
        "version": 3
      },
      "file_extension": ".py",
      "mimetype": "text/x-python",
      "name": "python",
      "nbconvert_exporter": "python",
      "pygments_lexer": "ipython3",
      "version": "3.8.5"
    }
  },
  "nbformat": 4,
  "nbformat_minor": 0
}
