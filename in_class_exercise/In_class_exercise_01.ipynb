{
  "cells": [
    {
      "cell_type": "markdown",
      "metadata": {
        "id": "view-in-github",
        "colab_type": "text"
      },
      "source": [
        "<a href=\"https://colab.research.google.com/github/saivardhan31/saivardhanreddy_INFO5731_Spring2022/blob/main/In_class_exercise_01_1_1.ipynb\" target=\"_parent\"><img src=\"https://colab.research.google.com/assets/colab-badge.svg\" alt=\"Open In Colab\"/></a>"
      ]
    },
    {
      "cell_type": "markdown",
      "metadata": {
        "id": "DymRJbxDBCnf"
      },
      "source": [
        "# **The first In-class-exercise (01/25/2022, 40 points in total)**"
      ]
    },
    {
      "cell_type": "markdown",
      "metadata": {
        "id": "03jb4GZsBkBS"
      },
      "source": [
        "(1) Write a Python program to calculate the length of a string. (4 points)"
      ]
    },
    {
      "cell_type": "code",
      "execution_count": null,
      "metadata": {
        "id": "YaGLbSHHB8Ej",
        "outputId": "f0162628-5a46-4386-9fa6-de7e672013f3"
      },
      "outputs": [
        {
          "data": {
            "text/plain": [
              "6"
            ]
          },
          "execution_count": 1,
          "metadata": {},
          "output_type": "execute_result"
        }
      ],
      "source": [
        "# write your answer here\n",
        "len(\"string\")"
      ]
    },
    {
      "cell_type": "markdown",
      "metadata": {
        "id": "jJDe71iLB616"
      },
      "source": [
        "(2) Write a Python program to count the number of characters in a string. (4 points)\n",
        "\n",
        "Sample String : 'google.com‘, \n",
        "\n",
        "Expected Result : {'o': 3, 'g': 2, '.': 1, 'e': 1, 'l': 1, 'm': 1, 'c': 1}"
      ]
    },
    {
      "cell_type": "code",
      "execution_count": null,
      "metadata": {
        "id": "MtKskTzbCLaU",
        "outputId": "1e00c95f-6eae-4c38-b223-d6b3d9d903a2"
      },
      "outputs": [
        {
          "name": "stdout",
          "output_type": "stream",
          "text": [
            "{'g': 2, 'o': 3, 'l': 1, 'e': 1, '.': 1, 'c': 1, 'm': 1}\n"
          ]
        }
      ],
      "source": [
        "# write your answer here\n",
        "print({ch:\"google.com\".count(ch) for ch in \"google.com\"})"
      ]
    },
    {
      "cell_type": "markdown",
      "metadata": {
        "id": "55W9AMdXCSpV"
      },
      "source": [
        "(3) Write a Python program to sum all the items in a list. (4 points)"
      ]
    },
    {
      "cell_type": "code",
      "execution_count": null,
      "metadata": {
        "id": "I57NXsauCec2",
        "outputId": "d085487c-5cf6-4ae9-bd01-48564bdb4b5d"
      },
      "outputs": [
        {
          "data": {
            "text/plain": [
              "15"
            ]
          },
          "execution_count": 3,
          "metadata": {},
          "output_type": "execute_result"
        }
      ],
      "source": [
        "# write your answer here\n",
        "sum([1, 2, 3, 4, 5])"
      ]
    },
    {
      "cell_type": "markdown",
      "metadata": {
        "id": "4ulBZ6yhCi9F"
      },
      "source": [
        "(4) Write a Python program to get a string from a given string where all occurrences of its first char have been changed to '\\$', except the first char itself. (4 points)\n",
        "\n",
        "Sample String : 'restart‘, \n",
        "\n",
        "Expected Result : 'resta\\$t'"
      ]
    },
    {
      "cell_type": "code",
      "execution_count": null,
      "metadata": {
        "id": "Fj0XhwbBCw2o",
        "outputId": "774805e3-82a7-42fc-d749-8d7d1812f664"
      },
      "outputs": [
        {
          "name": "stdout",
          "output_type": "stream",
          "text": [
            "resta$t\n"
          ]
        }
      ],
      "source": [
        "s = \"restart\"\n",
        "print(s[0]+s[1:].replace(s[0], \"$\"))"
      ]
    },
    {
      "cell_type": "markdown",
      "metadata": {
        "id": "_bIP7s1MCzue"
      },
      "source": [
        "(5) Write a program with python which could accept two parameter a and b to calculate and output the result of S, where \n",
        "\n",
        "$\\ S=3.14*(1+a/b)^3$ (4 points)\n",
        "\n"
      ]
    },
    {
      "cell_type": "code",
      "execution_count": null,
      "metadata": {
        "id": "w79QilHXD3Mg",
        "outputId": "0c92557a-367c-4141-91df-2dd1d7e849ed"
      },
      "outputs": [
        {
          "data": {
            "text/plain": [
              "14.537037037037033"
            ]
          },
          "execution_count": 5,
          "metadata": {},
          "output_type": "execute_result"
        }
      ],
      "source": [
        "# write your answer here\n",
        "S = lambda a, b: 3.14*((1+(a/b))**3)\n",
        "S(2, 3)"
      ]
    },
    {
      "cell_type": "markdown",
      "metadata": {
        "id": "xCa2bK9aD4Q3"
      },
      "source": [
        "(6) Write a Python program to concatenate following dictionaries to create a new one. (4 points)\n",
        "\n",
        "Sample Dictionary : dic1={1:10, 2:20}, dic2={3:30, 4:40}, dic3={5:50,6:60}, \n",
        "\n",
        "Expected Result : {1: 10, 2: 20, 3: 30, 4: 40, 5: 50, 6: 60}\n"
      ]
    },
    {
      "cell_type": "code",
      "execution_count": null,
      "metadata": {
        "id": "_z4aLqAbEET1",
        "outputId": "3ce0e4fc-7bee-4e4b-8091-67cc02f1d609"
      },
      "outputs": [
        {
          "name": "stdout",
          "output_type": "stream",
          "text": [
            "{1: 10, 2: 20, 3: 30, 4: 40, 5: 50, 6: 60}\n"
          ]
        }
      ],
      "source": [
        "# write your answer here\n",
        "dic1 = {1:10, 2:20}\n",
        "dic2 = {3:30, 4:40}\n",
        "dic3 = {5:50, 6:60}\n",
        "dic = dict()\n",
        "dic.update(dic1)\n",
        "dic.update(dic2)\n",
        "dic.update(dic3)\n",
        "print(dic)"
      ]
    },
    {
      "cell_type": "markdown",
      "metadata": {
        "id": "0v48Vqa7FrQh"
      },
      "source": [
        "(7) Write a Python program to check whether an element exists within a tuple. (4 points)"
      ]
    },
    {
      "cell_type": "code",
      "execution_count": null,
      "metadata": {
        "id": "7WEmgq-DF2P1",
        "outputId": "86ef8d18-8d88-455d-9f76-60972eb0b4a9"
      },
      "outputs": [
        {
          "data": {
            "text/plain": [
              "True"
            ]
          },
          "execution_count": 7,
          "metadata": {},
          "output_type": "execute_result"
        }
      ],
      "source": [
        "# write your answer here\n",
        "check = lambda tup, ele: ele in tup\n",
        "check((1, 2, 3, 4, 5), 1)"
      ]
    },
    {
      "cell_type": "markdown",
      "metadata": {
        "id": "vD5PYLMuGga_"
      },
      "source": [
        "(8) Write a Python program to find maximum and the minimum value in a set. (4 points)"
      ]
    },
    {
      "cell_type": "code",
      "execution_count": null,
      "metadata": {
        "id": "t0D5kdJUGjjw",
        "outputId": "33267e3d-19fe-4d11-ff34-ac9a73dbb419"
      },
      "outputs": [
        {
          "name": "stdout",
          "output_type": "stream",
          "text": [
            "5 1\n"
          ]
        }
      ],
      "source": [
        "# write your answer here\n",
        "s = {1, 2, 3, 4, 5}\n",
        "print(max(s), min(s))"
      ]
    },
    {
      "cell_type": "markdown",
      "metadata": {
        "id": "uHkd-y5VhVWC"
      },
      "source": [
        "(9) Write a Python program to randomly divide the students in this class into six groups for term projects, each group should have at least 4 students but no more than 6 students (including 6). Here is the students list: (4 points)\n",
        "\n",
        "studnet_list = ['ja0964','sa1198','sb1357','vb0218','sc1229','kg0569','kg0470','sg1297','bg0320','fh0141','jl1252','sk1386',\n",
        "           'ak0956','sk1390','sk1458','sk1313','ak0934','vm0377','nm0618','sm1640','sm1907','gn0108','pr0353','dr0609','ms1500','aos0040','ds0814', 'av0659','nv0234','hy0232']"
      ]
    },
    {
      "cell_type": "code",
      "execution_count": null,
      "metadata": {
        "id": "3iGbmcOBhTwy",
        "outputId": "8f0b0cfe-b5c1-4bcf-da62-72bb20be94f3"
      },
      "outputs": [
        {
          "data": {
            "text/plain": [
              "[['kg0569', 'bg0320', 'sk1458', 'ak0934', 'vb0218'],\n",
              " ['vm0377', 'sb1357', 'kg0470', 'aos0040', 'av0659'],\n",
              " ['fh0141', 'ms1500', 'nm0618', 'dr0609', 'hy0232'],\n",
              " ['sm1907', 'ds0814', 'sk1313', 'ja0964', 'nv0234'],\n",
              " ['sa1198', 'sk1386', 'sg1297', 'gn0108', 'sc1229'],\n",
              " ['pr0353', 'ak0956', 'sk1390', 'jl1252', 'sm1640']]"
            ]
          },
          "execution_count": 9,
          "metadata": {},
          "output_type": "execute_result"
        }
      ],
      "source": [
        "# write your answer here\n",
        "studnet_list = ['ja0964','sa1198','sb1357','vb0218','sc1229','kg0569','kg0470','sg1297','bg0320','fh0141','jl1252','sk1386','ak0956','sk1390','sk1458','sk1313','ak0934','vm0377','nm0618','sm1640','sm1907','gn0108','pr0353','dr0609','ms1500','aos0040','ds0814', 'av0659','nv0234','hy0232']\n",
        "from random import shuffle\n",
        "at = int(len(studnet_list)/6)\n",
        "shuffle(studnet_list)\n",
        "[studnet_list[i:i + at] for i in range(0, len(studnet_list), at)]"
      ]
    },
    {
      "cell_type": "markdown",
      "metadata": {
        "id": "SXX9onGKjcM8"
      },
      "source": [
        "(10) Write a Python program to find the duplicate elements in a given array of integers. Return -1 If there are no such elements. (4 points)"
      ]
    },
    {
      "cell_type": "code",
      "execution_count": null,
      "metadata": {
        "id": "lbFyma3CjcM8",
        "outputId": "3a1174bf-e8ad-4037-c77b-055ef456f016"
      },
      "outputs": [
        {
          "data": {
            "text/plain": [
              "-1"
            ]
          },
          "execution_count": 10,
          "metadata": {},
          "output_type": "execute_result"
        }
      ],
      "source": [
        "# write your answer here\n",
        "duplicate = lambda l: -1 if len(l) == len(set(l)) else 0\n",
        "duplicate((1, 2, 3, 4, 5))"
      ]
    },
    {
      "cell_type": "markdown",
      "metadata": {
        "id": "RUwDLPV9jcM8"
      },
      "source": [
        "(11) Write a Python program to select all the Sundays of a specified year. (4 extra points)"
      ]
    },
    {
      "cell_type": "code",
      "execution_count": null,
      "metadata": {
        "id": "gYY4R0Z6jcM8",
        "outputId": "4130caa3-377b-4835-b991-71317efaf880"
      },
      "outputs": [
        {
          "data": {
            "text/plain": [
              "['01/02/2022',\n",
              " '01/09/2022',\n",
              " '01/16/2022',\n",
              " '01/23/2022',\n",
              " '01/30/2022',\n",
              " '02/06/2022',\n",
              " '02/13/2022',\n",
              " '02/20/2022',\n",
              " '02/27/2022',\n",
              " '03/06/2022',\n",
              " '03/13/2022',\n",
              " '03/20/2022',\n",
              " '03/27/2022',\n",
              " '04/03/2022',\n",
              " '04/10/2022',\n",
              " '04/17/2022',\n",
              " '04/24/2022',\n",
              " '05/01/2022',\n",
              " '05/08/2022',\n",
              " '05/15/2022',\n",
              " '05/22/2022',\n",
              " '05/29/2022',\n",
              " '06/05/2022',\n",
              " '06/12/2022',\n",
              " '06/19/2022',\n",
              " '06/26/2022',\n",
              " '07/03/2022',\n",
              " '07/10/2022',\n",
              " '07/17/2022',\n",
              " '07/24/2022',\n",
              " '07/31/2022',\n",
              " '08/07/2022',\n",
              " '08/14/2022',\n",
              " '08/21/2022',\n",
              " '08/28/2022',\n",
              " '09/04/2022',\n",
              " '09/11/2022',\n",
              " '09/18/2022',\n",
              " '09/25/2022',\n",
              " '10/02/2022',\n",
              " '10/09/2022',\n",
              " '10/16/2022',\n",
              " '10/23/2022',\n",
              " '10/30/2022',\n",
              " '11/06/2022',\n",
              " '11/13/2022',\n",
              " '11/20/2022',\n",
              " '11/27/2022',\n",
              " '12/04/2022',\n",
              " '12/11/2022',\n",
              " '12/18/2022',\n",
              " '12/25/2022',\n",
              " '01/01/2023']"
            ]
          },
          "execution_count": 11,
          "metadata": {},
          "output_type": "execute_result"
        }
      ],
      "source": [
        "# write your answer here\n",
        "import pandas as pd\n",
        "sundays = lambda year: pd.date_range(start=str(year), end=str(year+1), freq='W-SUN').strftime('%m/%d/%Y').tolist()\n",
        "sundays(2022)"
      ]
    }
  ],
  "metadata": {
    "colab": {
      "collapsed_sections": [],
      "name": "In_class_exercise_01-1-1.ipynb",
      "provenance": [],
      "include_colab_link": true
    },
    "kernelspec": {
      "display_name": "Python 3",
      "language": "python",
      "name": "python3"
    },
    "language_info": {
      "codemirror_mode": {
        "name": "ipython",
        "version": 3
      },
      "file_extension": ".py",
      "mimetype": "text/x-python",
      "name": "python",
      "nbconvert_exporter": "python",
      "pygments_lexer": "ipython3",
      "version": "3.8.11"
    }
  },
  "nbformat": 4,
  "nbformat_minor": 0
}