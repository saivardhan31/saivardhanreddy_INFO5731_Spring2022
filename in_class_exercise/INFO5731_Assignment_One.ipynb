{
 "cells": [
  {
   "cell_type": "markdown",
   "metadata": {
    "colab_type": "text",
    "id": "view-in-github"
   },
   "source": [
    "<a href=\"https://colab.research.google.com/github/unt-iialab/INFO5731_Spring2020/blob/master/Assignments/INFO5731_Assignment_One.ipynb\" target=\"_parent\"><img src=\"https://colab.research.google.com/assets/colab-badge.svg\" alt=\"Open In Colab\"/></a>"
   ]
  },
  {
   "cell_type": "markdown",
   "metadata": {
    "colab_type": "text",
    "id": "Ryk8D1Q4Wsrp"
   },
   "source": [
    "# **INFO5731 Assignment One**"
   ]
  },
  {
   "cell_type": "markdown",
   "metadata": {
    "colab_type": "text",
    "id": "90_NR8c5XGWc"
   },
   "source": [
    "# Question 1\n",
    "\n",
    "(20 points). Write a Python program to generate 12 random numbers between 1 and 100. Sort the list of numbers in ascending order and print it out. Sort the list of numbers in descending order and print it out. Calculate the average for the group and print it out."
   ]
  },
  {
   "cell_type": "code",
   "execution_count": 1,
   "metadata": {
    "colab": {},
    "colab_type": "code",
    "id": "5QX6bJjGWXY9"
   },
   "outputs": [
    {
     "name": "stdout",
     "output_type": "stream",
     "text": [
      "[94, 93, 89, 75, 68, 58, 57, 50, 37, 35, 33, 29]\n"
     ]
    }
   ],
   "source": [
    "# Your code here\n",
    "from random import sample\n",
    "\n",
    "random_list = sample(range(1, 100), 12)\n",
    "desc_sorted_random_list = sorted(random_list, reverse=True)\n",
    "print(desc_sorted_random_list)"
   ]
  },
  {
   "cell_type": "markdown",
   "metadata": {
    "colab_type": "text",
    "id": "1F_PZdH9Sh49"
   },
   "source": [
    "# Question 2\n",
    "(25 points). Write a program that will do the following string formatting tasks:\n",
    "\n",
    "(1) Ask the user to enter two sentences.\n",
    "\n",
    "(2) Make each sentence into a list. Each element in the list should correspond to a word in the sentence. For example, if the sentence is \"Alas! Am I alive? This is my first python program\", the program should print out ['Alas, '!', 'Am', 'I', 'alive, '?', 'This', 'is', 'my', 'first', 'python', 'program'].\n",
    "\n",
    "(3) Compare the two sentences. Print out a list of words that occur in both sentences.\n",
    "\n",
    "(4) Remove any punctuation from the sentence and print it back out. It should remove at least the following characters, but it can remove more: period(“.”), comma (“,”), semicolon (“;”), and colon (“:”)\n",
    "\n",
    "(5) Count the number of vowels in the sentences. Print out each vowel and the number of times it appears in the sentences, such as: a:2, e:1, i:0, etc"
   ]
  },
  {
   "cell_type": "code",
   "execution_count": 2,
   "metadata": {
    "colab": {},
    "colab_type": "code",
    "id": "Y0oOSlsOS0cq"
   },
   "outputs": [
    {
     "name": "stdout",
     "output_type": "stream",
     "text": [
      "Ask the user to enter two sentences.\n",
      "Compare the two sentences.\n",
      "['Ask', 'the', 'user', 'to', 'enter', 'two', 'sentences.']\n",
      "['Compare', 'the', 'two', 'sentences.']\n",
      "['the', 'two', 'sentences.']\n",
      "Ask the user to enter two sentences\n",
      "Compare the two sentences\n",
      "{'a': 1, 'e': 7, 'i': 0, 'o': 2, 'u': 1}\n",
      "{'a': 1, 'e': 5, 'i': 0, 'o': 2, 'u': 0}\n"
     ]
    }
   ],
   "source": [
    "# Your code here\n",
    "from re import sub \n",
    "\n",
    "# Question 1\n",
    "first_sentence = input('enter your first sentence: ')\n",
    "print(first_sentence)\n",
    "second_sentence = input('enter your second sentence: ')\n",
    "print(second_sentence)\n",
    "\n",
    "# Question 2\n",
    "first_sentence_list = first_sentence.split()\n",
    "print(first_sentence_list)\n",
    "second_sentence_list = second_sentence.split()\n",
    "print(second_sentence_list)\n",
    "\n",
    "# Question 3\n",
    "common_words = list(set(first_sentence_list) & set(second_sentence_list))\n",
    "print(common_words)\n",
    "\n",
    "# Question 4\n",
    "print(sub(r'[^\\w\\s]', '', first_sentence))\n",
    "print(sub(r'[^\\w\\s]', '', second_sentence))\n",
    "\n",
    "# Question 5\n",
    "def vowel_count(sentence):\n",
    "    count = {'a': 0, 'e': 0, 'i': 0, 'o': 0, 'u': 0}\n",
    "    for character in sentence.lower():\n",
    "        if character in count.keys():\n",
    "            count[character] += 1\n",
    "    return count\n",
    "\n",
    "print(vowel_count(first_sentence))\n",
    "print(vowel_count(second_sentence))\n"
   ]
  },
  {
   "cell_type": "markdown",
   "metadata": {
    "colab_type": "text",
    "id": "CmFoI4jDS9nx"
   },
   "source": [
    "# Question 3 \n",
    "\n",
    "(15 points). The formula that describes the volume V of a sphere with radius r is the following:\n",
    "\n",
    "$ V=\\frac{4}{3}\\ast\\ \\pi\\ast\\ r^3 $\n",
    "\n",
    "Write a program to calculate the value of V when r is in the range of 1–10. Output the result in the following format:\n",
    "\n",
    "\tr\tV\n",
    "\t1\t…\n",
    "\t2\t…\n",
    "\t3\t…\n"
   ]
  },
  {
   "cell_type": "code",
   "execution_count": 3,
   "metadata": {
    "colab": {},
    "colab_type": "code",
    "id": "pEyqeioAT95b"
   },
   "outputs": [
    {
     "name": "stdout",
     "output_type": "stream",
     "text": [
      "Volume of Sphere for radius 1 is 4.1887902047863905\n",
      "Volume of Sphere for radius 2 is 33.510321638291124\n",
      "Volume of Sphere for radius 3 is 113.09733552923254\n",
      "Volume of Sphere for radius 4 is 268.082573106329\n",
      "Volume of Sphere for radius 5 is 523.5987755982989\n",
      "Volume of Sphere for radius 6 is 904.7786842338603\n",
      "Volume of Sphere for radius 7 is 1436.7550402417319\n",
      "Volume of Sphere for radius 8 is 2144.660584850632\n",
      "Volume of Sphere for radius 9 is 3053.6280592892786\n",
      "Volume of Sphere for radius 10 is 4188.790204786391\n"
     ]
    }
   ],
   "source": [
    "# Your code here\n",
    "from math import pi\n",
    "\n",
    "for r in range(1, 11):\n",
    "    print('Volume of Sphere for radius {} is {}'.format(r, (4/3)*pi*(r**3)))"
   ]
  },
  {
   "cell_type": "markdown",
   "metadata": {
    "colab_type": "text",
    "id": "z3tBE7E-Xn5X"
   },
   "source": [
    "# Question 4\n",
    "\n",
    "(40 points). In the field of Data Science, data is often formatted as a comma-delimited (CSV) file, where each line in a file corresponds to a field's value. Refer to Chapter 9 (p. 106) for more information on comma-delimited files. To answer this question, you will need to download the file [Assignment1_denton_housing.csv](https://raw.githubusercontent.com/unt-iialab/info5731-spring2022/main/assignments/Assignment1_denton_housing.csv) included with this assignment. The file [Assignment1_denton_housing.csv](https://raw.githubusercontent.com/unt-iialab/info5731-spring2022/main/assignments/Assignment1_denton_housing.csv) contains statistics about housing in the city of Denton from 2008 to 2014. Write a program to implement the following questions.\n",
    "\n",
    "(1) (10 pts) Calculate the difference in the number of Occupied Housing Units from year to year and print it. The difference must be calculated for the consecutive years such as 2008-2009, 2009-2010 etc. Finally, print the values in the ascending order.\n",
    "\n",
    "(2) (10 pts) For all the years, calculate the percentage of housing units which are vacant an occupied. Print the results in the following format:\n",
    "\n",
    "Year Vacant Housing Units Occupied Housing Units\n",
    "\n",
    "    2008  30%   70%                          \n",
    "\t2009 ----- -----\n",
    "\t2010 ----- -----\n",
    "    2011 ----- -----\n",
    "\t2012 ----- -----\n",
    "    2013 ----- -----\n",
    "\t2014 ----- -----\n",
    "  \n",
    "  \n",
    "\n",
    "(3) (10 pts) Calculate and print the valued and years in which the highest number of housing units were vacant and occupied. Print the results in the following format:  \n",
    "\n",
    "                              Year\tValue\n",
    "\tVacant Housing Units\t  -----   -----\n",
    "\tOccupied Housing Units\t-----   -----\n",
    "\n",
    "(4) (10 pts) Calculate the harmonic mean of the total housing units and print it out. You can find the information about harmonic mean here: https://ncalculators.com/statistics/harmonic-mean-calculator.htm"
   ]
  },
  {
   "cell_type": "code",
   "execution_count": 4,
   "metadata": {
    "colab": {},
    "colab_type": "code",
    "id": "lqGYuHBhcsRH"
   },
   "outputs": [
    {
     "name": "stdout",
     "output_type": "stream",
     "text": [
      "title_field  Median Gross Rent  Occupied Housing Units  Owner Occupied  \\\n",
      "year                                                                     \n",
      "2008                       768                   36711           17340   \n",
      "2009                       769                   35916           18057   \n",
      "2010                       780                   41007           18867   \n",
      "2011                       821                   40704           18478   \n",
      "2012                       842                   42108           20068   \n",
      "2013                       887                   43673           20845   \n",
      "2014                       905                   46295           21427   \n",
      "\n",
      "title_field  Renter Occupied  Total Housing Units  Vacant Housing Units  \n",
      "year                                                                     \n",
      "2008                   19371                41194                  4483  \n",
      "2009                   17859                39499                  3583  \n",
      "2010                   22140                44642                  3635  \n",
      "2011                   22226                44917                  4213  \n",
      "2012                   22040                45121                  3013  \n",
      "2013                   22828                47888                  4215  \n",
      "2014                   24868                49109                  2814  \n",
      "year\n",
      "2008       NaN\n",
      "2009    -795.0\n",
      "2010    5091.0\n",
      "2011    -303.0\n",
      "2012    1404.0\n",
      "2013    1565.0\n",
      "2014    2622.0\n",
      "Name: Occupied Housing Units, dtype: float64\n",
      "title_field  Occupied Housing Units Percentage  \\\n",
      "year                                             \n",
      "2008                                 89.117347   \n",
      "2009                                 90.928884   \n",
      "2010                                 91.857444   \n",
      "2011                                 90.620478   \n",
      "2012                                 93.322400   \n",
      "2013                                 91.198212   \n",
      "2014                                 94.269889   \n",
      "\n",
      "title_field  Vacant Housing Units Percentage  \n",
      "year                                          \n",
      "2008                               10.882653  \n",
      "2009                                9.071116  \n",
      "2010                                8.142556  \n",
      "2011                                9.379522  \n",
      "2012                                6.677600  \n",
      "2013                                8.801788  \n",
      "2014                                5.730111  \n",
      "2014\n",
      "2008\n",
      "44398.28543969185\n"
     ]
    }
   ],
   "source": [
    "# Your code here\n",
    "import pandas as pd\n",
    "from statistics import harmonic_mean\n",
    "\n",
    "df = pd.read_csv('https://raw.githubusercontent.com/unt-iialab/info5731-spring2022/main/assignments/Assignment1_denton_housing.csv')\n",
    "table = pd.pivot_table(df, values='value', index=['year'], columns=['title_field'])\n",
    "print(table)\n",
    "\n",
    "# Question 1\n",
    "print(table['Occupied Housing Units'].diff())\n",
    "\n",
    "# Question 2\n",
    "table['Occupied Housing Units Percentage'] = (table['Occupied Housing Units']/table['Total Housing Units']) * 100\n",
    "table['Vacant Housing Units Percentage'] = (table['Vacant Housing Units']/table['Total Housing Units']) * 100\n",
    "print(table[['Occupied Housing Units Percentage', 'Vacant Housing Units Percentage']])\n",
    "\n",
    "# Question 3\n",
    "print(table['Occupied Housing Units'].idxmax())\n",
    "print(table['Vacant Housing Units'].idxmax())\n",
    "\n",
    "# Question 4\n",
    "print(harmonic_mean(table['Total Housing Units']))\n"
   ]
  }
 ],
 "metadata": {
  "colab": {
   "authorship_tag": "ABX9TyOAjsNCkNulTpzgRQbHdy3f",
   "collapsed_sections": [],
   "include_colab_link": true,
   "name": "INFO5731_Assignment_One.ipynb",
   "provenance": []
  },
  "kernelspec": {
   "display_name": "Python 3",
   "language": "python",
   "name": "python3"
  },
  "language_info": {
   "codemirror_mode": {
    "name": "ipython",
    "version": 3
   },
   "file_extension": ".py",
   "mimetype": "text/x-python",
   "name": "python",
   "nbconvert_exporter": "python",
   "pygments_lexer": "ipython3",
   "version": "3.8.11"
  }
 },
 "nbformat": 4,
 "nbformat_minor": 1
}
